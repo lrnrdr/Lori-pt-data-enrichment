{
 "cells": [
  {
   "cell_type": "code",
   "execution_count": 1,
   "id": "86d88b70-1aa2-40f7-8ba5-944dbeb2cc9a",
   "metadata": {},
   "outputs": [
    {
     "name": "stdout",
     "output_type": "stream",
     "text": [
      "Requirement already satisfied: tmdbsimple in c:\\users\\rdrlr\\anaconda3\\envs\\dojo-env\\lib\\site-packages (2.9.1)\n",
      "Requirement already satisfied: requests in c:\\users\\rdrlr\\anaconda3\\envs\\dojo-env\\lib\\site-packages (from tmdbsimple) (2.29.0)\n",
      "Requirement already satisfied: charset-normalizer<4,>=2 in c:\\users\\rdrlr\\anaconda3\\envs\\dojo-env\\lib\\site-packages (from requests->tmdbsimple) (2.0.4)\n",
      "Requirement already satisfied: idna<4,>=2.5 in c:\\users\\rdrlr\\anaconda3\\envs\\dojo-env\\lib\\site-packages (from requests->tmdbsimple) (3.4)\n",
      "Requirement already satisfied: urllib3<1.27,>=1.21.1 in c:\\users\\rdrlr\\anaconda3\\envs\\dojo-env\\lib\\site-packages (from requests->tmdbsimple) (1.26.15)\n",
      "Requirement already satisfied: certifi>=2017.4.17 in c:\\users\\rdrlr\\anaconda3\\envs\\dojo-env\\lib\\site-packages (from requests->tmdbsimple) (2023.5.7)\n"
     ]
    }
   ],
   "source": [
    "!pip install tmdbsimple"
   ]
  },
  {
   "cell_type": "code",
   "execution_count": 2,
   "id": "b902791e-5ca4-4f4d-a709-a94a25aa73e9",
   "metadata": {},
   "outputs": [
    {
     "data": {
      "text/plain": [
       "dict_keys(['api-key'])"
      ]
     },
     "execution_count": 2,
     "metadata": {},
     "output_type": "execute_result"
    }
   ],
   "source": [
    "# Using API Credentials\n",
    "import json\n",
    "with open('/Users/rdrlr/.secret/tmdb_api.json', 'r') as f:\n",
    "    login = json.load(f)\n",
    "## Display the keys of the loaded dict\n",
    "login.keys()\n"
   ]
  },
  {
   "cell_type": "code",
   "execution_count": 3,
   "id": "ce9dd148-ec48-417e-98ce-4fedd61f31c1",
   "metadata": {},
   "outputs": [],
   "source": [
    "# After installing tmdbsimple above, import the package \n",
    "# and set the API_KEY variable to the \"API Key(v3 auth)\" entry from your Settings page\n",
    "import tmdbsimple as tmdb\n",
    "tmdb.API_KEY =  login['api-key']"
   ]
  },
  {
   "cell_type": "code",
   "execution_count": 4,
   "id": "45f8aa7f-45f0-4508-aabb-4adab79fd7cf",
   "metadata": {},
   "outputs": [
    {
     "data": {
      "text/plain": [
       "<tmdbsimple.movies.Movies at 0x2b8f8ee7430>"
      ]
     },
     "execution_count": 4,
     "metadata": {},
     "output_type": "execute_result"
    }
   ],
   "source": [
    "# create a movie object using the .Movies function from tmdb\n",
    "# Next, you can use the MovieID with the tmdb.Movies() function to create a movie instance. \n",
    "# This is just an example that arbitrarily uses the movie with the ID of 603 (The Matrix)\n",
    "movie = tmdb.Movies(603)\n",
    "movie"
   ]
  },
  {
   "cell_type": "code",
   "execution_count": 5,
   "id": "ad06ce33-9be6-43db-8bd3-80fecf68093f",
   "metadata": {},
   "outputs": [
    {
     "data": {
      "text/plain": [
       "{'adult': False,\n",
       " 'backdrop_path': '/giBJ0ezYNEobFBfB8H4JNTjmll.jpg',\n",
       " 'belongs_to_collection': {'id': 2344,\n",
       "  'name': 'The Matrix Collection',\n",
       "  'poster_path': '/bV9qTVHTVf0gkW0j7p7M0ILD4pG.jpg',\n",
       "  'backdrop_path': '/bRm2DEgUiYciDw3myHuYFInD7la.jpg'},\n",
       " 'budget': 63000000,\n",
       " 'genres': [{'id': 28, 'name': 'Action'},\n",
       "  {'id': 878, 'name': 'Science Fiction'}],\n",
       " 'homepage': 'http://www.warnerbros.com/matrix',\n",
       " 'id': 603,\n",
       " 'imdb_id': 'tt0133093',\n",
       " 'original_language': 'en',\n",
       " 'original_title': 'The Matrix',\n",
       " 'overview': 'Set in the 22nd century, The Matrix tells the story of a computer hacker who joins a group of underground insurgents fighting the vast and powerful computers who now rule the earth.',\n",
       " 'popularity': 103.888,\n",
       " 'poster_path': '/f89U3ADr1oiB1s9GkdPOEpXUk5H.jpg',\n",
       " 'production_companies': [{'id': 79,\n",
       "   'logo_path': '/at4uYdwAAgNRKhZuuFX8ShKSybw.png',\n",
       "   'name': 'Village Roadshow Pictures',\n",
       "   'origin_country': 'US'},\n",
       "  {'id': 372,\n",
       "   'logo_path': None,\n",
       "   'name': 'Groucho II Film Partnership',\n",
       "   'origin_country': ''},\n",
       "  {'id': 1885,\n",
       "   'logo_path': '/xlvoOZr4s1PygosrwZyolIFe5xs.png',\n",
       "   'name': 'Silver Pictures',\n",
       "   'origin_country': 'US'},\n",
       "  {'id': 174,\n",
       "   'logo_path': '/IuAlhI9eVC9Z8UQWOIDdWRKSEJ.png',\n",
       "   'name': 'Warner Bros. Pictures',\n",
       "   'origin_country': 'US'}],\n",
       " 'production_countries': [{'iso_3166_1': 'US',\n",
       "   'name': 'United States of America'}],\n",
       " 'release_date': '1999-03-30',\n",
       " 'revenue': 463517383,\n",
       " 'runtime': 136,\n",
       " 'spoken_languages': [{'english_name': 'English',\n",
       "   'iso_639_1': 'en',\n",
       "   'name': 'English'}],\n",
       " 'status': 'Released',\n",
       " 'tagline': 'The fight for the future begins.',\n",
       " 'title': 'The Matrix',\n",
       " 'video': False,\n",
       " 'vote_average': 8.21,\n",
       " 'vote_count': 24172}"
      ]
     },
     "execution_count": 5,
     "metadata": {},
     "output_type": "execute_result"
    }
   ],
   "source": [
    "# The data for the movie can be extracted as a dictionary by running the info() method on the movie object.\n",
    "# movie objects have a .info dictionary \n",
    "# we are looking for the 3 budget, revenue, cerification (P, PG, etc)\n",
    "# once it runs find these 3 items and take a look at them to get an idea what what we are working with\n",
    "info = movie.info()\n",
    "info"
   ]
  },
  {
   "cell_type": "code",
   "execution_count": 6,
   "id": "536fb098-4cfa-4cc4-b50f-67ef4a1143a1",
   "metadata": {},
   "outputs": [
    {
     "data": {
      "text/plain": [
       "63000000"
      ]
     },
     "execution_count": 6,
     "metadata": {},
     "output_type": "execute_result"
    }
   ],
   "source": [
    "# since we are only asked to find 3 pieice of info for each movie in the instructions\n",
    "# we will use info to check only budget, revenue, cerification (P, PG, etc) as requested\n",
    "info['budget']"
   ]
  },
  {
   "cell_type": "code",
   "execution_count": 7,
   "id": "0171dcde-9e86-4b56-bcb2-4f139dab9c78",
   "metadata": {},
   "outputs": [
    {
     "data": {
      "text/plain": [
       "463517383"
      ]
     },
     "execution_count": 7,
     "metadata": {},
     "output_type": "execute_result"
    }
   ],
   "source": [
    "info['revenue']"
   ]
  },
  {
   "cell_type": "code",
   "execution_count": 8,
   "id": "048b9a1d-5fe4-4009-ba81-5f94ac2f0ac4",
   "metadata": {},
   "outputs": [
    {
     "data": {
      "text/plain": [
       "'tt0133093'"
      ]
     },
     "execution_count": 8,
     "metadata": {},
     "output_type": "execute_result"
    }
   ],
   "source": [
    "# this will be movie id that we will use later\n",
    "# Notice that the .info() includes \"imbdb_id,\" \n",
    "# which we can use to match with our existing data frame of movies! \n",
    "#You will recognize the \"tt\" numbers from IMDb.\n",
    "info['imdb_id']"
   ]
  },
  {
   "cell_type": "markdown",
   "id": "6a101969-3c26-464f-9f37-fd12adbb59db",
   "metadata": {},
   "source": [
    "    - Try searching by the IMDb number. For example, what was the budget of Tom and Jerry withc had IMDb id of ttl361336"
   ]
  },
  {
   "cell_type": "code",
   "execution_count": 9,
   "id": "3f419d55-be87-4526-8094-674073d19732",
   "metadata": {},
   "outputs": [
    {
     "data": {
      "text/plain": [
       "50000000"
      ]
     },
     "execution_count": 9,
     "metadata": {},
     "output_type": "execute_result"
    }
   ],
   "source": [
    "# specify any movie id on top in this case it was Tom and jerry\n",
    "# ['budget'] of this particual id wil give us the budget for this movie id for tom and jerry\n",
    "# Searching by IMDB_ID will allow us to make API calls for the specific movies we have already \n",
    "# filtered out from the IMDB database in the first part of our project!\n",
    "movie = tmdb.Movies('tt1361336')\n",
    "info = movie.info()\n",
    "info['budget']"
   ]
  },
  {
   "cell_type": "markdown",
   "id": "5dcbea9a-5abb-40bd-ba47-ab24090ac2d9",
   "metadata": {},
   "source": [
    "## Saving the Movie Certification/MPAA Rating"
   ]
  },
  {
   "cell_type": "markdown",
   "id": "2514e68f-034e-4558-916b-00f13c2c3429",
   "metadata": {},
   "source": [
    "While MOST of the data we are interested in is stored in the .info(), the certification rating is not."
   ]
  },
  {
   "cell_type": "markdown",
   "id": "7ac4e46e-b8f7-436d-a18e-413229d4e98e",
   "metadata": {},
   "source": [
    "The README for the package's repository shows how to obtain this information:"
   ]
  },
  {
   "cell_type": "code",
   "execution_count": 10,
   "id": "45bc2342-8c1e-4fef-947c-1cb81ebebe02",
   "metadata": {},
   "outputs": [
    {
     "name": "stdout",
     "output_type": "stream",
     "text": [
      "PG\n",
      "PG\n",
      "PG\n"
     ]
    }
   ],
   "source": [
    "# certification information must be found by connecting to a movie then you will see the certification\n",
    "# # source = https://github.com/celiao/tmdbsimple\n",
    "# it lets us know to look up releases\n",
    "# this filter by iso_3166_1 which is only us movies \n",
    "# This code below will print the rating of the movie if it is in the US. \n",
    "# (Recall that one specification for this project was that all of our movies are US movies, \n",
    "#  but this is more generalizable for future projects where that may not be the case).\n",
    "\n",
    "releases = movie.releases()\n",
    "for c in releases['countries']:\n",
    "    if c['iso_3166_1'] == 'US':\n",
    "        print(c['certification'])"
   ]
  },
  {
   "cell_type": "code",
   "execution_count": 11,
   "id": "bf1386ad-4715-43a6-b5d5-00d31791eb5f",
   "metadata": {},
   "outputs": [
    {
     "data": {
      "text/plain": [
       "{'id': 587807,\n",
       " 'countries': [{'certification': 'PG',\n",
       "   'descriptors': [],\n",
       "   'iso_3166_1': 'US',\n",
       "   'primary': False,\n",
       "   'release_date': '2021-02-26'},\n",
       "  {'certification': '',\n",
       "   'descriptors': [],\n",
       "   'iso_3166_1': 'CO',\n",
       "   'primary': False,\n",
       "   'release_date': '2021-02-12'},\n",
       "  {'certification': 'PG',\n",
       "   'descriptors': [],\n",
       "   'iso_3166_1': 'US',\n",
       "   'primary': False,\n",
       "   'release_date': '2021-02-26'},\n",
       "  {'certification': 'ALL',\n",
       "   'descriptors': [],\n",
       "   'iso_3166_1': 'KR',\n",
       "   'primary': False,\n",
       "   'release_date': '2021-02-24'},\n",
       "  {'certification': '',\n",
       "   'descriptors': [],\n",
       "   'iso_3166_1': 'ID',\n",
       "   'primary': False,\n",
       "   'release_date': '2021-03-10'},\n",
       "  {'certification': '6',\n",
       "   'descriptors': [],\n",
       "   'iso_3166_1': 'NL',\n",
       "   'primary': False,\n",
       "   'release_date': '2021-06-09'},\n",
       "  {'certification': 'G',\n",
       "   'descriptors': [],\n",
       "   'iso_3166_1': 'IE',\n",
       "   'primary': False,\n",
       "   'release_date': '2021-05-07'},\n",
       "  {'certification': 'M/6',\n",
       "   'descriptors': [],\n",
       "   'iso_3166_1': 'PT',\n",
       "   'primary': False,\n",
       "   'release_date': '2021-03-04'},\n",
       "  {'certification': '6+',\n",
       "   'descriptors': [],\n",
       "   'iso_3166_1': 'RU',\n",
       "   'primary': False,\n",
       "   'release_date': '2021-02-25'},\n",
       "  {'certification': 'L',\n",
       "   'descriptors': [],\n",
       "   'iso_3166_1': 'BR',\n",
       "   'primary': False,\n",
       "   'release_date': '2021-02-11'},\n",
       "  {'certification': 'PG',\n",
       "   'descriptors': [],\n",
       "   'iso_3166_1': 'GB',\n",
       "   'primary': False,\n",
       "   'release_date': '2021-03-25'},\n",
       "  {'certification': '7',\n",
       "   'descriptors': [],\n",
       "   'iso_3166_1': 'DK',\n",
       "   'primary': False,\n",
       "   'release_date': '2021-02-11'},\n",
       "  {'certification': 'G',\n",
       "   'descriptors': [],\n",
       "   'iso_3166_1': 'AU',\n",
       "   'primary': False,\n",
       "   'release_date': '2021-04-01'},\n",
       "  {'certification': 'PG',\n",
       "   'descriptors': [],\n",
       "   'iso_3166_1': 'GB',\n",
       "   'primary': False,\n",
       "   'release_date': '2021-05-24'},\n",
       "  {'certification': '',\n",
       "   'descriptors': [],\n",
       "   'iso_3166_1': 'HK',\n",
       "   'primary': False,\n",
       "   'release_date': '2021-03-11'},\n",
       "  {'certification': 'U',\n",
       "   'descriptors': [],\n",
       "   'iso_3166_1': 'FR',\n",
       "   'primary': False,\n",
       "   'release_date': '2021-05-19'},\n",
       "  {'certification': 'Btl',\n",
       "   'descriptors': [],\n",
       "   'iso_3166_1': 'SE',\n",
       "   'primary': False,\n",
       "   'release_date': '2021-05-28'},\n",
       "  {'certification': '0',\n",
       "   'descriptors': [],\n",
       "   'iso_3166_1': 'DE',\n",
       "   'primary': False,\n",
       "   'release_date': '2021-06-17'},\n",
       "  {'certification': '',\n",
       "   'descriptors': [],\n",
       "   'iso_3166_1': 'CZ',\n",
       "   'primary': False,\n",
       "   'release_date': '2021-06-10'},\n",
       "  {'certification': 'G',\n",
       "   'descriptors': [],\n",
       "   'iso_3166_1': 'AU',\n",
       "   'primary': False,\n",
       "   'release_date': '2021-06-01'},\n",
       "  {'certification': 'G',\n",
       "   'descriptors': [],\n",
       "   'iso_3166_1': 'NZ',\n",
       "   'primary': False,\n",
       "   'release_date': '2021-06-01'},\n",
       "  {'certification': 'G',\n",
       "   'descriptors': [],\n",
       "   'iso_3166_1': 'AU',\n",
       "   'primary': False,\n",
       "   'release_date': '2021-06-21'},\n",
       "  {'certification': 'U',\n",
       "   'descriptors': [],\n",
       "   'iso_3166_1': 'SK',\n",
       "   'primary': False,\n",
       "   'release_date': '2021-05-27'},\n",
       "  {'certification': 'V',\n",
       "   'descriptors': [],\n",
       "   'iso_3166_1': 'LT',\n",
       "   'primary': False,\n",
       "   'release_date': '2021-05-07'},\n",
       "  {'certification': '6',\n",
       "   'descriptors': [],\n",
       "   'iso_3166_1': 'HU',\n",
       "   'primary': False,\n",
       "   'release_date': '2021-05-20'},\n",
       "  {'certification': 'PG',\n",
       "   'descriptors': [],\n",
       "   'iso_3166_1': 'US',\n",
       "   'primary': False,\n",
       "   'release_date': '2021-05-18'},\n",
       "  {'certification': '',\n",
       "   'descriptors': [],\n",
       "   'iso_3166_1': 'PL',\n",
       "   'primary': False,\n",
       "   'release_date': '2021-06-11'},\n",
       "  {'certification': '',\n",
       "   'descriptors': [],\n",
       "   'iso_3166_1': 'CA',\n",
       "   'primary': False,\n",
       "   'release_date': '2021-07-31'},\n",
       "  {'certification': '7',\n",
       "   'descriptors': [],\n",
       "   'iso_3166_1': 'ES',\n",
       "   'primary': False,\n",
       "   'release_date': '2021-03-26'},\n",
       "  {'certification': 'U',\n",
       "   'descriptors': [],\n",
       "   'iso_3166_1': 'FR',\n",
       "   'primary': False,\n",
       "   'release_date': '2021-09-16'},\n",
       "  {'certification': 'U',\n",
       "   'descriptors': [],\n",
       "   'iso_3166_1': 'FR',\n",
       "   'primary': False,\n",
       "   'release_date': '2021-09-22'},\n",
       "  {'certification': 'PG',\n",
       "   'descriptors': [],\n",
       "   'iso_3166_1': 'SG',\n",
       "   'primary': False,\n",
       "   'release_date': '2021-02-11'},\n",
       "  {'certification': 'U',\n",
       "   'descriptors': [],\n",
       "   'iso_3166_1': 'FR',\n",
       "   'primary': False,\n",
       "   'release_date': '2022-02-16'},\n",
       "  {'certification': 'Κ',\n",
       "   'descriptors': [],\n",
       "   'iso_3166_1': 'GR',\n",
       "   'primary': False,\n",
       "   'release_date': '2021-06-10'},\n",
       "  {'certification': '普遍級',\n",
       "   'descriptors': [],\n",
       "   'iso_3166_1': 'TW',\n",
       "   'primary': False,\n",
       "   'release_date': '2021-02-10'},\n",
       "  {'certification': '',\n",
       "   'descriptors': [],\n",
       "   'iso_3166_1': 'GR',\n",
       "   'primary': False,\n",
       "   'release_date': '2021-09-23'},\n",
       "  {'certification': '',\n",
       "   'descriptors': [],\n",
       "   'iso_3166_1': 'KZ',\n",
       "   'primary': False,\n",
       "   'release_date': '2021-02-25'}]}"
      ]
     },
     "execution_count": 11,
     "metadata": {},
     "output_type": "execute_result"
    }
   ],
   "source": [
    "releases "
   ]
  },
  {
   "cell_type": "markdown",
   "id": "70995a64-356e-4235-927c-0ac8a9973ed6",
   "metadata": {},
   "source": [
    "    - Instead of printing the certification separately, we want to add that to our dictionary results for movie.info()."
   ]
  },
  {
   "cell_type": "code",
   "execution_count": 12,
   "id": "90c30e00-8920-4f24-be2e-5d1e7fc2e86d",
   "metadata": {},
   "outputs": [],
   "source": [
    "# Get the movie object for the current id\n",
    "# Instead of printing the certification separately, we want to add that to our dictionary results for movie.info().\n",
    "# this will create extra columns of us movies \n",
    "# we got this info from last few queries\n",
    "# this will store the \n",
    "movie = tmdb.Movies('tt1361336')\n",
    "# save the .info .releases dictionaries\n",
    "info = movie.info()\n",
    "releases = movie.releases()\n",
    "# Loop through countries in releases\n",
    "for c in releases['countries']:\n",
    "    # if the country abbreviation==US\n",
    "    if c['iso_3166_1' ] =='US':\n",
    "        ## save a \"certification\" key in the info dict with the certification\n",
    "       info['certification'] = c['certification']"
   ]
  },
  {
   "cell_type": "code",
   "execution_count": 13,
   "id": "9dccf80e-bb9f-4540-9e28-3e0eb38ceb65",
   "metadata": {},
   "outputs": [],
   "source": [
    "def get_movie_with_rating(movie_id):\n",
    "    \"\"\"Adapted from sourcd = https://github.com/celiao/tmdbsimple\"\"\"\n",
    "   # Get the movie object for the current id\n",
    "    movie = tmdb.Movies(movie_id)\n",
    "    \n",
    "    # save the .info .releases dictionaries\n",
    "    info = movie.info()\n",
    "    releases = movie.releases()\n",
    "    \n",
    "    # Loop through countries in releases\n",
    "    for c in releases['countries']:\n",
    "        # if the country abbreviation==US\n",
    "        if c['iso_3166_1' ] =='US':\n",
    "            ## save a \"certification\" key in the info dict with the certification\n",
    "           info['certification'] = c['certification']\n",
    "    return info"
   ]
  },
  {
   "cell_type": "code",
   "execution_count": 14,
   "id": "fe689f94-0557-407f-955b-67cfa6527d78",
   "metadata": {},
   "outputs": [
    {
     "data": {
      "text/plain": [
       "{'adult': False,\n",
       " 'backdrop_path': '/9BBTo63ANSmhC4e6r62OJFuK2GL.jpg',\n",
       " 'belongs_to_collection': {'id': 86311,\n",
       "  'name': 'The Avengers Collection',\n",
       "  'poster_path': '/yFSIUVTCvgYrpalUktulvk3Gi5Y.jpg',\n",
       "  'backdrop_path': '/zuW6fOiusv4X9nnW3paHGfXcSll.jpg'},\n",
       " 'budget': 220000000,\n",
       " 'genres': [{'id': 878, 'name': 'Science Fiction'},\n",
       "  {'id': 28, 'name': 'Action'},\n",
       "  {'id': 12, 'name': 'Adventure'}],\n",
       " 'homepage': 'https://www.marvel.com/movies/the-avengers',\n",
       " 'id': 24428,\n",
       " 'imdb_id': 'tt0848228',\n",
       " 'original_language': 'en',\n",
       " 'original_title': 'The Avengers',\n",
       " 'overview': 'When an unexpected enemy emerges and threatens global safety and security, Nick Fury, director of the international peacekeeping agency known as S.H.I.E.L.D., finds himself in need of a team to pull the world back from the brink of disaster. Spanning the globe, a daring recruitment effort begins!',\n",
       " 'popularity': 155.089,\n",
       " 'poster_path': '/RYMX2wcKCBAr24UyPD7xwmjaTn.jpg',\n",
       " 'production_companies': [{'id': 420,\n",
       "   'logo_path': '/hUzeosd33nzE5MCNsZxCGEKTXaQ.png',\n",
       "   'name': 'Marvel Studios',\n",
       "   'origin_country': 'US'}],\n",
       " 'production_countries': [{'iso_3166_1': 'US',\n",
       "   'name': 'United States of America'}],\n",
       " 'release_date': '2012-04-25',\n",
       " 'revenue': 1518815515,\n",
       " 'runtime': 143,\n",
       " 'spoken_languages': [{'english_name': 'English',\n",
       "   'iso_639_1': 'en',\n",
       "   'name': 'English'},\n",
       "  {'english_name': 'Hindi', 'iso_639_1': 'hi', 'name': 'हिन्दी'},\n",
       "  {'english_name': 'Russian', 'iso_639_1': 'ru', 'name': 'Pусский'}],\n",
       " 'status': 'Released',\n",
       " 'tagline': 'Some assembly required.',\n",
       " 'title': 'The Avengers',\n",
       " 'video': False,\n",
       " 'vote_average': 7.712,\n",
       " 'vote_count': 29434,\n",
       " 'certification': 'PG-13'}"
      ]
     },
     "execution_count": 14,
     "metadata": {},
     "output_type": "execute_result"
    }
   ],
   "source": [
    "# testing the avengers id workgs tt0848228\n",
    "test = get_movie_with_rating(\"tt0848228\") #put your function name here\n",
    "test"
   ]
  },
  {
   "cell_type": "code",
   "execution_count": 15,
   "id": "d3610f2e-77f9-48f6-bdee-4ad116ca82ae",
   "metadata": {},
   "outputs": [
    {
     "data": {
      "text/plain": [
       "{'adult': False,\n",
       " 'backdrop_path': '/qom1SZSENdmHFNZBXbtJAU0WTlC.jpg',\n",
       " 'belongs_to_collection': None,\n",
       " 'budget': 29000000,\n",
       " 'genres': [{'id': 10749, 'name': 'Romance'}, {'id': 18, 'name': 'Drama'}],\n",
       " 'homepage': 'http://www.newline.com/properties/notebookthe.html',\n",
       " 'id': 11036,\n",
       " 'imdb_id': 'tt0332280',\n",
       " 'original_language': 'en',\n",
       " 'original_title': 'The Notebook',\n",
       " 'overview': \"An epic love story centered around an older man who reads aloud to a woman with Alzheimer's. From a faded notebook, the old man's words bring to life the story about a couple who is separated by World War II, and is then passionately reunited, seven years later, after they have taken different paths.\",\n",
       " 'popularity': 89.208,\n",
       " 'poster_path': '/rNzQyW4f8B8cQeg7Dgj3n6eT5k9.jpg',\n",
       " 'production_companies': [{'id': 12,\n",
       "   'logo_path': '/iaYpEp3LQmb8AfAtmTvpqd4149c.png',\n",
       "   'name': 'New Line Cinema',\n",
       "   'origin_country': 'US'},\n",
       "  {'id': 1565, 'logo_path': None, 'name': 'Avery Pix', 'origin_country': 'US'},\n",
       "  {'id': 2605,\n",
       "   'logo_path': None,\n",
       "   'name': 'Gran Via Productions',\n",
       "   'origin_country': 'US'}],\n",
       " 'production_countries': [{'iso_3166_1': 'US',\n",
       "   'name': 'United States of America'}],\n",
       " 'release_date': '2004-06-25',\n",
       " 'revenue': 115603229,\n",
       " 'runtime': 123,\n",
       " 'spoken_languages': [{'english_name': 'English',\n",
       "   'iso_639_1': 'en',\n",
       "   'name': 'English'}],\n",
       " 'status': 'Released',\n",
       " 'tagline': 'Behind every great love is a great story.',\n",
       " 'title': 'The Notebook',\n",
       " 'video': False,\n",
       " 'vote_average': 7.884,\n",
       " 'vote_count': 10767,\n",
       " 'certification': 'PG-13'}"
      ]
     },
     "execution_count": 15,
     "metadata": {},
     "output_type": "execute_result"
    }
   ],
   "source": [
    "# testing with the movie the notebook id tt0332280\n",
    "test = get_movie_with_rating(\"tt0332280\") #put your function name here\n",
    "test"
   ]
  },
  {
   "cell_type": "markdown",
   "id": "b341993a-bf27-419b-aa09-4b8f1fead9b1",
   "metadata": {},
   "source": [
    "___"
   ]
  },
  {
   "cell_type": "code",
   "execution_count": 32,
   "id": "6fa8c2ec-6d02-44e2-b098-5c26034f575f",
   "metadata": {},
   "outputs": [
    {
     "data": {
      "text/plain": [
       "['.ipynb_checkpoints',\n",
       " 'final_tmdb_data_2002.csv.gz',\n",
       " 'IMDB Movie Dataset Info.docx',\n",
       " 'title-akas-us-only.csv',\n",
       " 'title.basics.tsv.gz',\n",
       " 'title.ratings.tsv.gz',\n",
       " 'Title_Basics.csv',\n",
       " 'Title_ratings.csv',\n",
       " 'tmdb_api.json',\n",
       " 'tmdb_api_results_2001.json',\n",
       " 'tmdb_api_results_2002.json']"
      ]
     },
     "execution_count": 32,
     "metadata": {},
     "output_type": "execute_result"
    }
   ],
   "source": [
    "# Import packages\n",
    "import os, time, json\n",
    "import tmdbsimple as tmdb \n",
    "import pandas as pd\n",
    "from tqdm.notebook import tqdm_notebook\n",
    "# Create the folder for saving files (if it doesn't exist)\n",
    "FOLDER = \"Data/\"\n",
    "os.makedirs(FOLDER, exist_ok=True)\n",
    "os.listdir(FOLDER)"
   ]
  },
  {
   "cell_type": "code",
   "execution_count": 33,
   "id": "3e348990-939e-4888-bbb1-2c6f3cd8c0c2",
   "metadata": {},
   "outputs": [],
   "source": [
    "YEARS_TO_GET = [2001,2002]"
   ]
  },
  {
   "cell_type": "code",
   "execution_count": 34,
   "id": "436cce00-fe82-484a-a059-64df4a2d70eb",
   "metadata": {},
   "outputs": [
    {
     "data": {
      "text/html": [
       "<div>\n",
       "<style scoped>\n",
       "    .dataframe tbody tr th:only-of-type {\n",
       "        vertical-align: middle;\n",
       "    }\n",
       "\n",
       "    .dataframe tbody tr th {\n",
       "        vertical-align: top;\n",
       "    }\n",
       "\n",
       "    .dataframe thead th {\n",
       "        text-align: right;\n",
       "    }\n",
       "</style>\n",
       "<table border=\"1\" class=\"dataframe\">\n",
       "  <thead>\n",
       "    <tr style=\"text-align: right;\">\n",
       "      <th></th>\n",
       "      <th>tconst</th>\n",
       "      <th>titleType</th>\n",
       "      <th>primaryTitle</th>\n",
       "      <th>originalTitle</th>\n",
       "      <th>isAdult</th>\n",
       "      <th>startYear</th>\n",
       "      <th>endYear</th>\n",
       "      <th>runtimeMinutes</th>\n",
       "      <th>genres</th>\n",
       "    </tr>\n",
       "  </thead>\n",
       "  <tbody>\n",
       "    <tr>\n",
       "      <th>0</th>\n",
       "      <td>tt0035423</td>\n",
       "      <td>movie</td>\n",
       "      <td>Kate &amp; Leopold</td>\n",
       "      <td>Kate &amp; Leopold</td>\n",
       "      <td>0</td>\n",
       "      <td>2001.0</td>\n",
       "      <td>NaN</td>\n",
       "      <td>118</td>\n",
       "      <td>Comedy,Fantasy,Romance</td>\n",
       "    </tr>\n",
       "    <tr>\n",
       "      <th>1</th>\n",
       "      <td>tt0062336</td>\n",
       "      <td>movie</td>\n",
       "      <td>The Tango of the Widower and Its Distorting Mi...</td>\n",
       "      <td>El tango del viudo y su espejo deformante</td>\n",
       "      <td>0</td>\n",
       "      <td>2020.0</td>\n",
       "      <td>NaN</td>\n",
       "      <td>70</td>\n",
       "      <td>Drama</td>\n",
       "    </tr>\n",
       "    <tr>\n",
       "      <th>2</th>\n",
       "      <td>tt0069049</td>\n",
       "      <td>movie</td>\n",
       "      <td>The Other Side of the Wind</td>\n",
       "      <td>The Other Side of the Wind</td>\n",
       "      <td>0</td>\n",
       "      <td>2018.0</td>\n",
       "      <td>NaN</td>\n",
       "      <td>122</td>\n",
       "      <td>Drama</td>\n",
       "    </tr>\n",
       "    <tr>\n",
       "      <th>3</th>\n",
       "      <td>tt0088751</td>\n",
       "      <td>movie</td>\n",
       "      <td>The Naked Monster</td>\n",
       "      <td>The Naked Monster</td>\n",
       "      <td>0</td>\n",
       "      <td>2005.0</td>\n",
       "      <td>NaN</td>\n",
       "      <td>100</td>\n",
       "      <td>Comedy,Horror,Sci-Fi</td>\n",
       "    </tr>\n",
       "    <tr>\n",
       "      <th>4</th>\n",
       "      <td>tt0096056</td>\n",
       "      <td>movie</td>\n",
       "      <td>Crime and Punishment</td>\n",
       "      <td>Crime and Punishment</td>\n",
       "      <td>0</td>\n",
       "      <td>2002.0</td>\n",
       "      <td>NaN</td>\n",
       "      <td>126</td>\n",
       "      <td>Drama</td>\n",
       "    </tr>\n",
       "  </tbody>\n",
       "</table>\n",
       "</div>"
      ],
      "text/plain": [
       "      tconst titleType                                       primaryTitle  \\\n",
       "0  tt0035423     movie                                     Kate & Leopold   \n",
       "1  tt0062336     movie  The Tango of the Widower and Its Distorting Mi...   \n",
       "2  tt0069049     movie                         The Other Side of the Wind   \n",
       "3  tt0088751     movie                                  The Naked Monster   \n",
       "4  tt0096056     movie                               Crime and Punishment   \n",
       "\n",
       "                               originalTitle  isAdult  startYear  endYear  \\\n",
       "0                             Kate & Leopold        0     2001.0      NaN   \n",
       "1  El tango del viudo y su espejo deformante        0     2020.0      NaN   \n",
       "2                 The Other Side of the Wind        0     2018.0      NaN   \n",
       "3                          The Naked Monster        0     2005.0      NaN   \n",
       "4                       Crime and Punishment        0     2002.0      NaN   \n",
       "\n",
       "   runtimeMinutes                  genres  \n",
       "0             118  Comedy,Fantasy,Romance  \n",
       "1              70                   Drama  \n",
       "2             122                   Drama  \n",
       "3             100    Comedy,Horror,Sci-Fi  \n",
       "4             126                   Drama  "
      ]
     },
     "execution_count": 34,
     "metadata": {},
     "output_type": "execute_result"
    }
   ],
   "source": [
    "# Load in the dataframe from project part 1 as basics:\n",
    "basics = pd.read_csv('Data/Title_Basics.csv')\n",
    "basics.head()\n"
   ]
  },
  {
   "cell_type": "markdown",
   "id": "5362a83c-7198-4635-b391-e7e6a604c7d5",
   "metadata": {},
   "source": [
    "Now we have defined the \"movie_ids_to_get\". It includes the ids from our dataframe in the year we are seeking, and it excludes any that we have already made calls for.\r\n",
    "\r\n",
    "We will use this list for our loop of API calls."
   ]
  },
  {
   "cell_type": "code",
   "execution_count": 35,
   "id": "8ba2886a-6c93-47c2-8d7d-587aa86e4d3e",
   "metadata": {},
   "outputs": [],
   "source": [
    "def write_json(new_data, filename): \n",
    "    \"\"\"Adapted from: https://www.geeksforgeeks.org/append-to-json-file-using-python/\"\"\"  \n",
    "    \n",
    "    with open(filename,'r+') as file:\n",
    "        # First we load existing data into a dict.\n",
    "        file_data = json.load(file)\n",
    "        ## Choose extend or append\n",
    "        if (type(new_data) == list) & (type(file_data) == list):\n",
    "            file_data.extend(new_data)\n",
    "        else:\n",
    "             file_data.append(new_data)\n",
    "        # Sets file's current position at offset.\n",
    "        file.seek(0)\n",
    "        # convert back to json.\n",
    "        json.dump(file_data, file)"
   ]
  },
  {
   "cell_type": "code",
   "execution_count": 43,
   "id": "f8fe5746-0756-442b-8d4a-56d6121ed1ac",
   "metadata": {},
   "outputs": [
    {
     "data": {
      "application/vnd.jupyter.widget-view+json": {
       "model_id": "d867c37b5391467a8f60293fb14fad6d",
       "version_major": 2,
       "version_minor": 0
      },
      "text/plain": [
       "YEARS:   0%|          | 0/2 [00:00<?, ?it/s]"
      ]
     },
     "metadata": {},
     "output_type": "display_data"
    },
    {
     "data": {
      "application/vnd.jupyter.widget-view+json": {
       "model_id": "a7f7589c96f340f38eccc0ba1a79925b",
       "version_major": 2,
       "version_minor": 0
      },
      "text/plain": [
       "Movies from 2001:   0%|          | 0/217 [00:00<?, ?it/s]"
      ]
     },
     "metadata": {},
     "output_type": "display_data"
    },
    {
     "data": {
      "application/vnd.jupyter.widget-view+json": {
       "model_id": "0805991aaf54406294c790bc57b7d177",
       "version_major": 2,
       "version_minor": 0
      },
      "text/plain": [
       "Movies from 2002:   0%|          | 0/277 [00:00<?, ?it/s]"
      ]
     },
     "metadata": {},
     "output_type": "display_data"
    }
   ],
   "source": [
    "# Start of Outer loop\n",
    "for YEAR in tqdm_notebook(YEARS_TO_GET,desc='YEARS',position=0):\n",
    "    # Define the JSON file to store results for the year\n",
    "    JSON_FILE = f'{FOLDER}tmdb_api_results_{YEAR}.json'\n",
    "    # Check if the JSON file exists\n",
    "    file_exists = os.path.isfile(JSON_FILE)\n",
    "     \n",
    "    # If it does not exist: create it\n",
    "    if file_exists == False:\n",
    "    # save an empty dict with just \"imdb_id\" to the new json file.\n",
    "        with open(JSON_FILE,'w') as f:\n",
    "            json.dump([{'imdb_id':0}],f)\n",
    "\n",
    "    # Filtering for movies from selected startYear\n",
    "    df = basics.loc[ basics['startYear']==YEAR].copy()\n",
    "\n",
    "    # saving movie ids to list\n",
    "    movie_ids = df['tconst'].copy()#.to_list\n",
    "    movie_ids\n",
    "\n",
    "    # Load existing data from json into a dataframe called \"previous_df\"\n",
    "    previous_df = pd.read_json(JSON_FILE)\n",
    "    previous_df\n",
    "\n",
    "    # filter out any ids that are already in the JSON_FILE\n",
    "    movie_ids_to_get = movie_ids[~movie_ids.isin(previous_df['imdb_id'])]\n",
    "\n",
    "    # Get index and movie id from list\n",
    "    # INNER LOOP\n",
    "\n",
    "    for movie_id in tqdm_notebook(movie_ids_to_get, \n",
    "                                desc=f'Movies from {YEAR}',\n",
    "                                position=1,\n",
    "                                leave=True):\n",
    "        # Attempt to retrieve then data for the movie id\n",
    "        try:\n",
    "            temp = get_movie_with_rating(movie_id)  #This uses your pre-ma    de function\n",
    "            # Append/extend results to existing file using a pre-made function\n",
    "            write_json(temp,JSON_FILE)\n",
    "            # Short 20 ms sleep to prevent overwhelming server\n",
    "            time.sleep(0.02)\n",
    "    \n",
    "        # If it fails,  make a dict with just the id and None for certification.\n",
    "        except Exception as e:\n",
    "            continue\n",
    "\n",
    "    # Save the final results to a csv.gz file\n",
    "    final_year_df = pd.read_json(JSON_FILE)\n",
    "    final_year_df.to_csv(f\"{FOLDER}final_tmdb_data_{YEAR}.csv.gz\", compression=\"gzip\", index=False)"
   ]
  },
  {
   "cell_type": "markdown",
   "id": "c1f4cf19-ada4-4750-8e96-0a0b8d1f3619",
   "metadata": {},
   "source": [
    "# EDA"
   ]
  },
  {
   "cell_type": "code",
   "execution_count": 44,
   "id": "7a85c285-45fa-4bf3-acde-056a53aec088",
   "metadata": {},
   "outputs": [
    {
     "name": "stdout",
     "output_type": "stream",
     "text": [
      "<class 'pandas.core.frame.DataFrame'>\n",
      "RangeIndex: 1296 entries, 0 to 1295\n",
      "Data columns (total 26 columns):\n",
      " #   Column                 Non-Null Count  Dtype  \n",
      "---  ------                 --------------  -----  \n",
      " 0   imdb_id                1296 non-null   object \n",
      " 1   adult                  1295 non-null   float64\n",
      " 2   backdrop_path          787 non-null    object \n",
      " 3   belongs_to_collection  122 non-null    object \n",
      " 4   budget                 1295 non-null   float64\n",
      " 5   genres                 1295 non-null   object \n",
      " 6   homepage               106 non-null    object \n",
      " 7   id                     1295 non-null   float64\n",
      " 8   original_language      1295 non-null   object \n",
      " 9   original_title         1295 non-null   object \n",
      " 10  overview               1263 non-null   object \n",
      " 11  popularity             1295 non-null   float64\n",
      " 12  poster_path            1182 non-null   object \n",
      " 13  production_companies   1295 non-null   object \n",
      " 14  production_countries   1295 non-null   object \n",
      " 15  release_date           1283 non-null   object \n",
      " 16  revenue                1295 non-null   float64\n",
      " 17  runtime                1295 non-null   float64\n",
      " 18  spoken_languages       1295 non-null   object \n",
      " 19  status                 1295 non-null   object \n",
      " 20  tagline                589 non-null    object \n",
      " 21  title                  1295 non-null   object \n",
      " 22  video                  1295 non-null   float64\n",
      " 23  vote_average           1295 non-null   float64\n",
      " 24  vote_count             1295 non-null   float64\n",
      " 25  certification          420 non-null    object \n",
      "dtypes: float64(9), object(17)\n",
      "memory usage: 263.4+ KB\n"
     ]
    },
    {
     "data": {
      "text/html": [
       "<div>\n",
       "<style scoped>\n",
       "    .dataframe tbody tr th:only-of-type {\n",
       "        vertical-align: middle;\n",
       "    }\n",
       "\n",
       "    .dataframe tbody tr th {\n",
       "        vertical-align: top;\n",
       "    }\n",
       "\n",
       "    .dataframe thead th {\n",
       "        text-align: right;\n",
       "    }\n",
       "</style>\n",
       "<table border=\"1\" class=\"dataframe\">\n",
       "  <thead>\n",
       "    <tr style=\"text-align: right;\">\n",
       "      <th></th>\n",
       "      <th>imdb_id</th>\n",
       "      <th>adult</th>\n",
       "      <th>backdrop_path</th>\n",
       "      <th>belongs_to_collection</th>\n",
       "      <th>budget</th>\n",
       "      <th>genres</th>\n",
       "      <th>homepage</th>\n",
       "      <th>id</th>\n",
       "      <th>original_language</th>\n",
       "      <th>original_title</th>\n",
       "      <th>...</th>\n",
       "      <th>revenue</th>\n",
       "      <th>runtime</th>\n",
       "      <th>spoken_languages</th>\n",
       "      <th>status</th>\n",
       "      <th>tagline</th>\n",
       "      <th>title</th>\n",
       "      <th>video</th>\n",
       "      <th>vote_average</th>\n",
       "      <th>vote_count</th>\n",
       "      <th>certification</th>\n",
       "    </tr>\n",
       "  </thead>\n",
       "  <tbody>\n",
       "    <tr>\n",
       "      <th>0</th>\n",
       "      <td>0</td>\n",
       "      <td>NaN</td>\n",
       "      <td>NaN</td>\n",
       "      <td>NaN</td>\n",
       "      <td>NaN</td>\n",
       "      <td>NaN</td>\n",
       "      <td>NaN</td>\n",
       "      <td>NaN</td>\n",
       "      <td>NaN</td>\n",
       "      <td>NaN</td>\n",
       "      <td>...</td>\n",
       "      <td>NaN</td>\n",
       "      <td>NaN</td>\n",
       "      <td>NaN</td>\n",
       "      <td>NaN</td>\n",
       "      <td>NaN</td>\n",
       "      <td>NaN</td>\n",
       "      <td>NaN</td>\n",
       "      <td>NaN</td>\n",
       "      <td>NaN</td>\n",
       "      <td>NaN</td>\n",
       "    </tr>\n",
       "    <tr>\n",
       "      <th>1</th>\n",
       "      <td>tt0096056</td>\n",
       "      <td>0.0</td>\n",
       "      <td>/95U3MUDXu4xSCmVLtWgargRipDi.jpg</td>\n",
       "      <td>NaN</td>\n",
       "      <td>0.0</td>\n",
       "      <td>[{'id': 18, 'name': 'Drama'}]</td>\n",
       "      <td>NaN</td>\n",
       "      <td>109809.0</td>\n",
       "      <td>en</td>\n",
       "      <td>Crime and Punishment</td>\n",
       "      <td>...</td>\n",
       "      <td>0.0</td>\n",
       "      <td>126.0</td>\n",
       "      <td>[{'english_name': 'English', 'iso_639_1': 'en'...</td>\n",
       "      <td>Released</td>\n",
       "      <td>NaN</td>\n",
       "      <td>Crime and Punishment</td>\n",
       "      <td>0.0</td>\n",
       "      <td>5.400</td>\n",
       "      <td>13.0</td>\n",
       "      <td>NaN</td>\n",
       "    </tr>\n",
       "    <tr>\n",
       "      <th>2</th>\n",
       "      <td>tt0118926</td>\n",
       "      <td>0.0</td>\n",
       "      <td>/qR3Dk3ctnrrxkAI6I472RhamIbu.jpg</td>\n",
       "      <td>NaN</td>\n",
       "      <td>0.0</td>\n",
       "      <td>[{'id': 80, 'name': 'Crime'}, {'id': 18, 'name...</td>\n",
       "      <td>NaN</td>\n",
       "      <td>20689.0</td>\n",
       "      <td>en</td>\n",
       "      <td>The Dancer Upstairs</td>\n",
       "      <td>...</td>\n",
       "      <td>5227348.0</td>\n",
       "      <td>132.0</td>\n",
       "      <td>[{'english_name': 'English', 'iso_639_1': 'en'...</td>\n",
       "      <td>Released</td>\n",
       "      <td>An honest man caught in a world of intrigue, p...</td>\n",
       "      <td>The Dancer Upstairs</td>\n",
       "      <td>0.0</td>\n",
       "      <td>6.200</td>\n",
       "      <td>51.0</td>\n",
       "      <td>NaN</td>\n",
       "    </tr>\n",
       "    <tr>\n",
       "      <th>3</th>\n",
       "      <td>tt0119980</td>\n",
       "      <td>0.0</td>\n",
       "      <td>NaN</td>\n",
       "      <td>NaN</td>\n",
       "      <td>0.0</td>\n",
       "      <td>[{'id': 80, 'name': 'Crime'}, {'id': 18, 'name...</td>\n",
       "      <td>NaN</td>\n",
       "      <td>563364.0</td>\n",
       "      <td>en</td>\n",
       "      <td>Random Shooting in LA</td>\n",
       "      <td>...</td>\n",
       "      <td>0.0</td>\n",
       "      <td>91.0</td>\n",
       "      <td>[{'english_name': 'English', 'iso_639_1': 'en'...</td>\n",
       "      <td>Released</td>\n",
       "      <td>NaN</td>\n",
       "      <td>Random Shooting in LA</td>\n",
       "      <td>0.0</td>\n",
       "      <td>0.000</td>\n",
       "      <td>0.0</td>\n",
       "      <td>NaN</td>\n",
       "    </tr>\n",
       "    <tr>\n",
       "      <th>4</th>\n",
       "      <td>tt0120679</td>\n",
       "      <td>0.0</td>\n",
       "      <td>/s04Ds4xbJU7DzeGVyamccH4LoxF.jpg</td>\n",
       "      <td>NaN</td>\n",
       "      <td>12000000.0</td>\n",
       "      <td>[{'id': 18, 'name': 'Drama'}, {'id': 10749, 'n...</td>\n",
       "      <td>https://www.miramax.com/movie/frida</td>\n",
       "      <td>1360.0</td>\n",
       "      <td>en</td>\n",
       "      <td>Frida</td>\n",
       "      <td>...</td>\n",
       "      <td>56298474.0</td>\n",
       "      <td>123.0</td>\n",
       "      <td>[{'english_name': 'English', 'iso_639_1': 'en'...</td>\n",
       "      <td>Released</td>\n",
       "      <td>Prepare to be seduced.</td>\n",
       "      <td>Frida</td>\n",
       "      <td>0.0</td>\n",
       "      <td>7.422</td>\n",
       "      <td>1918.0</td>\n",
       "      <td>R</td>\n",
       "    </tr>\n",
       "  </tbody>\n",
       "</table>\n",
       "<p>5 rows × 26 columns</p>\n",
       "</div>"
      ],
      "text/plain": [
       "     imdb_id  adult                     backdrop_path belongs_to_collection  \\\n",
       "0          0    NaN                               NaN                   NaN   \n",
       "1  tt0096056    0.0  /95U3MUDXu4xSCmVLtWgargRipDi.jpg                   NaN   \n",
       "2  tt0118926    0.0  /qR3Dk3ctnrrxkAI6I472RhamIbu.jpg                   NaN   \n",
       "3  tt0119980    0.0                               NaN                   NaN   \n",
       "4  tt0120679    0.0  /s04Ds4xbJU7DzeGVyamccH4LoxF.jpg                   NaN   \n",
       "\n",
       "       budget                                             genres  \\\n",
       "0         NaN                                                NaN   \n",
       "1         0.0                      [{'id': 18, 'name': 'Drama'}]   \n",
       "2         0.0  [{'id': 80, 'name': 'Crime'}, {'id': 18, 'name...   \n",
       "3         0.0  [{'id': 80, 'name': 'Crime'}, {'id': 18, 'name...   \n",
       "4  12000000.0  [{'id': 18, 'name': 'Drama'}, {'id': 10749, 'n...   \n",
       "\n",
       "                              homepage        id original_language  \\\n",
       "0                                  NaN       NaN               NaN   \n",
       "1                                  NaN  109809.0                en   \n",
       "2                                  NaN   20689.0                en   \n",
       "3                                  NaN  563364.0                en   \n",
       "4  https://www.miramax.com/movie/frida    1360.0                en   \n",
       "\n",
       "          original_title  ...     revenue  runtime  \\\n",
       "0                    NaN  ...         NaN      NaN   \n",
       "1   Crime and Punishment  ...         0.0    126.0   \n",
       "2    The Dancer Upstairs  ...   5227348.0    132.0   \n",
       "3  Random Shooting in LA  ...         0.0     91.0   \n",
       "4                  Frida  ...  56298474.0    123.0   \n",
       "\n",
       "                                    spoken_languages    status  \\\n",
       "0                                                NaN       NaN   \n",
       "1  [{'english_name': 'English', 'iso_639_1': 'en'...  Released   \n",
       "2  [{'english_name': 'English', 'iso_639_1': 'en'...  Released   \n",
       "3  [{'english_name': 'English', 'iso_639_1': 'en'...  Released   \n",
       "4  [{'english_name': 'English', 'iso_639_1': 'en'...  Released   \n",
       "\n",
       "                                             tagline                  title  \\\n",
       "0                                                NaN                    NaN   \n",
       "1                                                NaN   Crime and Punishment   \n",
       "2  An honest man caught in a world of intrigue, p...    The Dancer Upstairs   \n",
       "3                                                NaN  Random Shooting in LA   \n",
       "4                             Prepare to be seduced.                  Frida   \n",
       "\n",
       "   video  vote_average vote_count certification  \n",
       "0    NaN           NaN        NaN           NaN  \n",
       "1    0.0         5.400       13.0           NaN  \n",
       "2    0.0         6.200       51.0           NaN  \n",
       "3    0.0         0.000        0.0           NaN  \n",
       "4    0.0         7.422     1918.0             R  \n",
       "\n",
       "[5 rows x 26 columns]"
      ]
     },
     "execution_count": 44,
     "metadata": {},
     "output_type": "execute_result"
    }
   ],
   "source": [
    "# Load the data from your .csv.gz file into a new DataFrame.\n",
    "df = pd.read_csv(csv_fname)\n",
    "df.info()\n",
    "df.head()"
   ]
  },
  {
   "cell_type": "markdown",
   "id": "3e40cd62-9ed2-4be2-8c26-0c206e2f4af3",
   "metadata": {},
   "source": [
    "## How many movies had at least some valid financial information (values > 0 for budget OR revenue)?"
   ]
  },
  {
   "cell_type": "code",
   "execution_count": 45,
   "id": "11a88a16-0c15-4fa3-be23-516012a714d7",
   "metadata": {},
   "outputs": [
    {
     "data": {
      "text/plain": [
       "317"
      ]
     },
     "execution_count": 45,
     "metadata": {},
     "output_type": "execute_result"
    }
   ],
   "source": [
    "filter_budget = df['budget'] >0\n",
    "filter_budget.sum()"
   ]
  },
  {
   "cell_type": "code",
   "execution_count": 46,
   "id": "46a485fe-3c34-4060-b2bc-4e25010afc88",
   "metadata": {},
   "outputs": [
    {
     "data": {
      "text/plain": [
       "280"
      ]
     },
     "execution_count": 46,
     "metadata": {},
     "output_type": "execute_result"
    }
   ],
   "source": [
    "filter_revenue = df['revenue'] >0\n",
    "filter_revenue.sum()"
   ]
  },
  {
   "cell_type": "code",
   "execution_count": 47,
   "id": "ec23cb0a-f5c5-469b-add5-93716cd7a2f9",
   "metadata": {},
   "outputs": [
    {
     "data": {
      "text/plain": [
       "216"
      ]
     },
     "execution_count": 47,
     "metadata": {},
     "output_type": "execute_result"
    }
   ],
   "source": [
    "filter_financial = filter_revenue & filter_budget\n",
    "filter_financial.sum()"
   ]
  },
  {
   "cell_type": "code",
   "execution_count": 48,
   "id": "0a8197b9-478d-4712-a9d2-3e9bf743e4b2",
   "metadata": {},
   "outputs": [
    {
     "data": {
      "text/html": [
       "<div>\n",
       "<style scoped>\n",
       "    .dataframe tbody tr th:only-of-type {\n",
       "        vertical-align: middle;\n",
       "    }\n",
       "\n",
       "    .dataframe tbody tr th {\n",
       "        vertical-align: top;\n",
       "    }\n",
       "\n",
       "    .dataframe thead th {\n",
       "        text-align: right;\n",
       "    }\n",
       "</style>\n",
       "<table border=\"1\" class=\"dataframe\">\n",
       "  <thead>\n",
       "    <tr style=\"text-align: right;\">\n",
       "      <th></th>\n",
       "      <th>imdb_id</th>\n",
       "      <th>adult</th>\n",
       "      <th>backdrop_path</th>\n",
       "      <th>belongs_to_collection</th>\n",
       "      <th>budget</th>\n",
       "      <th>genres</th>\n",
       "      <th>homepage</th>\n",
       "      <th>id</th>\n",
       "      <th>original_language</th>\n",
       "      <th>original_title</th>\n",
       "      <th>...</th>\n",
       "      <th>revenue</th>\n",
       "      <th>runtime</th>\n",
       "      <th>spoken_languages</th>\n",
       "      <th>status</th>\n",
       "      <th>tagline</th>\n",
       "      <th>title</th>\n",
       "      <th>video</th>\n",
       "      <th>vote_average</th>\n",
       "      <th>vote_count</th>\n",
       "      <th>certification</th>\n",
       "    </tr>\n",
       "  </thead>\n",
       "  <tbody>\n",
       "    <tr>\n",
       "      <th>4</th>\n",
       "      <td>tt0120679</td>\n",
       "      <td>0.0</td>\n",
       "      <td>/s04Ds4xbJU7DzeGVyamccH4LoxF.jpg</td>\n",
       "      <td>NaN</td>\n",
       "      <td>12000000.0</td>\n",
       "      <td>[{'id': 18, 'name': 'Drama'}, {'id': 10749, 'n...</td>\n",
       "      <td>https://www.miramax.com/movie/frida</td>\n",
       "      <td>1360.0</td>\n",
       "      <td>en</td>\n",
       "      <td>Frida</td>\n",
       "      <td>...</td>\n",
       "      <td>56298474.0</td>\n",
       "      <td>123.0</td>\n",
       "      <td>[{'english_name': 'English', 'iso_639_1': 'en'...</td>\n",
       "      <td>Released</td>\n",
       "      <td>Prepare to be seduced.</td>\n",
       "      <td>Frida</td>\n",
       "      <td>0.0</td>\n",
       "      <td>7.422</td>\n",
       "      <td>1918.0</td>\n",
       "      <td>R</td>\n",
       "    </tr>\n",
       "    <tr>\n",
       "      <th>5</th>\n",
       "      <td>tt0120804</td>\n",
       "      <td>0.0</td>\n",
       "      <td>/5pGWjnM62Zs0S1xRf3TDL1Xizr.jpg</td>\n",
       "      <td>{'id': 17255, 'name': 'Resident Evil Collectio...</td>\n",
       "      <td>33000000.0</td>\n",
       "      <td>[{'id': 27, 'name': 'Horror'}, {'id': 28, 'nam...</td>\n",
       "      <td>https://www.sonypictures.com/movies/residentevil</td>\n",
       "      <td>1576.0</td>\n",
       "      <td>en</td>\n",
       "      <td>Resident Evil</td>\n",
       "      <td>...</td>\n",
       "      <td>102984862.0</td>\n",
       "      <td>100.0</td>\n",
       "      <td>[{'english_name': 'English', 'iso_639_1': 'en'...</td>\n",
       "      <td>Released</td>\n",
       "      <td>A secret experiment. A deadly virus. A fatal m...</td>\n",
       "      <td>Resident Evil</td>\n",
       "      <td>0.0</td>\n",
       "      <td>6.611</td>\n",
       "      <td>5882.0</td>\n",
       "      <td>R</td>\n",
       "    </tr>\n",
       "    <tr>\n",
       "      <th>6</th>\n",
       "      <td>tt0120912</td>\n",
       "      <td>0.0</td>\n",
       "      <td>/o1l6OCqA3pYDZHIc5L1s7CEzCMv.jpg</td>\n",
       "      <td>{'id': 86055, 'name': 'Men In Black Collection...</td>\n",
       "      <td>140000000.0</td>\n",
       "      <td>[{'id': 28, 'name': 'Action'}, {'id': 12, 'nam...</td>\n",
       "      <td>https://www.sonypictures.com/movies/meninblackii</td>\n",
       "      <td>608.0</td>\n",
       "      <td>en</td>\n",
       "      <td>Men in Black II</td>\n",
       "      <td>...</td>\n",
       "      <td>445135288.0</td>\n",
       "      <td>88.0</td>\n",
       "      <td>[{'english_name': 'English', 'iso_639_1': 'en'...</td>\n",
       "      <td>Released</td>\n",
       "      <td>Back in black.</td>\n",
       "      <td>Men in Black II</td>\n",
       "      <td>0.0</td>\n",
       "      <td>6.362</td>\n",
       "      <td>9346.0</td>\n",
       "      <td>PG-13</td>\n",
       "    </tr>\n",
       "    <tr>\n",
       "      <th>7</th>\n",
       "      <td>tt0121765</td>\n",
       "      <td>0.0</td>\n",
       "      <td>/abwxHfymXGAbbH3lo9PDEJEfvtW.jpg</td>\n",
       "      <td>{'id': 10, 'name': 'Star Wars Collection', 'po...</td>\n",
       "      <td>120000000.0</td>\n",
       "      <td>[{'id': 12, 'name': 'Adventure'}, {'id': 28, '...</td>\n",
       "      <td>NaN</td>\n",
       "      <td>1894.0</td>\n",
       "      <td>en</td>\n",
       "      <td>Star Wars: Episode II - Attack of the Clones</td>\n",
       "      <td>...</td>\n",
       "      <td>649398328.0</td>\n",
       "      <td>142.0</td>\n",
       "      <td>[{'english_name': 'English', 'iso_639_1': 'en'...</td>\n",
       "      <td>Released</td>\n",
       "      <td>A Jedi Shall Not Know Anger. Nor Hatred. Nor L...</td>\n",
       "      <td>Star Wars: Episode II - Attack of the Clones</td>\n",
       "      <td>0.0</td>\n",
       "      <td>6.553</td>\n",
       "      <td>12435.0</td>\n",
       "      <td>PG</td>\n",
       "    </tr>\n",
       "    <tr>\n",
       "      <th>8</th>\n",
       "      <td>tt0133240</td>\n",
       "      <td>0.0</td>\n",
       "      <td>/mVuH9hNGnxF9bbhlh1Tr9FuG3Uc.jpg</td>\n",
       "      <td>NaN</td>\n",
       "      <td>140000000.0</td>\n",
       "      <td>[{'id': 12, 'name': 'Adventure'}, {'id': 16, '...</td>\n",
       "      <td>NaN</td>\n",
       "      <td>9016.0</td>\n",
       "      <td>en</td>\n",
       "      <td>Treasure Planet</td>\n",
       "      <td>...</td>\n",
       "      <td>109578115.0</td>\n",
       "      <td>95.0</td>\n",
       "      <td>[{'english_name': 'English', 'iso_639_1': 'en'...</td>\n",
       "      <td>Released</td>\n",
       "      <td>Find your place in the universe.</td>\n",
       "      <td>Treasure Planet</td>\n",
       "      <td>0.0</td>\n",
       "      <td>7.536</td>\n",
       "      <td>3878.0</td>\n",
       "      <td>PG</td>\n",
       "    </tr>\n",
       "    <tr>\n",
       "      <th>...</th>\n",
       "      <td>...</td>\n",
       "      <td>...</td>\n",
       "      <td>...</td>\n",
       "      <td>...</td>\n",
       "      <td>...</td>\n",
       "      <td>...</td>\n",
       "      <td>...</td>\n",
       "      <td>...</td>\n",
       "      <td>...</td>\n",
       "      <td>...</td>\n",
       "      <td>...</td>\n",
       "      <td>...</td>\n",
       "      <td>...</td>\n",
       "      <td>...</td>\n",
       "      <td>...</td>\n",
       "      <td>...</td>\n",
       "      <td>...</td>\n",
       "      <td>...</td>\n",
       "      <td>...</td>\n",
       "      <td>...</td>\n",
       "      <td>...</td>\n",
       "    </tr>\n",
       "    <tr>\n",
       "      <th>1130</th>\n",
       "      <td>tt0364385</td>\n",
       "      <td>0.0</td>\n",
       "      <td>/3ZDkl8rsoLe6g4FRV9alNH5sZOt.jpg</td>\n",
       "      <td>{'id': 1972, 'name': 'Ju-on Collection', 'post...</td>\n",
       "      <td>3500000.0</td>\n",
       "      <td>[{'id': 27, 'name': 'Horror'}]</td>\n",
       "      <td>NaN</td>\n",
       "      <td>11838.0</td>\n",
       "      <td>ja</td>\n",
       "      <td>呪怨</td>\n",
       "      <td>...</td>\n",
       "      <td>3657876.0</td>\n",
       "      <td>92.0</td>\n",
       "      <td>[{'english_name': 'Japanese', 'iso_639_1': 'ja...</td>\n",
       "      <td>Released</td>\n",
       "      <td>When a grudge from the dead passes to the livi...</td>\n",
       "      <td>Ju-on: The Grudge</td>\n",
       "      <td>0.0</td>\n",
       "      <td>6.700</td>\n",
       "      <td>714.0</td>\n",
       "      <td>R</td>\n",
       "    </tr>\n",
       "    <tr>\n",
       "      <th>1138</th>\n",
       "      <td>tt0365960</td>\n",
       "      <td>0.0</td>\n",
       "      <td>/ahXtNFVHtFxvjphZN8QlHRVsu9W.jpg</td>\n",
       "      <td>NaN</td>\n",
       "      <td>20000.0</td>\n",
       "      <td>[{'id': 80, 'name': 'Crime'}, {'id': 18, 'name...</td>\n",
       "      <td>NaN</td>\n",
       "      <td>27090.0</td>\n",
       "      <td>en</td>\n",
       "      <td>Zero Day</td>\n",
       "      <td>...</td>\n",
       "      <td>8466.0</td>\n",
       "      <td>92.0</td>\n",
       "      <td>[{'english_name': 'German', 'iso_639_1': 'de',...</td>\n",
       "      <td>Released</td>\n",
       "      <td>In high school, you're told you can do anythin...</td>\n",
       "      <td>Zero Day</td>\n",
       "      <td>0.0</td>\n",
       "      <td>7.400</td>\n",
       "      <td>79.0</td>\n",
       "      <td>NR</td>\n",
       "    </tr>\n",
       "    <tr>\n",
       "      <th>1225</th>\n",
       "      <td>tt0757920</td>\n",
       "      <td>0.0</td>\n",
       "      <td>/sOkmFOVcDmH2P4GU9Mvyc4ZBC3D.jpg</td>\n",
       "      <td>NaN</td>\n",
       "      <td>10000.0</td>\n",
       "      <td>[{'id': 18, 'name': 'Drama'}, {'id': 10749, 'n...</td>\n",
       "      <td>NaN</td>\n",
       "      <td>44078.0</td>\n",
       "      <td>fa</td>\n",
       "      <td>Dokhtar-e shirini-foroosh</td>\n",
       "      <td>...</td>\n",
       "      <td>10000.0</td>\n",
       "      <td>105.0</td>\n",
       "      <td>[{'english_name': 'Persian', 'iso_639_1': 'fa'...</td>\n",
       "      <td>Released</td>\n",
       "      <td>NaN</td>\n",
       "      <td>The Pastry Girl</td>\n",
       "      <td>0.0</td>\n",
       "      <td>1.000</td>\n",
       "      <td>1.0</td>\n",
       "      <td>NaN</td>\n",
       "    </tr>\n",
       "    <tr>\n",
       "      <th>1241</th>\n",
       "      <td>tt1039983</td>\n",
       "      <td>0.0</td>\n",
       "      <td>/7B5IQdNNyNsSwBaW9zzCT9XmAcJ.jpg</td>\n",
       "      <td>NaN</td>\n",
       "      <td>500000.0</td>\n",
       "      <td>[{'id': 28, 'name': 'Action'}, {'id': 80, 'nam...</td>\n",
       "      <td>NaN</td>\n",
       "      <td>69419.0</td>\n",
       "      <td>ta</td>\n",
       "      <td>ரெட்</td>\n",
       "      <td>...</td>\n",
       "      <td>500000.0</td>\n",
       "      <td>157.0</td>\n",
       "      <td>[{'english_name': 'Tamil', 'iso_639_1': 'ta', ...</td>\n",
       "      <td>Released</td>\n",
       "      <td>NaN</td>\n",
       "      <td>Red</td>\n",
       "      <td>0.0</td>\n",
       "      <td>5.100</td>\n",
       "      <td>7.0</td>\n",
       "      <td>NaN</td>\n",
       "    </tr>\n",
       "    <tr>\n",
       "      <th>1262</th>\n",
       "      <td>tt1621767</td>\n",
       "      <td>0.0</td>\n",
       "      <td>NaN</td>\n",
       "      <td>NaN</td>\n",
       "      <td>400000.0</td>\n",
       "      <td>[{'id': 10749, 'name': 'Romance'}]</td>\n",
       "      <td>NaN</td>\n",
       "      <td>99116.0</td>\n",
       "      <td>ta</td>\n",
       "      <td>ஏப்ரல் மாதத்தில்</td>\n",
       "      <td>...</td>\n",
       "      <td>2000000.0</td>\n",
       "      <td>153.0</td>\n",
       "      <td>[{'english_name': 'Tamil', 'iso_639_1': 'ta', ...</td>\n",
       "      <td>Released</td>\n",
       "      <td>NaN</td>\n",
       "      <td>April Maadhathil</td>\n",
       "      <td>0.0</td>\n",
       "      <td>4.600</td>\n",
       "      <td>4.0</td>\n",
       "      <td>NaN</td>\n",
       "    </tr>\n",
       "  </tbody>\n",
       "</table>\n",
       "<p>216 rows × 26 columns</p>\n",
       "</div>"
      ],
      "text/plain": [
       "        imdb_id  adult                     backdrop_path  \\\n",
       "4     tt0120679    0.0  /s04Ds4xbJU7DzeGVyamccH4LoxF.jpg   \n",
       "5     tt0120804    0.0   /5pGWjnM62Zs0S1xRf3TDL1Xizr.jpg   \n",
       "6     tt0120912    0.0  /o1l6OCqA3pYDZHIc5L1s7CEzCMv.jpg   \n",
       "7     tt0121765    0.0  /abwxHfymXGAbbH3lo9PDEJEfvtW.jpg   \n",
       "8     tt0133240    0.0  /mVuH9hNGnxF9bbhlh1Tr9FuG3Uc.jpg   \n",
       "...         ...    ...                               ...   \n",
       "1130  tt0364385    0.0  /3ZDkl8rsoLe6g4FRV9alNH5sZOt.jpg   \n",
       "1138  tt0365960    0.0  /ahXtNFVHtFxvjphZN8QlHRVsu9W.jpg   \n",
       "1225  tt0757920    0.0  /sOkmFOVcDmH2P4GU9Mvyc4ZBC3D.jpg   \n",
       "1241  tt1039983    0.0  /7B5IQdNNyNsSwBaW9zzCT9XmAcJ.jpg   \n",
       "1262  tt1621767    0.0                               NaN   \n",
       "\n",
       "                                  belongs_to_collection       budget  \\\n",
       "4                                                   NaN   12000000.0   \n",
       "5     {'id': 17255, 'name': 'Resident Evil Collectio...   33000000.0   \n",
       "6     {'id': 86055, 'name': 'Men In Black Collection...  140000000.0   \n",
       "7     {'id': 10, 'name': 'Star Wars Collection', 'po...  120000000.0   \n",
       "8                                                   NaN  140000000.0   \n",
       "...                                                 ...          ...   \n",
       "1130  {'id': 1972, 'name': 'Ju-on Collection', 'post...    3500000.0   \n",
       "1138                                                NaN      20000.0   \n",
       "1225                                                NaN      10000.0   \n",
       "1241                                                NaN     500000.0   \n",
       "1262                                                NaN     400000.0   \n",
       "\n",
       "                                                 genres  \\\n",
       "4     [{'id': 18, 'name': 'Drama'}, {'id': 10749, 'n...   \n",
       "5     [{'id': 27, 'name': 'Horror'}, {'id': 28, 'nam...   \n",
       "6     [{'id': 28, 'name': 'Action'}, {'id': 12, 'nam...   \n",
       "7     [{'id': 12, 'name': 'Adventure'}, {'id': 28, '...   \n",
       "8     [{'id': 12, 'name': 'Adventure'}, {'id': 16, '...   \n",
       "...                                                 ...   \n",
       "1130                     [{'id': 27, 'name': 'Horror'}]   \n",
       "1138  [{'id': 80, 'name': 'Crime'}, {'id': 18, 'name...   \n",
       "1225  [{'id': 18, 'name': 'Drama'}, {'id': 10749, 'n...   \n",
       "1241  [{'id': 28, 'name': 'Action'}, {'id': 80, 'nam...   \n",
       "1262                 [{'id': 10749, 'name': 'Romance'}]   \n",
       "\n",
       "                                              homepage       id  \\\n",
       "4                  https://www.miramax.com/movie/frida   1360.0   \n",
       "5     https://www.sonypictures.com/movies/residentevil   1576.0   \n",
       "6     https://www.sonypictures.com/movies/meninblackii    608.0   \n",
       "7                                                  NaN   1894.0   \n",
       "8                                                  NaN   9016.0   \n",
       "...                                                ...      ...   \n",
       "1130                                               NaN  11838.0   \n",
       "1138                                               NaN  27090.0   \n",
       "1225                                               NaN  44078.0   \n",
       "1241                                               NaN  69419.0   \n",
       "1262                                               NaN  99116.0   \n",
       "\n",
       "     original_language                                original_title  ...  \\\n",
       "4                   en                                         Frida  ...   \n",
       "5                   en                                 Resident Evil  ...   \n",
       "6                   en                               Men in Black II  ...   \n",
       "7                   en  Star Wars: Episode II - Attack of the Clones  ...   \n",
       "8                   en                               Treasure Planet  ...   \n",
       "...                ...                                           ...  ...   \n",
       "1130                ja                                            呪怨  ...   \n",
       "1138                en                                      Zero Day  ...   \n",
       "1225                fa                     Dokhtar-e shirini-foroosh  ...   \n",
       "1241                ta                                          ரெட்  ...   \n",
       "1262                ta                              ஏப்ரல் மாதத்தில்  ...   \n",
       "\n",
       "          revenue  runtime                                   spoken_languages  \\\n",
       "4      56298474.0    123.0  [{'english_name': 'English', 'iso_639_1': 'en'...   \n",
       "5     102984862.0    100.0  [{'english_name': 'English', 'iso_639_1': 'en'...   \n",
       "6     445135288.0     88.0  [{'english_name': 'English', 'iso_639_1': 'en'...   \n",
       "7     649398328.0    142.0  [{'english_name': 'English', 'iso_639_1': 'en'...   \n",
       "8     109578115.0     95.0  [{'english_name': 'English', 'iso_639_1': 'en'...   \n",
       "...           ...      ...                                                ...   \n",
       "1130    3657876.0     92.0  [{'english_name': 'Japanese', 'iso_639_1': 'ja...   \n",
       "1138       8466.0     92.0  [{'english_name': 'German', 'iso_639_1': 'de',...   \n",
       "1225      10000.0    105.0  [{'english_name': 'Persian', 'iso_639_1': 'fa'...   \n",
       "1241     500000.0    157.0  [{'english_name': 'Tamil', 'iso_639_1': 'ta', ...   \n",
       "1262    2000000.0    153.0  [{'english_name': 'Tamil', 'iso_639_1': 'ta', ...   \n",
       "\n",
       "        status                                            tagline  \\\n",
       "4     Released                             Prepare to be seduced.   \n",
       "5     Released  A secret experiment. A deadly virus. A fatal m...   \n",
       "6     Released                                     Back in black.   \n",
       "7     Released  A Jedi Shall Not Know Anger. Nor Hatred. Nor L...   \n",
       "8     Released                   Find your place in the universe.   \n",
       "...        ...                                                ...   \n",
       "1130  Released  When a grudge from the dead passes to the livi...   \n",
       "1138  Released  In high school, you're told you can do anythin...   \n",
       "1225  Released                                                NaN   \n",
       "1241  Released                                                NaN   \n",
       "1262  Released                                                NaN   \n",
       "\n",
       "                                             title  video  vote_average  \\\n",
       "4                                            Frida    0.0         7.422   \n",
       "5                                    Resident Evil    0.0         6.611   \n",
       "6                                  Men in Black II    0.0         6.362   \n",
       "7     Star Wars: Episode II - Attack of the Clones    0.0         6.553   \n",
       "8                                  Treasure Planet    0.0         7.536   \n",
       "...                                            ...    ...           ...   \n",
       "1130                             Ju-on: The Grudge    0.0         6.700   \n",
       "1138                                      Zero Day    0.0         7.400   \n",
       "1225                               The Pastry Girl    0.0         1.000   \n",
       "1241                                           Red    0.0         5.100   \n",
       "1262                              April Maadhathil    0.0         4.600   \n",
       "\n",
       "     vote_count certification  \n",
       "4        1918.0             R  \n",
       "5        5882.0             R  \n",
       "6        9346.0         PG-13  \n",
       "7       12435.0            PG  \n",
       "8        3878.0            PG  \n",
       "...         ...           ...  \n",
       "1130      714.0             R  \n",
       "1138       79.0            NR  \n",
       "1225        1.0           NaN  \n",
       "1241        7.0           NaN  \n",
       "1262        4.0           NaN  \n",
       "\n",
       "[216 rows x 26 columns]"
      ]
     },
     "execution_count": 48,
     "metadata": {},
     "output_type": "execute_result"
    }
   ],
   "source": [
    "# Remove any movies with 0's for budget AND revenue from the remaining visualizations.\n",
    "df = df[filter_financial]\n",
    "df"
   ]
  },
  {
   "cell_type": "code",
   "execution_count": 49,
   "id": "b97d6852-7927-41c8-b9ab-035e316e9c43",
   "metadata": {},
   "outputs": [
    {
     "name": "stdout",
     "output_type": "stream",
     "text": [
      "There are 216 movies with valid budget/revenue.\n"
     ]
    }
   ],
   "source": [
    "print(f\"There are {len(df)} movies with valid budget/revenue.\")"
   ]
  },
  {
   "cell_type": "markdown",
   "id": "ed96dfa2-57f3-4f3d-9582-be12eee344da",
   "metadata": {},
   "source": [
    "## How many movies are there in each of the certification categories (G/PG/PG-13/R)?"
   ]
  },
  {
   "cell_type": "code",
   "execution_count": 50,
   "id": "937db868-a155-442f-bbe5-2e1a07426ab7",
   "metadata": {},
   "outputs": [
    {
     "data": {
      "text/plain": [
       "R        65\n",
       "PG-13    62\n",
       "NaN      62\n",
       "PG       17\n",
       "G         6\n",
       "NR        4\n",
       "Name: certification, dtype: int64"
      ]
     },
     "execution_count": 50,
     "metadata": {},
     "output_type": "execute_result"
    },
    {
     "data": {
      "image/png": "[encoded data removed]",
      "text/plain": [
       "<Figure size 640x480 with 1 Axes>"
      ]
     },
     "metadata": {},
     "output_type": "display_data"
    }
   ],
   "source": [
    "import seaborn as sns\n",
    "sns.countplot(data=df, x='certification');\n",
    "df['certification'].value_counts(dropna=False)"
   ]
  },
  {
   "cell_type": "markdown",
   "id": "00e89860-da57-4037-bc81-5ee39e60379a",
   "metadata": {},
   "source": [
    "## What is the average revenue per certification category?"
   ]
  },
  {
   "cell_type": "code",
   "execution_count": 51,
   "id": "53f3f412-48dc-437a-b6fe-e0f397477a94",
   "metadata": {},
   "outputs": [
    {
     "data": {
      "text/plain": [
       "certification\n",
       "G       $ 108,702,268\n",
       "NR        $ 1,797,002\n",
       "PG      $ 230,596,184\n",
       "PG-13   $ 115,031,449\n",
       "R        $ 34,032,220\n",
       "Name: revenue, dtype: float64"
      ]
     },
     "metadata": {},
     "output_type": "display_data"
    },
    {
     "data": {
      "image/png": "[encoded data removed]",
      "text/plain": [
       "<Figure size 640x480 with 1 Axes>"
      ]
     },
     "metadata": {},
     "output_type": "display_data"
    }
   ],
   "source": [
    "with pd.option_context('display.float_format',lambda x: f\"$ {x:,.0f}\"):\n",
    "    display(df.groupby('certification')['revenue'].mean())\n",
    "\n",
    "sns.barplot(data=df, x='certification', y='revenue');"
   ]
  },
  {
   "cell_type": "markdown",
   "id": "f353ceb1-64b2-4358-ba27-c4ce6f9335d9",
   "metadata": {},
   "source": [
    "## What is the average budget per certification category?"
   ]
  },
  {
   "cell_type": "code",
   "execution_count": 52,
   "id": "a515a44e-02a3-474b-99be-f26c6ff74a6e",
   "metadata": {},
   "outputs": [
    {
     "data": {
      "text/plain": [
       "certification\n",
       "G       $ 52,333,333\n",
       "NR       $ 3,180,000\n",
       "PG      $ 55,764,706\n",
       "PG-13   $ 44,144,853\n",
       "R       $ 24,254,863\n",
       "Name: budget, dtype: float64"
      ]
     },
     "metadata": {},
     "output_type": "display_data"
    },
    {
     "data": {
      "image/png": "[encoded data removed]",
      "text/plain": [
       "<Figure size 640x480 with 1 Axes>"
      ]
     },
     "metadata": {},
     "output_type": "display_data"
    }
   ],
   "source": [
    "with pd.option_context('display.float_format',lambda x: f\"$ {x:,.0f}\"):\n",
    "    display(df.groupby('certification')['budget'].mean())\n",
    "\n",
    "sns.barplot(data=df, x='certification', y='budget');"
   ]
  },
  {
   "cell_type": "code",
   "execution_count": 53,
   "id": "45adad96-48f0-496c-b531-c9fa04668914",
   "metadata": {},
   "outputs": [
    {
     "data": {
      "text/plain": [
       "['Data\\\\final_tmdb_data_2001.csv.gz', 'Data\\\\final_tmdb_data_2002.csv.gz']"
      ]
     },
     "execution_count": 53,
     "metadata": {},
     "output_type": "execute_result"
    }
   ],
   "source": [
    "import glob\n",
    "# Use glob to get all filepaths that match the pattern (*=wildcard)\n",
    "tmdb_files = sorted(glob.glob(\"Data/final_tmdb_data*.csv.gz\"))\n",
    "tmdb_files\n"
   ]
  }
 ],
 "metadata": {
  "kernelspec": {
   "display_name": "Python (dojo-env)",
   "language": "python",
   "name": "dojo-env"
  },
  "language_info": {
   "codemirror_mode": {
    "name": "ipython",
    "version": 3
   },
   "file_extension": ".py",
   "mimetype": "text/x-python",
   "name": "python",
   "nbconvert_exporter": "python",
   "pygments_lexer": "ipython3",
   "version": "3.10.10"
  },
  "widgets": {
   "application/vnd.jupyter.widget-state+json": {
    "state": {
     "00d063b846364185a0e35268fed8b675": {
      "model_module": "@jupyter-widgets/controls",
      "model_module_version": "2.0.0",
      "model_name": "HTMLStyleModel",
      "state": {
       "description_width": "",
       "font_size": null,
       "text_color": null
      }
     },
     "027b7c71ace240ee883db395e999a5d1": {
      "model_module": "@jupyter-widgets/base",
      "model_module_version": "2.0.0",
      "model_name": "LayoutModel",
      "state": {}
     },
     "031aebcee37441958a10240cdbe50108": {
      "model_module": "@jupyter-widgets/base",
      "model_module_version": "2.0.0",
      "model_name": "LayoutModel",
      "state": {}
     },
     "0748e1da22774e088a2900b315528c6c": {
      "model_module": "@jupyter-widgets/base",
      "model_module_version": "2.0.0",
      "model_name": "LayoutModel",
      "state": {}
     },
     "0805991aaf54406294c790bc57b7d177": {
      "model_module": "@jupyter-widgets/controls",
      "model_module_version": "2.0.0",
      "model_name": "HBoxModel",
      "state": {
       "children": [
        "IPY_MODEL_20b22ba185a646068566fef8b95c0f1c",
        "IPY_MODEL_0b8d27ba7f194a16a61e59e26dba059d",
        "IPY_MODEL_484e5f25a85d4f259fede13bb012d401"
       ],
       "layout": "IPY_MODEL_9e73064ba13842bf80452f1e0d983c2f"
      }
     },
     "0b8d27ba7f194a16a61e59e26dba059d": {
      "model_module": "@jupyter-widgets/controls",
      "model_module_version": "2.0.0",
      "model_name": "FloatProgressModel",
      "state": {
       "bar_style": "success",
       "layout": "IPY_MODEL_0748e1da22774e088a2900b315528c6c",
       "max": 277,
       "style": "IPY_MODEL_f7c9f88c435d4dbeaf31696183ff0948",
       "value": 277
      }
     },
     "0e984ec0f1bb4c89bf134429fb495f35": {
      "model_module": "@jupyter-widgets/controls",
      "model_module_version": "2.0.0",
      "model_name": "HTMLModel",
      "state": {
       "layout": "IPY_MODEL_db892f6221364a0cb7e30a788c77788d",
       "style": "IPY_MODEL_abfd6e3aad944821a28bc8079d94486c",
       "value": "Movies from 2001: 100%"
      }
     },
     "11de98bf817b4ee2b50f4b2851cfd5e0": {
      "model_module": "@jupyter-widgets/controls",
      "model_module_version": "2.0.0",
      "model_name": "FloatProgressModel",
      "state": {
       "bar_style": "success",
       "layout": "IPY_MODEL_983c1b8078134bdebb703f219e238eba",
       "max": 277,
       "style": "IPY_MODEL_5475afde02544e108173c0b8d90fcf94",
       "value": 277
      }
     },
     "13682fce46e8423cb95235239fa618dd": {
      "model_module": "@jupyter-widgets/controls",
      "model_module_version": "2.0.0",
      "model_name": "ProgressStyleModel",
      "state": {
       "description_width": ""
      }
     },
     "136be60b7fff47889eef0a8d9cd840d3": {
      "model_module": "@jupyter-widgets/controls",
      "model_module_version": "2.0.0",
      "model_name": "HTMLModel",
      "state": {
       "layout": "IPY_MODEL_db89af6312ec4db2a4094d93e9d89c8b",
       "style": "IPY_MODEL_55145b14762e4ccba9d2d2069d705b53",
       "value": " 2/2 [00:00&lt;00:00, 23.46it/s]"
      }
     },
     "137a986a15de473c85527d5af6bdebb9": {
      "model_module": "@jupyter-widgets/base",
      "model_module_version": "2.0.0",
      "model_name": "LayoutModel",
      "state": {}
     },
     "1386d657f04742e7b24603b29b07e06f": {
      "model_module": "@jupyter-widgets/controls",
      "model_module_version": "2.0.0",
      "model_name": "FloatProgressModel",
      "state": {
       "bar_style": "danger",
       "layout": "IPY_MODEL_c8032c5aba7648bf921fcd6e5cee7b06",
       "max": 2,
       "style": "IPY_MODEL_fd86491fe70844249c265f05cb2939ce"
      }
     },
     "16435703c4854d6b8c873717efb6aff2": {
      "model_module": "@jupyter-widgets/base",
      "model_module_version": "2.0.0",
      "model_name": "LayoutModel",
      "state": {}
     },
     "187b792b6bd74fcdb75d313a78b5322a": {
      "model_module": "@jupyter-widgets/base",
      "model_module_version": "2.0.0",
      "model_name": "LayoutModel",
      "state": {}
     },
     "1c0f29843792431bb94bc5e915820fde": {
      "model_module": "@jupyter-widgets/controls",
      "model_module_version": "2.0.0",
      "model_name": "HTMLStyleModel",
      "state": {
       "description_width": "",
       "font_size": null,
       "text_color": null
      }
     },
     "2088730f24b04ca88803c260037066d7": {
      "model_module": "@jupyter-widgets/controls",
      "model_module_version": "2.0.0",
      "model_name": "HTMLStyleModel",
      "state": {
       "description_width": "",
       "font_size": null,
       "text_color": null
      }
     },
     "20b22ba185a646068566fef8b95c0f1c": {
      "model_module": "@jupyter-widgets/controls",
      "model_module_version": "2.0.0",
      "model_name": "HTMLModel",
      "state": {
       "layout": "IPY_MODEL_4584892449a24a92b9229cb9999af6aa",
       "style": "IPY_MODEL_d2e0daad019e4111ae1ca24fde788d57",
       "value": "Movies from 2002: 100%"
      }
     },
     "22bc1f2936d3403e9f16200d77f39634": {
      "model_module": "@jupyter-widgets/controls",
      "model_module_version": "2.0.0",
      "model_name": "HTMLModel",
      "state": {
       "layout": "IPY_MODEL_ef0eaaa77b15488683f0d8a541aafceb",
       "style": "IPY_MODEL_ed303789f52c4c898a715e8dde2389e7",
       "value": "YEARS:   0%"
      }
     },
     "2326e32d4da540dba6497c007a3a372f": {
      "model_module": "@jupyter-widgets/controls",
      "model_module_version": "2.0.0",
      "model_name": "HTMLModel",
      "state": {
       "layout": "IPY_MODEL_031aebcee37441958a10240cdbe50108",
       "style": "IPY_MODEL_dc0d03fe8be74f8092c0b1fa68d22ee5",
       "value": " 32/1576 [00:17&lt;10:33,  2.44it/s]"
      }
     },
     "2db38d131d774fddbafc86766cac19ec": {
      "model_module": "@jupyter-widgets/controls",
      "model_module_version": "2.0.0",
      "model_name": "HTMLModel",
      "state": {
       "layout": "IPY_MODEL_536b3ce90a5e47eb8d82977231ad946c",
       "style": "IPY_MODEL_7ab00aa12b5c4063b6e8b118c303f370",
       "value": " 1545/1545 [15:36&lt;00:00,  2.91it/s]"
      }
     },
     "2db834e79a654e8d92514dcda6e58014": {
      "model_module": "@jupyter-widgets/base",
      "model_module_version": "2.0.0",
      "model_name": "LayoutModel",
      "state": {}
     },
     "2ee5ef42296e4bc093dbbe45495dbcc1": {
      "model_module": "@jupyter-widgets/base",
      "model_module_version": "2.0.0",
      "model_name": "LayoutModel",
      "state": {}
     },
     "3262c86351704cf98894fc5b9b97dbb0": {
      "model_module": "@jupyter-widgets/controls",
      "model_module_version": "2.0.0",
      "model_name": "FloatProgressModel",
      "state": {
       "bar_style": "success",
       "layout": "IPY_MODEL_ec16f256c85a4ecfa728d64831e7d177",
       "max": 1545,
       "style": "IPY_MODEL_859a145def7e483381932b87eb44aa70",
       "value": 1545
      }
     },
     "32fd3be3649341f6b861864340d2f00e": {
      "model_module": "@jupyter-widgets/controls",
      "model_module_version": "2.0.0",
      "model_name": "HTMLModel",
      "state": {
       "layout": "IPY_MODEL_9518d0e79a1849e3b6eb60d90d4411a9",
       "style": "IPY_MODEL_1c0f29843792431bb94bc5e915820fde",
       "value": "YEARS:   0%"
      }
     },
     "332d2f894e944861b0b14716c17dcaca": {
      "model_module": "@jupyter-widgets/base",
      "model_module_version": "2.0.0",
      "model_name": "LayoutModel",
      "state": {}
     },
     "354c6cc2ac144463bb751bc661a1d0cb": {
      "model_module": "@jupyter-widgets/base",
      "model_module_version": "2.0.0",
      "model_name": "LayoutModel",
      "state": {}
     },
     "36c66f3d138a46c5b88496497e2a1c88": {
      "model_module": "@jupyter-widgets/base",
      "model_module_version": "2.0.0",
      "model_name": "LayoutModel",
      "state": {}
     },
     "36dce596420349da978726921fb16042": {
      "model_module": "@jupyter-widgets/base",
      "model_module_version": "2.0.0",
      "model_name": "LayoutModel",
      "state": {}
     },
     "3ebe91bd7a92487a9bcb3aa9c2451b00": {
      "model_module": "@jupyter-widgets/controls",
      "model_module_version": "2.0.0",
      "model_name": "HTMLStyleModel",
      "state": {
       "description_width": "",
       "font_size": null,
       "text_color": null
      }
     },
     "4584892449a24a92b9229cb9999af6aa": {
      "model_module": "@jupyter-widgets/base",
      "model_module_version": "2.0.0",
      "model_name": "LayoutModel",
      "state": {}
     },
     "484e5f25a85d4f259fede13bb012d401": {
      "model_module": "@jupyter-widgets/controls",
      "model_module_version": "2.0.0",
      "model_name": "HTMLModel",
      "state": {
       "layout": "IPY_MODEL_8fc7ad260b5a4c8785831e2945394587",
       "style": "IPY_MODEL_fb2c22a973e542cea37feafc86f78a37",
       "value": " 277/277 [01:02&lt;00:00,  5.05it/s]"
      }
     },
     "4a9af24fc6cf4af1aa046b33b1e99801": {
      "model_module": "@jupyter-widgets/base",
      "model_module_version": "2.0.0",
      "model_name": "LayoutModel",
      "state": {}
     },
     "4cea7fdc04e94ce4802c1525ca1be7c5": {
      "model_module": "@jupyter-widgets/controls",
      "model_module_version": "2.0.0",
      "model_name": "FloatProgressModel",
      "state": {
       "bar_style": "danger",
       "layout": "IPY_MODEL_36dce596420349da978726921fb16042",
       "max": 2,
       "style": "IPY_MODEL_6dfe0d150356490da68bf681d49b94a5"
      }
     },
     "4d14cc061bf34915b8fced4418b25e85": {
      "model_module": "@jupyter-widgets/controls",
      "model_module_version": "2.0.0",
      "model_name": "HTMLStyleModel",
      "state": {
       "description_width": "",
       "font_size": null,
       "text_color": null
      }
     },
     "536b3ce90a5e47eb8d82977231ad946c": {
      "model_module": "@jupyter-widgets/base",
      "model_module_version": "2.0.0",
      "model_name": "LayoutModel",
      "state": {}
     },
     "541468931c3e4fc7ab7acb18eaceabb0": {
      "model_module": "@jupyter-widgets/base",
      "model_module_version": "2.0.0",
      "model_name": "LayoutModel",
      "state": {}
     },
     "5441f31cdd41453191b3f84ecc3a56f2": {
      "model_module": "@jupyter-widgets/base",
      "model_module_version": "2.0.0",
      "model_name": "LayoutModel",
      "state": {}
     },
     "5475afde02544e108173c0b8d90fcf94": {
      "model_module": "@jupyter-widgets/controls",
      "model_module_version": "2.0.0",
      "model_name": "ProgressStyleModel",
      "state": {
       "description_width": ""
      }
     },
     "54c7ecb12cf44530805643f794730fa5": {
      "model_module": "@jupyter-widgets/controls",
      "model_module_version": "2.0.0",
      "model_name": "FloatProgressModel",
      "state": {
       "bar_style": "success",
       "layout": "IPY_MODEL_4a9af24fc6cf4af1aa046b33b1e99801",
       "max": 2,
       "style": "IPY_MODEL_13682fce46e8423cb95235239fa618dd",
       "value": 2
      }
     },
     "55145b14762e4ccba9d2d2069d705b53": {
      "model_module": "@jupyter-widgets/controls",
      "model_module_version": "2.0.0",
      "model_name": "HTMLStyleModel",
      "state": {
       "description_width": "",
       "font_size": null,
       "text_color": null
      }
     },
     "56e1e7fb9dfe44b0a4e32905acff4959": {
      "model_module": "@jupyter-widgets/controls",
      "model_module_version": "2.0.0",
      "model_name": "HTMLModel",
      "state": {
       "layout": "IPY_MODEL_027b7c71ace240ee883db395e999a5d1",
       "style": "IPY_MODEL_4d14cc061bf34915b8fced4418b25e85",
       "value": "Movies from 2001: 100%"
      }
     },
     "59224142b2e7473da27841b115b37666": {
      "model_module": "@jupyter-widgets/base",
      "model_module_version": "2.0.0",
      "model_name": "LayoutModel",
      "state": {}
     },
     "59752058ebb045cca6150e0109962f1c": {
      "model_module": "@jupyter-widgets/controls",
      "model_module_version": "2.0.0",
      "model_name": "HTMLModel",
      "state": {
       "layout": "IPY_MODEL_af8b41352e7a469183ba8f17606fd11f",
       "style": "IPY_MODEL_da49f93e86af4352910047f68fbaad9c",
       "value": "YEARS: 100%"
      }
     },
     "5a3ab62720e6405e9db4f89d05742351": {
      "model_module": "@jupyter-widgets/controls",
      "model_module_version": "2.0.0",
      "model_name": "HTMLStyleModel",
      "state": {
       "description_width": "",
       "font_size": null,
       "text_color": null
      }
     },
     "5b4d6d950ec54d62acabde27559d1b8d": {
      "model_module": "@jupyter-widgets/controls",
      "model_module_version": "2.0.0",
      "model_name": "HBoxModel",
      "state": {
       "children": [
        "IPY_MODEL_e5280283f5eb43ddbab9c70c5f166132",
        "IPY_MODEL_a6d36ef313f849299723996a9ea5e7b6",
        "IPY_MODEL_2326e32d4da540dba6497c007a3a372f"
       ],
       "layout": "IPY_MODEL_59224142b2e7473da27841b115b37666"
      }
     },
     "5ce82fd4c9ce46398180f46eab439bf7": {
      "model_module": "@jupyter-widgets/controls",
      "model_module_version": "2.0.0",
      "model_name": "HTMLModel",
      "state": {
       "layout": "IPY_MODEL_d94e8188f1c5464292a17a215a3e5f82",
       "style": "IPY_MODEL_3ebe91bd7a92487a9bcb3aa9c2451b00",
       "value": " 277/277 [00:58&lt;00:00,  5.02it/s]"
      }
     },
     "5d32840d0ee24a3a8eec6d97d68d3fe7": {
      "model_module": "@jupyter-widgets/controls",
      "model_module_version": "2.0.0",
      "model_name": "HTMLStyleModel",
      "state": {
       "description_width": "",
       "font_size": null,
       "text_color": null
      }
     },
     "5fab3c16ef2145ba949dd5a1f1342198": {
      "model_module": "@jupyter-widgets/base",
      "model_module_version": "2.0.0",
      "model_name": "LayoutModel",
      "state": {}
     },
     "64e03a6dca1a4eb684327e9302a5e244": {
      "model_module": "@jupyter-widgets/base",
      "model_module_version": "2.0.0",
      "model_name": "LayoutModel",
      "state": {}
     },
     "65b1bffd31564b60b70b7403afaa59ce": {
      "model_module": "@jupyter-widgets/controls",
      "model_module_version": "2.0.0",
      "model_name": "FloatProgressModel",
      "state": {
       "bar_style": "success",
       "layout": "IPY_MODEL_36c66f3d138a46c5b88496497e2a1c88",
       "max": 2,
       "style": "IPY_MODEL_ad4254e26dfe419cbb1e2f07616c1cef",
       "value": 2
      }
     },
     "69daa2a98d814164ae8798bd949ec335": {
      "model_module": "@jupyter-widgets/controls",
      "model_module_version": "2.0.0",
      "model_name": "HTMLModel",
      "state": {
       "layout": "IPY_MODEL_b0d91088afd143d0bf089cfa168ec3fe",
       "style": "IPY_MODEL_bf41d33cf8c04625b58890659e7618bb",
       "value": " 0/2 [00:17&lt;?, ?it/s]"
      }
     },
     "6baf2fb134ed4cad81e7c3a7223677fb": {
      "model_module": "@jupyter-widgets/controls",
      "model_module_version": "2.0.0",
      "model_name": "HTMLModel",
      "state": {
       "layout": "IPY_MODEL_187b792b6bd74fcdb75d313a78b5322a",
       "style": "IPY_MODEL_8ac4d3faec8741798019886468e3950c",
       "value": " 277/277 [01:03&lt;00:00,  3.87it/s]"
      }
     },
     "6dfe0d150356490da68bf681d49b94a5": {
      "model_module": "@jupyter-widgets/controls",
      "model_module_version": "2.0.0",
      "model_name": "ProgressStyleModel",
      "state": {
       "description_width": ""
      }
     },
     "6fcf8f6f58a247a688e3fc5b5fdc3b01": {
      "model_module": "@jupyter-widgets/controls",
      "model_module_version": "2.0.0",
      "model_name": "ProgressStyleModel",
      "state": {
       "description_width": ""
      }
     },
     "79d161324fe84804ac7afc07a4ba75ee": {
      "model_module": "@jupyter-widgets/base",
      "model_module_version": "2.0.0",
      "model_name": "LayoutModel",
      "state": {}
     },
     "7a801535443d427e806ee0ad492bfa1e": {
      "model_module": "@jupyter-widgets/controls",
      "model_module_version": "2.0.0",
      "model_name": "HTMLModel",
      "state": {
       "layout": "IPY_MODEL_b760201b970e4cdbbaa443cbdd9f00e8",
       "style": "IPY_MODEL_00d063b846364185a0e35268fed8b675",
       "value": " 0/2 [15:36&lt;?, ?it/s]"
      }
     },
     "7ab00aa12b5c4063b6e8b118c303f370": {
      "model_module": "@jupyter-widgets/controls",
      "model_module_version": "2.0.0",
      "model_name": "HTMLStyleModel",
      "state": {
       "description_width": "",
       "font_size": null,
       "text_color": null
      }
     },
     "819ac734dd3b45fdb5c771074cd930de": {
      "model_module": "@jupyter-widgets/controls",
      "model_module_version": "2.0.0",
      "model_name": "HBoxModel",
      "state": {
       "children": [
        "IPY_MODEL_d311f4d78fe7474e918e60ed5ef11802",
        "IPY_MODEL_d41bf7b28a0549d58c367e7f5ea4a7f0",
        "IPY_MODEL_5ce82fd4c9ce46398180f46eab439bf7"
       ],
       "layout": "IPY_MODEL_dc8cbc3fc9c2497fa46f2bf2d0398ee8"
      }
     },
     "839f459a45434f249e21a26587e2672d": {
      "model_module": "@jupyter-widgets/controls",
      "model_module_version": "2.0.0",
      "model_name": "HBoxModel",
      "state": {
       "children": [
        "IPY_MODEL_e04681bb84654938a7b1eb362a0d6a0d",
        "IPY_MODEL_65b1bffd31564b60b70b7403afaa59ce",
        "IPY_MODEL_84565ad873794d8ebaee20cbe0f97c43"
       ],
       "layout": "IPY_MODEL_5fab3c16ef2145ba949dd5a1f1342198"
      }
     },
     "84565ad873794d8ebaee20cbe0f97c43": {
      "model_module": "@jupyter-widgets/controls",
      "model_module_version": "2.0.0",
      "model_name": "HTMLModel",
      "state": {
       "layout": "IPY_MODEL_541468931c3e4fc7ab7acb18eaceabb0",
       "style": "IPY_MODEL_c4eed5245f674ecdaf8698c8a3978f2f",
       "value": " 2/2 [00:00&lt;00:00, 28.65it/s]"
      }
     },
     "859a145def7e483381932b87eb44aa70": {
      "model_module": "@jupyter-widgets/controls",
      "model_module_version": "2.0.0",
      "model_name": "ProgressStyleModel",
      "state": {
       "description_width": ""
      }
     },
     "898005ba7a734ce887a0ba80c65ee0f4": {
      "model_module": "@jupyter-widgets/base",
      "model_module_version": "2.0.0",
      "model_name": "LayoutModel",
      "state": {}
     },
     "8ac4d3faec8741798019886468e3950c": {
      "model_module": "@jupyter-widgets/controls",
      "model_module_version": "2.0.0",
      "model_name": "HTMLStyleModel",
      "state": {
       "description_width": "",
       "font_size": null,
       "text_color": null
      }
     },
     "8c0e2ed1ad744cbc9763e8c522cc8996": {
      "model_module": "@jupyter-widgets/controls",
      "model_module_version": "2.0.0",
      "model_name": "HTMLModel",
      "state": {
       "layout": "IPY_MODEL_ecc61331d7374e00a654265f6b7b74e1",
       "style": "IPY_MODEL_d19f75a334ac4ba7b956686b318312d7",
       "value": " 2/2 [01:48&lt;00:00, 55.62s/it]"
      }
     },
     "8c589a6d2dce4a7a9e57bcf69a80bd0e": {
      "model_module": "@jupyter-widgets/controls",
      "model_module_version": "2.0.0",
      "model_name": "HBoxModel",
      "state": {
       "children": [
        "IPY_MODEL_ce5ca2e5f99845a9afbacc31d56a62c4",
        "IPY_MODEL_e1741b5972cd4c759e33b6adfb1c52e9",
        "IPY_MODEL_136be60b7fff47889eef0a8d9cd840d3"
       ],
       "layout": "IPY_MODEL_898005ba7a734ce887a0ba80c65ee0f4"
      }
     },
     "8d23b5cf2f4b4cfeb666d576c4e3f6ea": {
      "model_module": "@jupyter-widgets/base",
      "model_module_version": "2.0.0",
      "model_name": "LayoutModel",
      "state": {}
     },
     "8fc7ad260b5a4c8785831e2945394587": {
      "model_module": "@jupyter-widgets/base",
      "model_module_version": "2.0.0",
      "model_name": "LayoutModel",
      "state": {}
     },
     "90c465be6cf64209a41f9b0f147cf1b3": {
      "model_module": "@jupyter-widgets/controls",
      "model_module_version": "2.0.0",
      "model_name": "ProgressStyleModel",
      "state": {
       "description_width": ""
      }
     },
     "9518d0e79a1849e3b6eb60d90d4411a9": {
      "model_module": "@jupyter-widgets/base",
      "model_module_version": "2.0.0",
      "model_name": "LayoutModel",
      "state": {}
     },
     "95a5b2d18dd742e5be8891701613d239": {
      "model_module": "@jupyter-widgets/controls",
      "model_module_version": "2.0.0",
      "model_name": "FloatProgressModel",
      "state": {
       "bar_style": "success",
       "layout": "IPY_MODEL_137a986a15de473c85527d5af6bdebb9",
       "max": 217,
       "style": "IPY_MODEL_90c465be6cf64209a41f9b0f147cf1b3",
       "value": 217
      }
     },
     "983c1b8078134bdebb703f219e238eba": {
      "model_module": "@jupyter-widgets/base",
      "model_module_version": "2.0.0",
      "model_name": "LayoutModel",
      "state": {}
     },
     "98b244768a3643e0b668734b9e361a51": {
      "model_module": "@jupyter-widgets/base",
      "model_module_version": "2.0.0",
      "model_name": "LayoutModel",
      "state": {}
     },
     "9e73064ba13842bf80452f1e0d983c2f": {
      "model_module": "@jupyter-widgets/base",
      "model_module_version": "2.0.0",
      "model_name": "LayoutModel",
      "state": {}
     },
     "a21fdfbe2e244c2cb0ad46bbbfa2aa3b": {
      "model_module": "@jupyter-widgets/controls",
      "model_module_version": "2.0.0",
      "model_name": "HTMLModel",
      "state": {
       "layout": "IPY_MODEL_c55330ad316c4f7cadba9eeed565510b",
       "style": "IPY_MODEL_ccf04b53431449dc89319574ca8e8b03",
       "value": " 217/217 [00:45&lt;00:00,  5.31it/s]"
      }
     },
     "a6d36ef313f849299723996a9ea5e7b6": {
      "model_module": "@jupyter-widgets/controls",
      "model_module_version": "2.0.0",
      "model_name": "FloatProgressModel",
      "state": {
       "bar_style": "danger",
       "layout": "IPY_MODEL_b2ac137acee3438984167281b5ae4767",
       "max": 1576,
       "style": "IPY_MODEL_c4411c595a514c909c97a3d1b7c10a37",
       "value": 32
      }
     },
     "a7f7589c96f340f38eccc0ba1a79925b": {
      "model_module": "@jupyter-widgets/controls",
      "model_module_version": "2.0.0",
      "model_name": "HBoxModel",
      "state": {
       "children": [
        "IPY_MODEL_56e1e7fb9dfe44b0a4e32905acff4959",
        "IPY_MODEL_95a5b2d18dd742e5be8891701613d239",
        "IPY_MODEL_a21fdfbe2e244c2cb0ad46bbbfa2aa3b"
       ],
       "layout": "IPY_MODEL_2ee5ef42296e4bc093dbbe45495dbcc1"
      }
     },
     "a8a4c364c61d4bcca3fc986188194b3a": {
      "model_module": "@jupyter-widgets/base",
      "model_module_version": "2.0.0",
      "model_name": "LayoutModel",
      "state": {}
     },
     "a9e673a2752f4b85ba447fe005a18276": {
      "model_module": "@jupyter-widgets/base",
      "model_module_version": "2.0.0",
      "model_name": "LayoutModel",
      "state": {}
     },
     "abfd6e3aad944821a28bc8079d94486c": {
      "model_module": "@jupyter-widgets/controls",
      "model_module_version": "2.0.0",
      "model_name": "HTMLStyleModel",
      "state": {
       "description_width": "",
       "font_size": null,
       "text_color": null
      }
     },
     "ad4254e26dfe419cbb1e2f07616c1cef": {
      "model_module": "@jupyter-widgets/controls",
      "model_module_version": "2.0.0",
      "model_name": "ProgressStyleModel",
      "state": {
       "description_width": ""
      }
     },
     "af8b41352e7a469183ba8f17606fd11f": {
      "model_module": "@jupyter-widgets/base",
      "model_module_version": "2.0.0",
      "model_name": "LayoutModel",
      "state": {}
     },
     "afdc640869614c10aa34dc22f8f528fe": {
      "model_module": "@jupyter-widgets/controls",
      "model_module_version": "2.0.0",
      "model_name": "HTMLStyleModel",
      "state": {
       "description_width": "",
       "font_size": null,
       "text_color": null
      }
     },
     "b0d91088afd143d0bf089cfa168ec3fe": {
      "model_module": "@jupyter-widgets/base",
      "model_module_version": "2.0.0",
      "model_name": "LayoutModel",
      "state": {}
     },
     "b2ac137acee3438984167281b5ae4767": {
      "model_module": "@jupyter-widgets/base",
      "model_module_version": "2.0.0",
      "model_name": "LayoutModel",
      "state": {}
     },
     "b760201b970e4cdbbaa443cbdd9f00e8": {
      "model_module": "@jupyter-widgets/base",
      "model_module_version": "2.0.0",
      "model_name": "LayoutModel",
      "state": {}
     },
     "bf41d33cf8c04625b58890659e7618bb": {
      "model_module": "@jupyter-widgets/controls",
      "model_module_version": "2.0.0",
      "model_name": "HTMLStyleModel",
      "state": {
       "description_width": "",
       "font_size": null,
       "text_color": null
      }
     },
     "c3c143b2d25c45cda9ae965596555372": {
      "model_module": "@jupyter-widgets/base",
      "model_module_version": "2.0.0",
      "model_name": "LayoutModel",
      "state": {}
     },
     "c4411c595a514c909c97a3d1b7c10a37": {
      "model_module": "@jupyter-widgets/controls",
      "model_module_version": "2.0.0",
      "model_name": "ProgressStyleModel",
      "state": {
       "description_width": ""
      }
     },
     "c4eed5245f674ecdaf8698c8a3978f2f": {
      "model_module": "@jupyter-widgets/controls",
      "model_module_version": "2.0.0",
      "model_name": "HTMLStyleModel",
      "state": {
       "description_width": "",
       "font_size": null,
       "text_color": null
      }
     },
     "c55330ad316c4f7cadba9eeed565510b": {
      "model_module": "@jupyter-widgets/base",
      "model_module_version": "2.0.0",
      "model_name": "LayoutModel",
      "state": {}
     },
     "c8032c5aba7648bf921fcd6e5cee7b06": {
      "model_module": "@jupyter-widgets/base",
      "model_module_version": "2.0.0",
      "model_name": "LayoutModel",
      "state": {}
     },
     "ccf04b53431449dc89319574ca8e8b03": {
      "model_module": "@jupyter-widgets/controls",
      "model_module_version": "2.0.0",
      "model_name": "HTMLStyleModel",
      "state": {
       "description_width": "",
       "font_size": null,
       "text_color": null
      }
     },
     "ce455aea48f44293bedb4e6e769d1c55": {
      "model_module": "@jupyter-widgets/controls",
      "model_module_version": "2.0.0",
      "model_name": "HTMLModel",
      "state": {
       "layout": "IPY_MODEL_79d161324fe84804ac7afc07a4ba75ee",
       "style": "IPY_MODEL_5d32840d0ee24a3a8eec6d97d68d3fe7",
       "value": "Movies from 2002: 100%"
      }
     },
     "ce5ca2e5f99845a9afbacc31d56a62c4": {
      "model_module": "@jupyter-widgets/controls",
      "model_module_version": "2.0.0",
      "model_name": "HTMLModel",
      "state": {
       "layout": "IPY_MODEL_5441f31cdd41453191b3f84ecc3a56f2",
       "style": "IPY_MODEL_5a3ab62720e6405e9db4f89d05742351",
       "value": "YEARS: 100%"
      }
     },
     "d19f75a334ac4ba7b956686b318312d7": {
      "model_module": "@jupyter-widgets/controls",
      "model_module_version": "2.0.0",
      "model_name": "HTMLStyleModel",
      "state": {
       "description_width": "",
       "font_size": null,
       "text_color": null
      }
     },
     "d2e0daad019e4111ae1ca24fde788d57": {
      "model_module": "@jupyter-widgets/controls",
      "model_module_version": "2.0.0",
      "model_name": "HTMLStyleModel",
      "state": {
       "description_width": "",
       "font_size": null,
       "text_color": null
      }
     },
     "d311f4d78fe7474e918e60ed5ef11802": {
      "model_module": "@jupyter-widgets/controls",
      "model_module_version": "2.0.0",
      "model_name": "HTMLModel",
      "state": {
       "layout": "IPY_MODEL_98b244768a3643e0b668734b9e361a51",
       "style": "IPY_MODEL_efb252d4e2ae4b95a433c68df0ebc42e",
       "value": "Movies from 2002: 100%"
      }
     },
     "d41bf7b28a0549d58c367e7f5ea4a7f0": {
      "model_module": "@jupyter-widgets/controls",
      "model_module_version": "2.0.0",
      "model_name": "FloatProgressModel",
      "state": {
       "bar_style": "success",
       "layout": "IPY_MODEL_2db834e79a654e8d92514dcda6e58014",
       "max": 277,
       "style": "IPY_MODEL_db782eed8b404fcf8dce7e850033fbdf",
       "value": 277
      }
     },
     "d867c37b5391467a8f60293fb14fad6d": {
      "model_module": "@jupyter-widgets/controls",
      "model_module_version": "2.0.0",
      "model_name": "HBoxModel",
      "state": {
       "children": [
        "IPY_MODEL_59752058ebb045cca6150e0109962f1c",
        "IPY_MODEL_54c7ecb12cf44530805643f794730fa5",
        "IPY_MODEL_8c0e2ed1ad744cbc9763e8c522cc8996"
       ],
       "layout": "IPY_MODEL_a8a4c364c61d4bcca3fc986188194b3a"
      }
     },
     "d94e8188f1c5464292a17a215a3e5f82": {
      "model_module": "@jupyter-widgets/base",
      "model_module_version": "2.0.0",
      "model_name": "LayoutModel",
      "state": {}
     },
     "da49f93e86af4352910047f68fbaad9c": {
      "model_module": "@jupyter-widgets/controls",
      "model_module_version": "2.0.0",
      "model_name": "HTMLStyleModel",
      "state": {
       "description_width": "",
       "font_size": null,
       "text_color": null
      }
     },
     "db782eed8b404fcf8dce7e850033fbdf": {
      "model_module": "@jupyter-widgets/controls",
      "model_module_version": "2.0.0",
      "model_name": "ProgressStyleModel",
      "state": {
       "description_width": ""
      }
     },
     "db892f6221364a0cb7e30a788c77788d": {
      "model_module": "@jupyter-widgets/base",
      "model_module_version": "2.0.0",
      "model_name": "LayoutModel",
      "state": {}
     },
     "db89af6312ec4db2a4094d93e9d89c8b": {
      "model_module": "@jupyter-widgets/base",
      "model_module_version": "2.0.0",
      "model_name": "LayoutModel",
      "state": {}
     },
     "dc0d03fe8be74f8092c0b1fa68d22ee5": {
      "model_module": "@jupyter-widgets/controls",
      "model_module_version": "2.0.0",
      "model_name": "HTMLStyleModel",
      "state": {
       "description_width": "",
       "font_size": null,
       "text_color": null
      }
     },
     "dc8cbc3fc9c2497fa46f2bf2d0398ee8": {
      "model_module": "@jupyter-widgets/base",
      "model_module_version": "2.0.0",
      "model_name": "LayoutModel",
      "state": {}
     },
     "de11e838f1e1492ba2afc0392d64e4d4": {
      "model_module": "@jupyter-widgets/controls",
      "model_module_version": "2.0.0",
      "model_name": "HBoxModel",
      "state": {
       "children": [
        "IPY_MODEL_0e984ec0f1bb4c89bf134429fb495f35",
        "IPY_MODEL_3262c86351704cf98894fc5b9b97dbb0",
        "IPY_MODEL_2db38d131d774fddbafc86766cac19ec"
       ],
       "layout": "IPY_MODEL_c3c143b2d25c45cda9ae965596555372"
      }
     },
     "e04681bb84654938a7b1eb362a0d6a0d": {
      "model_module": "@jupyter-widgets/controls",
      "model_module_version": "2.0.0",
      "model_name": "HTMLModel",
      "state": {
       "layout": "IPY_MODEL_332d2f894e944861b0b14716c17dcaca",
       "style": "IPY_MODEL_afdc640869614c10aa34dc22f8f528fe",
       "value": "YEARS: 100%"
      }
     },
     "e0df70733d4d40678f424e8c856d4bd6": {
      "model_module": "@jupyter-widgets/controls",
      "model_module_version": "2.0.0",
      "model_name": "HBoxModel",
      "state": {
       "children": [
        "IPY_MODEL_ce455aea48f44293bedb4e6e769d1c55",
        "IPY_MODEL_11de98bf817b4ee2b50f4b2851cfd5e0",
        "IPY_MODEL_6baf2fb134ed4cad81e7c3a7223677fb"
       ],
       "layout": "IPY_MODEL_a9e673a2752f4b85ba447fe005a18276"
      }
     },
     "e1741b5972cd4c759e33b6adfb1c52e9": {
      "model_module": "@jupyter-widgets/controls",
      "model_module_version": "2.0.0",
      "model_name": "FloatProgressModel",
      "state": {
       "bar_style": "success",
       "layout": "IPY_MODEL_354c6cc2ac144463bb751bc661a1d0cb",
       "max": 2,
       "style": "IPY_MODEL_6fcf8f6f58a247a688e3fc5b5fdc3b01",
       "value": 2
      }
     },
     "e5280283f5eb43ddbab9c70c5f166132": {
      "model_module": "@jupyter-widgets/controls",
      "model_module_version": "2.0.0",
      "model_name": "HTMLModel",
      "state": {
       "layout": "IPY_MODEL_8d23b5cf2f4b4cfeb666d576c4e3f6ea",
       "style": "IPY_MODEL_2088730f24b04ca88803c260037066d7",
       "value": "Movies from 2001:   2%"
      }
     },
     "ebbdb0350ec749a7a60073957ceab88a": {
      "model_module": "@jupyter-widgets/controls",
      "model_module_version": "2.0.0",
      "model_name": "HBoxModel",
      "state": {
       "children": [
        "IPY_MODEL_22bc1f2936d3403e9f16200d77f39634",
        "IPY_MODEL_4cea7fdc04e94ce4802c1525ca1be7c5",
        "IPY_MODEL_69daa2a98d814164ae8798bd949ec335"
       ],
       "layout": "IPY_MODEL_16435703c4854d6b8c873717efb6aff2"
      }
     },
     "ec16f256c85a4ecfa728d64831e7d177": {
      "model_module": "@jupyter-widgets/base",
      "model_module_version": "2.0.0",
      "model_name": "LayoutModel",
      "state": {}
     },
     "ecc61331d7374e00a654265f6b7b74e1": {
      "model_module": "@jupyter-widgets/base",
      "model_module_version": "2.0.0",
      "model_name": "LayoutModel",
      "state": {}
     },
     "ed303789f52c4c898a715e8dde2389e7": {
      "model_module": "@jupyter-widgets/controls",
      "model_module_version": "2.0.0",
      "model_name": "HTMLStyleModel",
      "state": {
       "description_width": "",
       "font_size": null,
       "text_color": null
      }
     },
     "ef0eaaa77b15488683f0d8a541aafceb": {
      "model_module": "@jupyter-widgets/base",
      "model_module_version": "2.0.0",
      "model_name": "LayoutModel",
      "state": {}
     },
     "efb252d4e2ae4b95a433c68df0ebc42e": {
      "model_module": "@jupyter-widgets/controls",
      "model_module_version": "2.0.0",
      "model_name": "HTMLStyleModel",
      "state": {
       "description_width": "",
       "font_size": null,
       "text_color": null
      }
     },
     "efdfbd5d468c40baaafaede693d44f72": {
      "model_module": "@jupyter-widgets/controls",
      "model_module_version": "2.0.0",
      "model_name": "HBoxModel",
      "state": {
       "children": [
        "IPY_MODEL_32fd3be3649341f6b861864340d2f00e",
        "IPY_MODEL_1386d657f04742e7b24603b29b07e06f",
        "IPY_MODEL_7a801535443d427e806ee0ad492bfa1e"
       ],
       "layout": "IPY_MODEL_64e03a6dca1a4eb684327e9302a5e244"
      }
     },
     "f7c9f88c435d4dbeaf31696183ff0948": {
      "model_module": "@jupyter-widgets/controls",
      "model_module_version": "2.0.0",
      "model_name": "ProgressStyleModel",
      "state": {
       "description_width": ""
      }
     },
     "fb2c22a973e542cea37feafc86f78a37": {
      "model_module": "@jupyter-widgets/controls",
      "model_module_version": "2.0.0",
      "model_name": "HTMLStyleModel",
      "state": {
       "description_width": "",
       "font_size": null,
       "text_color": null
      }
     },
     "fd86491fe70844249c265f05cb2939ce": {
      "model_module": "@jupyter-widgets/controls",
      "model_module_version": "2.0.0",
      "model_name": "ProgressStyleModel",
      "state": {
       "description_width": ""
      }
     }
    },
    "version_major": 2,
    "version_minor": 0
   }
  }
 },
 "nbformat": 4,
 "nbformat_minor": 5
}
