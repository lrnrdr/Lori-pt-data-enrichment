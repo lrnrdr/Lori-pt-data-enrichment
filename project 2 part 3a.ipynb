{
 "cells": [
  {
   "cell_type": "code",
   "execution_count": 1,
   "id": "86d88b70-1aa2-40f7-8ba5-944dbeb2cc9a",
   "metadata": {},
   "outputs": [
    {
     "name": "stdout",
     "output_type": "stream",
     "text": [
      "Requirement already satisfied: tmdbsimple in c:\\users\\rdrlr\\anaconda3\\envs\\dojo-env\\lib\\site-packages (2.9.1)\n",
      "Requirement already satisfied: requests in c:\\users\\rdrlr\\anaconda3\\envs\\dojo-env\\lib\\site-packages (from tmdbsimple) (2.29.0)\n",
      "Requirement already satisfied: charset-normalizer<4,>=2 in c:\\users\\rdrlr\\anaconda3\\envs\\dojo-env\\lib\\site-packages (from requests->tmdbsimple) (2.0.4)\n",
      "Requirement already satisfied: idna<4,>=2.5 in c:\\users\\rdrlr\\anaconda3\\envs\\dojo-env\\lib\\site-packages (from requests->tmdbsimple) (3.4)\n",
      "Requirement already satisfied: urllib3<1.27,>=1.21.1 in c:\\users\\rdrlr\\anaconda3\\envs\\dojo-env\\lib\\site-packages (from requests->tmdbsimple) (1.26.15)\n",
      "Requirement already satisfied: certifi>=2017.4.17 in c:\\users\\rdrlr\\anaconda3\\envs\\dojo-env\\lib\\site-packages (from requests->tmdbsimple) (2023.5.7)\n"
     ]
    }
   ],
   "source": [
    "!pip install tmdbsimple"
   ]
  },
  {
   "cell_type": "code",
   "execution_count": 2,
   "id": "b902791e-5ca4-4f4d-a709-a94a25aa73e9",
   "metadata": {},
   "outputs": [
    {
     "data": {
      "text/plain": [
       "dict_keys(['api-key'])"
      ]
     },
     "execution_count": 2,
     "metadata": {},
     "output_type": "execute_result"
    }
   ],
   "source": [
    "# Using API Credentials\n",
    "import json\n",
    "with open('/Users/rdrlr/.secret/tmdb_api.json', 'r') as f:\n",
    "    login = json.load(f)\n",
    "## Display the keys of the loaded dict\n",
    "login.keys()\n"
   ]
  },
  {
   "cell_type": "code",
   "execution_count": 3,
   "id": "ce9dd148-ec48-417e-98ce-4fedd61f31c1",
   "metadata": {},
   "outputs": [],
   "source": [
    "# After installing tmdbsimple above, import the package \n",
    "# and set the API_KEY variable to the \"API Key(v3 auth)\" entry from your Settings page\n",
    "import tmdbsimple as tmdb\n",
    "tmdb.API_KEY =  login['api-key']"
   ]
  },
  {
   "cell_type": "code",
   "execution_count": 4,
   "id": "45f8aa7f-45f0-4508-aabb-4adab79fd7cf",
   "metadata": {},
   "outputs": [
    {
     "data": {
      "text/plain": [
       "<tmdbsimple.movies.Movies at 0x28aafe2f340>"
      ]
     },
     "execution_count": 4,
     "metadata": {},
     "output_type": "execute_result"
    }
   ],
   "source": [
    "# create a movie object using the .Movies function from tmdb\n",
    "# Next, you can use the MovieID with the tmdb.Movies() function to create a movie instance. \n",
    "# This is just an example that arbitrarily uses the movie with the ID of 603 (The Matrix)\n",
    "movie = tmdb.Movies(603)\n",
    "movie"
   ]
  },
  {
   "cell_type": "code",
   "execution_count": 5,
   "id": "ad06ce33-9be6-43db-8bd3-80fecf68093f",
   "metadata": {},
   "outputs": [
    {
     "data": {
      "text/plain": [
       "{'adult': False,\n",
       " 'backdrop_path': '/giBJ0ezYNEobFBfB8H4JNTjmll.jpg',\n",
       " 'belongs_to_collection': {'id': 2344,\n",
       "  'name': 'The Matrix Collection',\n",
       "  'poster_path': '/bV9qTVHTVf0gkW0j7p7M0ILD4pG.jpg',\n",
       "  'backdrop_path': '/bRm2DEgUiYciDw3myHuYFInD7la.jpg'},\n",
       " 'budget': 63000000,\n",
       " 'genres': [{'id': 28, 'name': 'Action'},\n",
       "  {'id': 878, 'name': 'Science Fiction'}],\n",
       " 'homepage': 'http://www.warnerbros.com/matrix',\n",
       " 'id': 603,\n",
       " 'imdb_id': 'tt0133093',\n",
       " 'original_language': 'en',\n",
       " 'original_title': 'The Matrix',\n",
       " 'overview': 'Set in the 22nd century, The Matrix tells the story of a computer hacker who joins a group of underground insurgents fighting the vast and powerful computers who now rule the earth.',\n",
       " 'popularity': 89.884,\n",
       " 'poster_path': '/f89U3ADr1oiB1s9GkdPOEpXUk5H.jpg',\n",
       " 'production_companies': [{'id': 79,\n",
       "   'logo_path': '/at4uYdwAAgNRKhZuuFX8ShKSybw.png',\n",
       "   'name': 'Village Roadshow Pictures',\n",
       "   'origin_country': 'US'},\n",
       "  {'id': 372,\n",
       "   'logo_path': None,\n",
       "   'name': 'Groucho II Film Partnership',\n",
       "   'origin_country': ''},\n",
       "  {'id': 1885,\n",
       "   'logo_path': '/xlvoOZr4s1PygosrwZyolIFe5xs.png',\n",
       "   'name': 'Silver Pictures',\n",
       "   'origin_country': 'US'},\n",
       "  {'id': 174,\n",
       "   'logo_path': '/IuAlhI9eVC9Z8UQWOIDdWRKSEJ.png',\n",
       "   'name': 'Warner Bros. Pictures',\n",
       "   'origin_country': 'US'}],\n",
       " 'production_countries': [{'iso_3166_1': 'US',\n",
       "   'name': 'United States of America'}],\n",
       " 'release_date': '1999-03-30',\n",
       " 'revenue': 463517383,\n",
       " 'runtime': 136,\n",
       " 'spoken_languages': [{'english_name': 'English',\n",
       "   'iso_639_1': 'en',\n",
       "   'name': 'English'}],\n",
       " 'status': 'Released',\n",
       " 'tagline': 'The fight for the future begins.',\n",
       " 'title': 'The Matrix',\n",
       " 'video': False,\n",
       " 'vote_average': 8.21,\n",
       " 'vote_count': 24177}"
      ]
     },
     "execution_count": 5,
     "metadata": {},
     "output_type": "execute_result"
    }
   ],
   "source": [
    "# The data for the movie can be extracted as a dictionary by running the info() method on the movie object.\n",
    "# movie objects have a .info dictionary \n",
    "# we are looking for the 3 budget, revenue, cerification (P, PG, etc)\n",
    "# once it runs find these 3 items and take a look at them to get an idea what what we are working with\n",
    "info = movie.info()\n",
    "info"
   ]
  },
  {
   "cell_type": "code",
   "execution_count": 6,
   "id": "536fb098-4cfa-4cc4-b50f-67ef4a1143a1",
   "metadata": {},
   "outputs": [
    {
     "data": {
      "text/plain": [
       "63000000"
      ]
     },
     "execution_count": 6,
     "metadata": {},
     "output_type": "execute_result"
    }
   ],
   "source": [
    "# since we are only asked to find 3 pieice of info for each movie in the instructions\n",
    "# we will use info to check only budget, revenue, cerification (P, PG, etc) as requested\n",
    "info['budget']"
   ]
  },
  {
   "cell_type": "code",
   "execution_count": 7,
   "id": "0171dcde-9e86-4b56-bcb2-4f139dab9c78",
   "metadata": {},
   "outputs": [
    {
     "data": {
      "text/plain": [
       "463517383"
      ]
     },
     "execution_count": 7,
     "metadata": {},
     "output_type": "execute_result"
    }
   ],
   "source": [
    "info['revenue']"
   ]
  },
  {
   "cell_type": "code",
   "execution_count": 8,
   "id": "048b9a1d-5fe4-4009-ba81-5f94ac2f0ac4",
   "metadata": {},
   "outputs": [
    {
     "data": {
      "text/plain": [
       "'tt0133093'"
      ]
     },
     "execution_count": 8,
     "metadata": {},
     "output_type": "execute_result"
    }
   ],
   "source": [
    "# this will be movie id that we will use later\n",
    "# Notice that the .info() includes \"imbdb_id,\" \n",
    "# which we can use to match with our existing data frame of movies! \n",
    "#You will recognize the \"tt\" numbers from IMDb.\n",
    "info['imdb_id']"
   ]
  },
  {
   "cell_type": "markdown",
   "id": "6a101969-3c26-464f-9f37-fd12adbb59db",
   "metadata": {},
   "source": [
    "    - Try searching by the IMDb number. For example, what was the budget of Tom and Jerry withc had IMDb id of ttl361336"
   ]
  },
  {
   "cell_type": "code",
   "execution_count": 9,
   "id": "3f419d55-be87-4526-8094-674073d19732",
   "metadata": {},
   "outputs": [
    {
     "data": {
      "text/plain": [
       "50000000"
      ]
     },
     "execution_count": 9,
     "metadata": {},
     "output_type": "execute_result"
    }
   ],
   "source": [
    "# specify any movie id on top in this case it was Tom and jerry\n",
    "# ['budget'] of this particual id wil give us the budget for this movie id for tom and jerry\n",
    "# Searching by IMDB_ID will allow us to make API calls for the specific movies we have already \n",
    "# filtered out from the IMDB database in the first part of our project!\n",
    "movie = tmdb.Movies('tt1361336')\n",
    "info = movie.info()\n",
    "info['budget']"
   ]
  },
  {
   "cell_type": "markdown",
   "id": "5dcbea9a-5abb-40bd-ba47-ab24090ac2d9",
   "metadata": {},
   "source": [
    "## Saving the Movie Certification/MPAA Rating"
   ]
  },
  {
   "cell_type": "markdown",
   "id": "2514e68f-034e-4558-916b-00f13c2c3429",
   "metadata": {},
   "source": [
    "While MOST of the data we are interested in is stored in the .info(), the certification rating is not."
   ]
  },
  {
   "cell_type": "markdown",
   "id": "7ac4e46e-b8f7-436d-a18e-413229d4e98e",
   "metadata": {},
   "source": [
    "The README for the package's repository shows how to obtain this information:"
   ]
  },
  {
   "cell_type": "code",
   "execution_count": 10,
   "id": "45bc2342-8c1e-4fef-947c-1cb81ebebe02",
   "metadata": {},
   "outputs": [
    {
     "name": "stdout",
     "output_type": "stream",
     "text": [
      "PG\n",
      "PG\n",
      "PG\n"
     ]
    }
   ],
   "source": [
    "# certification information must be found by connecting to a movie then you will see the certification\n",
    "# # source = https://github.com/celiao/tmdbsimple\n",
    "# it lets us know to look up releases\n",
    "# this filter by iso_3166_1 which is only us movies \n",
    "# This code below will print the rating of the movie if it is in the US. \n",
    "# (Recall that one specification for this project was that all of our movies are US movies, \n",
    "#  but this is more generalizable for future projects where that may not be the case).\n",
    "\n",
    "releases = movie.releases()\n",
    "for c in releases['countries']:\n",
    "    if c['iso_3166_1'] == 'US':\n",
    "        print(c['certification'])"
   ]
  },
  {
   "cell_type": "code",
   "execution_count": 11,
   "id": "bf1386ad-4715-43a6-b5d5-00d31791eb5f",
   "metadata": {},
   "outputs": [
    {
     "data": {
      "text/plain": [
       "{'id': 587807,\n",
       " 'countries': [{'certification': 'PG',\n",
       "   'descriptors': [],\n",
       "   'iso_3166_1': 'US',\n",
       "   'primary': False,\n",
       "   'release_date': '2021-02-26'},\n",
       "  {'certification': '',\n",
       "   'descriptors': [],\n",
       "   'iso_3166_1': 'CO',\n",
       "   'primary': False,\n",
       "   'release_date': '2021-02-12'},\n",
       "  {'certification': 'PG',\n",
       "   'descriptors': [],\n",
       "   'iso_3166_1': 'US',\n",
       "   'primary': False,\n",
       "   'release_date': '2021-02-26'},\n",
       "  {'certification': 'ALL',\n",
       "   'descriptors': [],\n",
       "   'iso_3166_1': 'KR',\n",
       "   'primary': False,\n",
       "   'release_date': '2021-02-24'},\n",
       "  {'certification': '',\n",
       "   'descriptors': [],\n",
       "   'iso_3166_1': 'ID',\n",
       "   'primary': False,\n",
       "   'release_date': '2021-03-10'},\n",
       "  {'certification': '6',\n",
       "   'descriptors': [],\n",
       "   'iso_3166_1': 'NL',\n",
       "   'primary': False,\n",
       "   'release_date': '2021-06-09'},\n",
       "  {'certification': 'G',\n",
       "   'descriptors': [],\n",
       "   'iso_3166_1': 'IE',\n",
       "   'primary': False,\n",
       "   'release_date': '2021-05-07'},\n",
       "  {'certification': 'M/6',\n",
       "   'descriptors': [],\n",
       "   'iso_3166_1': 'PT',\n",
       "   'primary': False,\n",
       "   'release_date': '2021-03-04'},\n",
       "  {'certification': '6+',\n",
       "   'descriptors': [],\n",
       "   'iso_3166_1': 'RU',\n",
       "   'primary': False,\n",
       "   'release_date': '2021-02-25'},\n",
       "  {'certification': 'L',\n",
       "   'descriptors': [],\n",
       "   'iso_3166_1': 'BR',\n",
       "   'primary': False,\n",
       "   'release_date': '2021-02-11'},\n",
       "  {'certification': 'PG',\n",
       "   'descriptors': [],\n",
       "   'iso_3166_1': 'GB',\n",
       "   'primary': False,\n",
       "   'release_date': '2021-03-25'},\n",
       "  {'certification': '7',\n",
       "   'descriptors': [],\n",
       "   'iso_3166_1': 'DK',\n",
       "   'primary': False,\n",
       "   'release_date': '2021-02-11'},\n",
       "  {'certification': 'G',\n",
       "   'descriptors': [],\n",
       "   'iso_3166_1': 'AU',\n",
       "   'primary': False,\n",
       "   'release_date': '2021-04-01'},\n",
       "  {'certification': 'PG',\n",
       "   'descriptors': [],\n",
       "   'iso_3166_1': 'GB',\n",
       "   'primary': False,\n",
       "   'release_date': '2021-05-24'},\n",
       "  {'certification': '',\n",
       "   'descriptors': [],\n",
       "   'iso_3166_1': 'HK',\n",
       "   'primary': False,\n",
       "   'release_date': '2021-03-11'},\n",
       "  {'certification': 'U',\n",
       "   'descriptors': [],\n",
       "   'iso_3166_1': 'FR',\n",
       "   'primary': False,\n",
       "   'release_date': '2021-05-19'},\n",
       "  {'certification': 'Btl',\n",
       "   'descriptors': [],\n",
       "   'iso_3166_1': 'SE',\n",
       "   'primary': False,\n",
       "   'release_date': '2021-05-28'},\n",
       "  {'certification': '0',\n",
       "   'descriptors': [],\n",
       "   'iso_3166_1': 'DE',\n",
       "   'primary': False,\n",
       "   'release_date': '2021-06-17'},\n",
       "  {'certification': '',\n",
       "   'descriptors': [],\n",
       "   'iso_3166_1': 'CZ',\n",
       "   'primary': False,\n",
       "   'release_date': '2021-06-10'},\n",
       "  {'certification': 'G',\n",
       "   'descriptors': [],\n",
       "   'iso_3166_1': 'AU',\n",
       "   'primary': False,\n",
       "   'release_date': '2021-06-01'},\n",
       "  {'certification': 'G',\n",
       "   'descriptors': [],\n",
       "   'iso_3166_1': 'NZ',\n",
       "   'primary': False,\n",
       "   'release_date': '2021-06-01'},\n",
       "  {'certification': 'G',\n",
       "   'descriptors': [],\n",
       "   'iso_3166_1': 'AU',\n",
       "   'primary': False,\n",
       "   'release_date': '2021-06-21'},\n",
       "  {'certification': 'U',\n",
       "   'descriptors': [],\n",
       "   'iso_3166_1': 'SK',\n",
       "   'primary': False,\n",
       "   'release_date': '2021-05-27'},\n",
       "  {'certification': 'V',\n",
       "   'descriptors': [],\n",
       "   'iso_3166_1': 'LT',\n",
       "   'primary': False,\n",
       "   'release_date': '2021-05-07'},\n",
       "  {'certification': '6',\n",
       "   'descriptors': [],\n",
       "   'iso_3166_1': 'HU',\n",
       "   'primary': False,\n",
       "   'release_date': '2021-05-20'},\n",
       "  {'certification': 'PG',\n",
       "   'descriptors': [],\n",
       "   'iso_3166_1': 'US',\n",
       "   'primary': False,\n",
       "   'release_date': '2021-05-18'},\n",
       "  {'certification': '',\n",
       "   'descriptors': [],\n",
       "   'iso_3166_1': 'PL',\n",
       "   'primary': False,\n",
       "   'release_date': '2021-06-11'},\n",
       "  {'certification': '',\n",
       "   'descriptors': [],\n",
       "   'iso_3166_1': 'CA',\n",
       "   'primary': False,\n",
       "   'release_date': '2021-07-31'},\n",
       "  {'certification': '7',\n",
       "   'descriptors': [],\n",
       "   'iso_3166_1': 'ES',\n",
       "   'primary': False,\n",
       "   'release_date': '2021-03-26'},\n",
       "  {'certification': 'U',\n",
       "   'descriptors': [],\n",
       "   'iso_3166_1': 'FR',\n",
       "   'primary': False,\n",
       "   'release_date': '2021-09-16'},\n",
       "  {'certification': 'U',\n",
       "   'descriptors': [],\n",
       "   'iso_3166_1': 'FR',\n",
       "   'primary': False,\n",
       "   'release_date': '2021-09-22'},\n",
       "  {'certification': 'PG',\n",
       "   'descriptors': [],\n",
       "   'iso_3166_1': 'SG',\n",
       "   'primary': False,\n",
       "   'release_date': '2021-02-11'},\n",
       "  {'certification': 'U',\n",
       "   'descriptors': [],\n",
       "   'iso_3166_1': 'FR',\n",
       "   'primary': False,\n",
       "   'release_date': '2022-02-16'},\n",
       "  {'certification': 'Κ',\n",
       "   'descriptors': [],\n",
       "   'iso_3166_1': 'GR',\n",
       "   'primary': False,\n",
       "   'release_date': '2021-06-10'},\n",
       "  {'certification': '普遍級',\n",
       "   'descriptors': [],\n",
       "   'iso_3166_1': 'TW',\n",
       "   'primary': False,\n",
       "   'release_date': '2021-02-10'},\n",
       "  {'certification': '',\n",
       "   'descriptors': [],\n",
       "   'iso_3166_1': 'GR',\n",
       "   'primary': False,\n",
       "   'release_date': '2021-09-23'},\n",
       "  {'certification': '',\n",
       "   'descriptors': [],\n",
       "   'iso_3166_1': 'KZ',\n",
       "   'primary': False,\n",
       "   'release_date': '2021-02-25'}]}"
      ]
     },
     "execution_count": 11,
     "metadata": {},
     "output_type": "execute_result"
    }
   ],
   "source": [
    "releases "
   ]
  },
  {
   "cell_type": "markdown",
   "id": "70995a64-356e-4235-927c-0ac8a9973ed6",
   "metadata": {},
   "source": [
    "    - Instead of printing the certification separately, we want to add that to our dictionary results for movie.info()."
   ]
  },
  {
   "cell_type": "code",
   "execution_count": 12,
   "id": "90c30e00-8920-4f24-be2e-5d1e7fc2e86d",
   "metadata": {},
   "outputs": [],
   "source": [
    "# Get the movie object for the current id\n",
    "# Instead of printing the certification separately, we want to add that to our dictionary results for movie.info().\n",
    "# this will create extra columns of us movies \n",
    "# we got this info from last few queries\n",
    "# this will store the \n",
    "movie = tmdb.Movies('tt1361336')\n",
    "# save the .info .releases dictionaries\n",
    "info = movie.info()\n",
    "releases = movie.releases()\n",
    "# Loop through countries in releases\n",
    "for c in releases['countries']:\n",
    "    # if the country abbreviation==US\n",
    "    if c['iso_3166_1' ] =='US':\n",
    "        ## save a \"certification\" key in the info dict with the certification\n",
    "       info['certification'] = c['certification']"
   ]
  },
  {
   "cell_type": "code",
   "execution_count": 13,
   "id": "9dccf80e-bb9f-4540-9e28-3e0eb38ceb65",
   "metadata": {},
   "outputs": [],
   "source": [
    "def get_movie_with_rating(movie_id):\n",
    "    \"\"\"Adapted from sourcd = https://github.com/celiao/tmdbsimple\"\"\"\n",
    "   # Get the movie object for the current id\n",
    "    movie = tmdb.Movies(movie_id)\n",
    "    \n",
    "    # save the .info .releases dictionaries\n",
    "    info = movie.info()\n",
    "    releases = movie.releases()\n",
    "    \n",
    "    # Loop through countries in releases\n",
    "    for c in releases['countries']:\n",
    "        # if the country abbreviation==US\n",
    "        if c['iso_3166_1' ] =='US':\n",
    "            ## save a \"certification\" key in the info dict with the certification\n",
    "           info['certification'] = c['certification']\n",
    "    return info"
   ]
  },
  {
   "cell_type": "code",
   "execution_count": 14,
   "id": "fe689f94-0557-407f-955b-67cfa6527d78",
   "metadata": {},
   "outputs": [
    {
     "data": {
      "text/plain": [
       "{'adult': False,\n",
       " 'backdrop_path': '/9BBTo63ANSmhC4e6r62OJFuK2GL.jpg',\n",
       " 'belongs_to_collection': {'id': 86311,\n",
       "  'name': 'The Avengers Collection',\n",
       "  'poster_path': '/yFSIUVTCvgYrpalUktulvk3Gi5Y.jpg',\n",
       "  'backdrop_path': '/zuW6fOiusv4X9nnW3paHGfXcSll.jpg'},\n",
       " 'budget': 220000000,\n",
       " 'genres': [{'id': 878, 'name': 'Science Fiction'},\n",
       "  {'id': 28, 'name': 'Action'},\n",
       "  {'id': 12, 'name': 'Adventure'}],\n",
       " 'homepage': 'https://www.marvel.com/movies/the-avengers',\n",
       " 'id': 24428,\n",
       " 'imdb_id': 'tt0848228',\n",
       " 'original_language': 'en',\n",
       " 'original_title': 'The Avengers',\n",
       " 'overview': 'When an unexpected enemy emerges and threatens global safety and security, Nick Fury, director of the international peacekeeping agency known as S.H.I.E.L.D., finds himself in need of a team to pull the world back from the brink of disaster. Spanning the globe, a daring recruitment effort begins!',\n",
       " 'popularity': 127.885,\n",
       " 'poster_path': '/RYMX2wcKCBAr24UyPD7xwmjaTn.jpg',\n",
       " 'production_companies': [{'id': 420,\n",
       "   'logo_path': '/hUzeosd33nzE5MCNsZxCGEKTXaQ.png',\n",
       "   'name': 'Marvel Studios',\n",
       "   'origin_country': 'US'}],\n",
       " 'production_countries': [{'iso_3166_1': 'US',\n",
       "   'name': 'United States of America'}],\n",
       " 'release_date': '2012-04-25',\n",
       " 'revenue': 1518815515,\n",
       " 'runtime': 143,\n",
       " 'spoken_languages': [{'english_name': 'English',\n",
       "   'iso_639_1': 'en',\n",
       "   'name': 'English'},\n",
       "  {'english_name': 'Hindi', 'iso_639_1': 'hi', 'name': 'हिन्दी'},\n",
       "  {'english_name': 'Russian', 'iso_639_1': 'ru', 'name': 'Pусский'}],\n",
       " 'status': 'Released',\n",
       " 'tagline': 'Some assembly required.',\n",
       " 'title': 'The Avengers',\n",
       " 'video': False,\n",
       " 'vote_average': 7.712,\n",
       " 'vote_count': 29437,\n",
       " 'certification': 'PG-13'}"
      ]
     },
     "execution_count": 14,
     "metadata": {},
     "output_type": "execute_result"
    }
   ],
   "source": [
    "# testing the avengers id workgs tt0848228\n",
    "test = get_movie_with_rating(\"tt0848228\") #put your function name here\n",
    "test"
   ]
  },
  {
   "cell_type": "code",
   "execution_count": 15,
   "id": "d3610f2e-77f9-48f6-bdee-4ad116ca82ae",
   "metadata": {},
   "outputs": [
    {
     "data": {
      "text/plain": [
       "{'adult': False,\n",
       " 'backdrop_path': '/qom1SZSENdmHFNZBXbtJAU0WTlC.jpg',\n",
       " 'belongs_to_collection': None,\n",
       " 'budget': 29000000,\n",
       " 'genres': [{'id': 10749, 'name': 'Romance'}, {'id': 18, 'name': 'Drama'}],\n",
       " 'homepage': 'http://www.newline.com/properties/notebookthe.html',\n",
       " 'id': 11036,\n",
       " 'imdb_id': 'tt0332280',\n",
       " 'original_language': 'en',\n",
       " 'original_title': 'The Notebook',\n",
       " 'overview': \"An epic love story centered around an older man who reads aloud to a woman with Alzheimer's. From a faded notebook, the old man's words bring to life the story about a couple who is separated by World War II, and is then passionately reunited, seven years later, after they have taken different paths.\",\n",
       " 'popularity': 64.082,\n",
       " 'poster_path': '/rNzQyW4f8B8cQeg7Dgj3n6eT5k9.jpg',\n",
       " 'production_companies': [{'id': 12,\n",
       "   'logo_path': '/iaYpEp3LQmb8AfAtmTvpqd4149c.png',\n",
       "   'name': 'New Line Cinema',\n",
       "   'origin_country': 'US'},\n",
       "  {'id': 1565, 'logo_path': None, 'name': 'Avery Pix', 'origin_country': 'US'},\n",
       "  {'id': 2605,\n",
       "   'logo_path': None,\n",
       "   'name': 'Gran Via Productions',\n",
       "   'origin_country': 'US'}],\n",
       " 'production_countries': [{'iso_3166_1': 'US',\n",
       "   'name': 'United States of America'}],\n",
       " 'release_date': '2004-06-25',\n",
       " 'revenue': 115603229,\n",
       " 'runtime': 123,\n",
       " 'spoken_languages': [{'english_name': 'English',\n",
       "   'iso_639_1': 'en',\n",
       "   'name': 'English'}],\n",
       " 'status': 'Released',\n",
       " 'tagline': 'Behind every great love is a great story.',\n",
       " 'title': 'The Notebook',\n",
       " 'video': False,\n",
       " 'vote_average': 7.884,\n",
       " 'vote_count': 10768,\n",
       " 'certification': 'PG-13'}"
      ]
     },
     "execution_count": 15,
     "metadata": {},
     "output_type": "execute_result"
    }
   ],
   "source": [
    "# testing with the movie the notebook id tt0332280\n",
    "test = get_movie_with_rating(\"tt0332280\") #put your function name here\n",
    "test"
   ]
  },
  {
   "cell_type": "markdown",
   "id": "b341993a-bf27-419b-aa09-4b8f1fead9b1",
   "metadata": {},
   "source": [
    "___"
   ]
  },
  {
   "cell_type": "code",
   "execution_count": 2,
   "id": "6fa8c2ec-6d02-44e2-b098-5c26034f575f",
   "metadata": {},
   "outputs": [
    {
     "data": {
      "text/plain": [
       "['.ipynb_checkpoints',\n",
       " 'final_tmdb_data_2001.csv.gz',\n",
       " 'final_tmdb_data_2002.csv.gz',\n",
       " 'IMDB Movie Dataset Info.docx',\n",
       " 'title-akas-us-only.csv',\n",
       " 'title.basics.tsv.gz',\n",
       " 'title.ratings.tsv.gz',\n",
       " 'Title_Basics.csv',\n",
       " 'Title_ratings.csv',\n",
       " 'tmdb_api.json',\n",
       " 'tmdb_api_results_2001.json',\n",
       " 'tmdb_api_results_2002.json']"
      ]
     },
     "execution_count": 2,
     "metadata": {},
     "output_type": "execute_result"
    }
   ],
   "source": [
    "# Import packages\n",
    "import os, time, json\n",
    "import tmdbsimple as tmdb \n",
    "import pandas as pd\n",
    "from tqdm.notebook import tqdm_notebook\n",
    "# Create the folder for saving files (if it doesn't exist)\n",
    "FOLDER = \"Data/\"\n",
    "os.makedirs(FOLDER, exist_ok=True)\n",
    "os.listdir(FOLDER)"
   ]
  },
  {
   "cell_type": "code",
   "execution_count": 3,
   "id": "3e348990-939e-4888-bbb1-2c6f3cd8c0c2",
   "metadata": {},
   "outputs": [],
   "source": [
    "YEARS_TO_GET = [2001,2002]"
   ]
  },
  {
   "cell_type": "code",
   "execution_count": 4,
   "id": "436cce00-fe82-484a-a059-64df4a2d70eb",
   "metadata": {},
   "outputs": [
    {
     "data": {
      "text/html": [
       "<div>\n",
       "<style scoped>\n",
       "    .dataframe tbody tr th:only-of-type {\n",
       "        vertical-align: middle;\n",
       "    }\n",
       "\n",
       "    .dataframe tbody tr th {\n",
       "        vertical-align: top;\n",
       "    }\n",
       "\n",
       "    .dataframe thead th {\n",
       "        text-align: right;\n",
       "    }\n",
       "</style>\n",
       "<table border=\"1\" class=\"dataframe\">\n",
       "  <thead>\n",
       "    <tr style=\"text-align: right;\">\n",
       "      <th></th>\n",
       "      <th>tconst</th>\n",
       "      <th>titleType</th>\n",
       "      <th>primaryTitle</th>\n",
       "      <th>originalTitle</th>\n",
       "      <th>isAdult</th>\n",
       "      <th>startYear</th>\n",
       "      <th>endYear</th>\n",
       "      <th>runtimeMinutes</th>\n",
       "      <th>genres</th>\n",
       "    </tr>\n",
       "  </thead>\n",
       "  <tbody>\n",
       "    <tr>\n",
       "      <th>0</th>\n",
       "      <td>tt0035423</td>\n",
       "      <td>movie</td>\n",
       "      <td>Kate &amp; Leopold</td>\n",
       "      <td>Kate &amp; Leopold</td>\n",
       "      <td>0</td>\n",
       "      <td>2001.0</td>\n",
       "      <td>NaN</td>\n",
       "      <td>118</td>\n",
       "      <td>Comedy,Fantasy,Romance</td>\n",
       "    </tr>\n",
       "    <tr>\n",
       "      <th>1</th>\n",
       "      <td>tt0062336</td>\n",
       "      <td>movie</td>\n",
       "      <td>The Tango of the Widower and Its Distorting Mi...</td>\n",
       "      <td>El tango del viudo y su espejo deformante</td>\n",
       "      <td>0</td>\n",
       "      <td>2020.0</td>\n",
       "      <td>NaN</td>\n",
       "      <td>70</td>\n",
       "      <td>Drama</td>\n",
       "    </tr>\n",
       "    <tr>\n",
       "      <th>2</th>\n",
       "      <td>tt0069049</td>\n",
       "      <td>movie</td>\n",
       "      <td>The Other Side of the Wind</td>\n",
       "      <td>The Other Side of the Wind</td>\n",
       "      <td>0</td>\n",
       "      <td>2018.0</td>\n",
       "      <td>NaN</td>\n",
       "      <td>122</td>\n",
       "      <td>Drama</td>\n",
       "    </tr>\n",
       "    <tr>\n",
       "      <th>3</th>\n",
       "      <td>tt0088751</td>\n",
       "      <td>movie</td>\n",
       "      <td>The Naked Monster</td>\n",
       "      <td>The Naked Monster</td>\n",
       "      <td>0</td>\n",
       "      <td>2005.0</td>\n",
       "      <td>NaN</td>\n",
       "      <td>100</td>\n",
       "      <td>Comedy,Horror,Sci-Fi</td>\n",
       "    </tr>\n",
       "    <tr>\n",
       "      <th>4</th>\n",
       "      <td>tt0096056</td>\n",
       "      <td>movie</td>\n",
       "      <td>Crime and Punishment</td>\n",
       "      <td>Crime and Punishment</td>\n",
       "      <td>0</td>\n",
       "      <td>2002.0</td>\n",
       "      <td>NaN</td>\n",
       "      <td>126</td>\n",
       "      <td>Drama</td>\n",
       "    </tr>\n",
       "  </tbody>\n",
       "</table>\n",
       "</div>"
      ],
      "text/plain": [
       "      tconst titleType                                       primaryTitle  \\\n",
       "0  tt0035423     movie                                     Kate & Leopold   \n",
       "1  tt0062336     movie  The Tango of the Widower and Its Distorting Mi...   \n",
       "2  tt0069049     movie                         The Other Side of the Wind   \n",
       "3  tt0088751     movie                                  The Naked Monster   \n",
       "4  tt0096056     movie                               Crime and Punishment   \n",
       "\n",
       "                               originalTitle  isAdult  startYear  endYear  \\\n",
       "0                             Kate & Leopold        0     2001.0      NaN   \n",
       "1  El tango del viudo y su espejo deformante        0     2020.0      NaN   \n",
       "2                 The Other Side of the Wind        0     2018.0      NaN   \n",
       "3                          The Naked Monster        0     2005.0      NaN   \n",
       "4                       Crime and Punishment        0     2002.0      NaN   \n",
       "\n",
       "   runtimeMinutes                  genres  \n",
       "0             118  Comedy,Fantasy,Romance  \n",
       "1              70                   Drama  \n",
       "2             122                   Drama  \n",
       "3             100    Comedy,Horror,Sci-Fi  \n",
       "4             126                   Drama  "
      ]
     },
     "execution_count": 4,
     "metadata": {},
     "output_type": "execute_result"
    }
   ],
   "source": [
    "# Load in the dataframe from project part 1 as basics:\n",
    "basics = pd.read_csv('Data/Title_Basics.csv')\n",
    "basics.head()\n"
   ]
  },
  {
   "cell_type": "markdown",
   "id": "5362a83c-7198-4635-b391-e7e6a604c7d5",
   "metadata": {},
   "source": [
    "Now we have defined the \"movie_ids_to_get\". It includes the ids from our dataframe in the year we are seeking, and it excludes any that we have already made calls for.\r\n",
    "\r\n",
    "We will use this list for our loop of API calls."
   ]
  },
  {
   "cell_type": "code",
   "execution_count": 5,
   "id": "8ba2886a-6c93-47c2-8d7d-587aa86e4d3e",
   "metadata": {},
   "outputs": [],
   "source": [
    "def write_json(new_data, filename): \n",
    "    \"\"\"Adapted from: https://www.geeksforgeeks.org/append-to-json-file-using-python/\"\"\"  \n",
    "    \n",
    "    with open(filename,'r+') as file:\n",
    "        # First we load existing data into a dict.\n",
    "        file_data = json.load(file)\n",
    "        ## Choose extend or append\n",
    "        if (type(new_data) == list) & (type(file_data) == list):\n",
    "            file_data.extend(new_data)\n",
    "        else:\n",
    "             file_data.append(new_data)\n",
    "        # Sets file's current position at offset.\n",
    "        file.seek(0)\n",
    "        # convert back to json.\n",
    "        json.dump(file_data, file)"
   ]
  },
  {
   "cell_type": "code",
   "execution_count": 6,
   "id": "f8fe5746-0756-442b-8d4a-56d6121ed1ac",
   "metadata": {},
   "outputs": [
    {
     "data": {
      "application/vnd.jupyter.widget-view+json": {
       "model_id": "3bfc9d1d2e7045949ffeed6c308472b4",
       "version_major": 2,
       "version_minor": 0
      },
      "text/plain": [
       "YEARS:   0%|          | 0/2 [00:00<?, ?it/s]"
      ]
     },
     "metadata": {},
     "output_type": "display_data"
    },
    {
     "data": {
      "application/vnd.jupyter.widget-view+json": {
       "model_id": "29edff56042e4a8296f34fe54a50a24d",
       "version_major": 2,
       "version_minor": 0
      },
      "text/plain": [
       "Movies from 2001:   0%|          | 0/217 [00:00<?, ?it/s]"
      ]
     },
     "metadata": {},
     "output_type": "display_data"
    },
    {
     "data": {
      "application/vnd.jupyter.widget-view+json": {
       "model_id": "a09eef6230a94d3c9171e5ff783862d9",
       "version_major": 2,
       "version_minor": 0
      },
      "text/plain": [
       "Movies from 2002:   0%|          | 0/277 [00:00<?, ?it/s]"
      ]
     },
     "metadata": {},
     "output_type": "display_data"
    }
   ],
   "source": [
    "# Start of Outer loop\n",
    "for YEAR in tqdm_notebook(YEARS_TO_GET,desc='YEARS',position=0):\n",
    "    # Define the JSON file to store results for the year\n",
    "    JSON_FILE = f'{FOLDER}tmdb_api_results_{YEAR}.json'\n",
    "    # Check if the JSON file exists\n",
    "    file_exists = os.path.isfile(JSON_FILE)\n",
    "     \n",
    "    # If it does not exist: create it\n",
    "    if file_exists == False:\n",
    "    # save an empty dict with just \"imdb_id\" to the new json file.\n",
    "        with open(JSON_FILE,'w') as f:\n",
    "            json.dump([{'imdb_id':0}],f)\n",
    "\n",
    "    # Filtering for movies from selected startYear\n",
    "    df = basics.loc[ basics['startYear']==YEAR].copy()\n",
    "\n",
    "    # saving movie ids to list\n",
    "    movie_ids = df['tconst'].copy()#.to_list\n",
    "    movie_ids\n",
    "\n",
    "    # Load existing data from json into a dataframe called \"previous_df\"\n",
    "    previous_df = pd.read_json(JSON_FILE)\n",
    "    previous_df\n",
    "\n",
    "    # filter out any ids that are already in the JSON_FILE\n",
    "    movie_ids_to_get = movie_ids[~movie_ids.isin(previous_df['imdb_id'])]\n",
    "\n",
    "    # Get index and movie id from list\n",
    "    # INNER LOOP\n",
    "\n",
    "    for movie_id in tqdm_notebook(movie_ids_to_get, \n",
    "                                desc=f'Movies from {YEAR}',\n",
    "                                position=1,\n",
    "                                leave=True):\n",
    "        # Attempt to retrieve then data for the movie id\n",
    "        try:\n",
    "            temp = get_movie_with_rating(movie_id)  #This uses your pre-ma    de function\n",
    "            # Append/extend results to existing file using a pre-made function\n",
    "            write_json(temp,JSON_FILE)\n",
    "            # Short 20 ms sleep to prevent overwhelming server\n",
    "            time.sleep(0.02)\n",
    "    \n",
    "        # If it fails,  make a dict with just the id and None for certification.\n",
    "        except Exception as e:\n",
    "            continue\n",
    "\n",
    "    # Save the final results to a csv.gz file\n",
    "    final_year_df = pd.read_json(JSON_FILE)\n",
    "    final_year_df.to_csv(f\"{FOLDER}final_tmdb_data_{YEAR}.csv.gz\", compression=\"gzip\", index=False)"
   ]
  },
  {
   "cell_type": "code",
   "execution_count": 7,
   "id": "45adad96-48f0-496c-b531-c9fa04668914",
   "metadata": {},
   "outputs": [
    {
     "data": {
      "text/plain": [
       "['Data\\\\final_tmdb_data_2001.csv.gz', 'Data\\\\final_tmdb_data_2002.csv.gz']"
      ]
     },
     "execution_count": 7,
     "metadata": {},
     "output_type": "execute_result"
    }
   ],
   "source": [
    "import glob\n",
    "# Use glob to get all filepaths that match the pattern (*=wildcard)\n",
    "tmdb_files = sorted(glob.glob(\"Data/final_tmdb_data*.csv.gz\"))\n",
    "tmdb_files\n"
   ]
  },
  {
   "cell_type": "code",
   "execution_count": 11,
   "id": "3d5e565d-63e8-4eb2-96f3-23aa91c7da66",
   "metadata": {},
   "outputs": [
    {
     "data": {
      "text/html": [
       "<div>\n",
       "<style scoped>\n",
       "    .dataframe tbody tr th:only-of-type {\n",
       "        vertical-align: middle;\n",
       "    }\n",
       "\n",
       "    .dataframe tbody tr th {\n",
       "        vertical-align: top;\n",
       "    }\n",
       "\n",
       "    .dataframe thead th {\n",
       "        text-align: right;\n",
       "    }\n",
       "</style>\n",
       "<table border=\"1\" class=\"dataframe\">\n",
       "  <thead>\n",
       "    <tr style=\"text-align: right;\">\n",
       "      <th></th>\n",
       "      <th>imdb_id</th>\n",
       "      <th>adult</th>\n",
       "      <th>backdrop_path</th>\n",
       "      <th>belongs_to_collection</th>\n",
       "      <th>budget</th>\n",
       "      <th>genres</th>\n",
       "      <th>homepage</th>\n",
       "      <th>id</th>\n",
       "      <th>original_language</th>\n",
       "      <th>original_title</th>\n",
       "      <th>...</th>\n",
       "      <th>revenue</th>\n",
       "      <th>runtime</th>\n",
       "      <th>spoken_languages</th>\n",
       "      <th>status</th>\n",
       "      <th>tagline</th>\n",
       "      <th>title</th>\n",
       "      <th>video</th>\n",
       "      <th>vote_average</th>\n",
       "      <th>vote_count</th>\n",
       "      <th>certification</th>\n",
       "    </tr>\n",
       "  </thead>\n",
       "  <tbody>\n",
       "    <tr>\n",
       "      <th>0</th>\n",
       "      <td>0</td>\n",
       "      <td>NaN</td>\n",
       "      <td>NaN</td>\n",
       "      <td>NaN</td>\n",
       "      <td>NaN</td>\n",
       "      <td>NaN</td>\n",
       "      <td>NaN</td>\n",
       "      <td>NaN</td>\n",
       "      <td>NaN</td>\n",
       "      <td>NaN</td>\n",
       "      <td>...</td>\n",
       "      <td>NaN</td>\n",
       "      <td>NaN</td>\n",
       "      <td>NaN</td>\n",
       "      <td>NaN</td>\n",
       "      <td>NaN</td>\n",
       "      <td>NaN</td>\n",
       "      <td>NaN</td>\n",
       "      <td>NaN</td>\n",
       "      <td>NaN</td>\n",
       "      <td>NaN</td>\n",
       "    </tr>\n",
       "    <tr>\n",
       "      <th>1</th>\n",
       "      <td>tt0035423</td>\n",
       "      <td>0.0</td>\n",
       "      <td>/tJLV3BAlHOgscVOrA99Wnb2gAef.jpg</td>\n",
       "      <td>NaN</td>\n",
       "      <td>48000000.0</td>\n",
       "      <td>[{'id': 10749, 'name': 'Romance'}, {'id': 14, ...</td>\n",
       "      <td>NaN</td>\n",
       "      <td>11232.0</td>\n",
       "      <td>en</td>\n",
       "      <td>Kate &amp; Leopold</td>\n",
       "      <td>...</td>\n",
       "      <td>76019048.0</td>\n",
       "      <td>118.0</td>\n",
       "      <td>[{'english_name': 'French', 'iso_639_1': 'fr',...</td>\n",
       "      <td>Released</td>\n",
       "      <td>If they lived in the same century, they'd be p...</td>\n",
       "      <td>Kate &amp; Leopold</td>\n",
       "      <td>0.0</td>\n",
       "      <td>6.326</td>\n",
       "      <td>1245.0</td>\n",
       "      <td>PG-13</td>\n",
       "    </tr>\n",
       "    <tr>\n",
       "      <th>2</th>\n",
       "      <td>tt0114447</td>\n",
       "      <td>0.0</td>\n",
       "      <td>NaN</td>\n",
       "      <td>NaN</td>\n",
       "      <td>0.0</td>\n",
       "      <td>[{'id': 53, 'name': 'Thriller'}, {'id': 28, 'n...</td>\n",
       "      <td>NaN</td>\n",
       "      <td>151007.0</td>\n",
       "      <td>en</td>\n",
       "      <td>The Silent Force</td>\n",
       "      <td>...</td>\n",
       "      <td>0.0</td>\n",
       "      <td>90.0</td>\n",
       "      <td>[{'english_name': 'English', 'iso_639_1': 'en'...</td>\n",
       "      <td>Released</td>\n",
       "      <td>They left him for dead... They should have fin...</td>\n",
       "      <td>The Silent Force</td>\n",
       "      <td>0.0</td>\n",
       "      <td>5.000</td>\n",
       "      <td>3.0</td>\n",
       "      <td>NaN</td>\n",
       "    </tr>\n",
       "    <tr>\n",
       "      <th>3</th>\n",
       "      <td>tt0116916</td>\n",
       "      <td>0.0</td>\n",
       "      <td>/rFpHBidSlhjflmnLu7BZilyKeQR.jpg</td>\n",
       "      <td>NaN</td>\n",
       "      <td>0.0</td>\n",
       "      <td>[{'id': 28, 'name': 'Action'}, {'id': 12, 'nam...</td>\n",
       "      <td>NaN</td>\n",
       "      <td>73549.0</td>\n",
       "      <td>en</td>\n",
       "      <td>The Dark Mist</td>\n",
       "      <td>...</td>\n",
       "      <td>0.0</td>\n",
       "      <td>101.0</td>\n",
       "      <td>[{'english_name': 'English', 'iso_639_1': 'en'...</td>\n",
       "      <td>Released</td>\n",
       "      <td>NaN</td>\n",
       "      <td>The Dark Mist</td>\n",
       "      <td>0.0</td>\n",
       "      <td>3.500</td>\n",
       "      <td>2.0</td>\n",
       "      <td>PG</td>\n",
       "    </tr>\n",
       "    <tr>\n",
       "      <th>4</th>\n",
       "      <td>tt0118589</td>\n",
       "      <td>0.0</td>\n",
       "      <td>/9NZAirJahVilTiDNCHLFcdkwkiy.jpg</td>\n",
       "      <td>NaN</td>\n",
       "      <td>22000000.0</td>\n",
       "      <td>[{'id': 18, 'name': 'Drama'}, {'id': 10402, 'n...</td>\n",
       "      <td>NaN</td>\n",
       "      <td>10696.0</td>\n",
       "      <td>en</td>\n",
       "      <td>Glitter</td>\n",
       "      <td>...</td>\n",
       "      <td>5271666.0</td>\n",
       "      <td>104.0</td>\n",
       "      <td>[{'english_name': 'English', 'iso_639_1': 'en'...</td>\n",
       "      <td>Released</td>\n",
       "      <td>In music she found her dream, her love, herself.</td>\n",
       "      <td>Glitter</td>\n",
       "      <td>0.0</td>\n",
       "      <td>4.400</td>\n",
       "      <td>132.0</td>\n",
       "      <td>PG-13</td>\n",
       "    </tr>\n",
       "    <tr>\n",
       "      <th>...</th>\n",
       "      <td>...</td>\n",
       "      <td>...</td>\n",
       "      <td>...</td>\n",
       "      <td>...</td>\n",
       "      <td>...</td>\n",
       "      <td>...</td>\n",
       "      <td>...</td>\n",
       "      <td>...</td>\n",
       "      <td>...</td>\n",
       "      <td>...</td>\n",
       "      <td>...</td>\n",
       "      <td>...</td>\n",
       "      <td>...</td>\n",
       "      <td>...</td>\n",
       "      <td>...</td>\n",
       "      <td>...</td>\n",
       "      <td>...</td>\n",
       "      <td>...</td>\n",
       "      <td>...</td>\n",
       "      <td>...</td>\n",
       "      <td>...</td>\n",
       "    </tr>\n",
       "    <tr>\n",
       "      <th>1291</th>\n",
       "      <td>tt6449044</td>\n",
       "      <td>0.0</td>\n",
       "      <td>/a9pkw8stijESGx1flSGPqcXLkHu.jpg</td>\n",
       "      <td>{'id': 957260, 'name': 'The Conman Collection'...</td>\n",
       "      <td>0.0</td>\n",
       "      <td>[{'id': 35, 'name': 'Comedy'}]</td>\n",
       "      <td>NaN</td>\n",
       "      <td>314105.0</td>\n",
       "      <td>cn</td>\n",
       "      <td>賭俠2002</td>\n",
       "      <td>...</td>\n",
       "      <td>0.0</td>\n",
       "      <td>97.0</td>\n",
       "      <td>[{'english_name': 'Cantonese', 'iso_639_1': 'c...</td>\n",
       "      <td>Released</td>\n",
       "      <td>NaN</td>\n",
       "      <td>The Conman 2002</td>\n",
       "      <td>0.0</td>\n",
       "      <td>4.300</td>\n",
       "      <td>3.0</td>\n",
       "      <td>NaN</td>\n",
       "    </tr>\n",
       "    <tr>\n",
       "      <th>1292</th>\n",
       "      <td>tt6694126</td>\n",
       "      <td>0.0</td>\n",
       "      <td>/sXjVpTZyDvwzPVZve3AmyCUBeHk.jpg</td>\n",
       "      <td>NaN</td>\n",
       "      <td>0.0</td>\n",
       "      <td>[{'id': 35, 'name': 'Comedy'}, {'id': 18, 'nam...</td>\n",
       "      <td>NaN</td>\n",
       "      <td>819174.0</td>\n",
       "      <td>fa</td>\n",
       "      <td>عروس خوش‌قدم</td>\n",
       "      <td>...</td>\n",
       "      <td>0.0</td>\n",
       "      <td>101.0</td>\n",
       "      <td>[{'english_name': 'Persian', 'iso_639_1': 'fa'...</td>\n",
       "      <td>Released</td>\n",
       "      <td>NaN</td>\n",
       "      <td>The Lucky Bride</td>\n",
       "      <td>0.0</td>\n",
       "      <td>8.000</td>\n",
       "      <td>1.0</td>\n",
       "      <td>NaN</td>\n",
       "    </tr>\n",
       "    <tr>\n",
       "      <th>1293</th>\n",
       "      <td>tt8302928</td>\n",
       "      <td>0.0</td>\n",
       "      <td>NaN</td>\n",
       "      <td>NaN</td>\n",
       "      <td>0.0</td>\n",
       "      <td>[{'id': 16, 'name': 'Animation'}, {'id': 12, '...</td>\n",
       "      <td>NaN</td>\n",
       "      <td>866533.0</td>\n",
       "      <td>el</td>\n",
       "      <td>Movie Toons: Treasure Island</td>\n",
       "      <td>...</td>\n",
       "      <td>0.0</td>\n",
       "      <td>0.0</td>\n",
       "      <td>[]</td>\n",
       "      <td>Released</td>\n",
       "      <td>NaN</td>\n",
       "      <td>Movie Toons: Treasure Island</td>\n",
       "      <td>0.0</td>\n",
       "      <td>0.000</td>\n",
       "      <td>0.0</td>\n",
       "      <td>NaN</td>\n",
       "    </tr>\n",
       "    <tr>\n",
       "      <th>1294</th>\n",
       "      <td>tt8474326</td>\n",
       "      <td>0.0</td>\n",
       "      <td>NaN</td>\n",
       "      <td>NaN</td>\n",
       "      <td>0.0</td>\n",
       "      <td>[]</td>\n",
       "      <td>NaN</td>\n",
       "      <td>292027.0</td>\n",
       "      <td>en</td>\n",
       "      <td>Skin Eating Jungle Vampires</td>\n",
       "      <td>...</td>\n",
       "      <td>0.0</td>\n",
       "      <td>0.0</td>\n",
       "      <td>[]</td>\n",
       "      <td>Released</td>\n",
       "      <td>NaN</td>\n",
       "      <td>Skin Eating Jungle Vampires</td>\n",
       "      <td>0.0</td>\n",
       "      <td>0.000</td>\n",
       "      <td>0.0</td>\n",
       "      <td>NaN</td>\n",
       "    </tr>\n",
       "    <tr>\n",
       "      <th>1295</th>\n",
       "      <td>tt8825252</td>\n",
       "      <td>0.0</td>\n",
       "      <td>NaN</td>\n",
       "      <td>NaN</td>\n",
       "      <td>0.0</td>\n",
       "      <td>[{'id': 14, 'name': 'Fantasy'}]</td>\n",
       "      <td>NaN</td>\n",
       "      <td>989195.0</td>\n",
       "      <td>en</td>\n",
       "      <td>Circle of Fire: The Dark Lord Kylnor</td>\n",
       "      <td>...</td>\n",
       "      <td>0.0</td>\n",
       "      <td>45.0</td>\n",
       "      <td>[]</td>\n",
       "      <td>Released</td>\n",
       "      <td>NaN</td>\n",
       "      <td>Circle of Fire: The Dark Lord Kylnor</td>\n",
       "      <td>0.0</td>\n",
       "      <td>0.000</td>\n",
       "      <td>0.0</td>\n",
       "      <td>NaN</td>\n",
       "    </tr>\n",
       "  </tbody>\n",
       "</table>\n",
       "<p>2656 rows × 26 columns</p>\n",
       "</div>"
      ],
      "text/plain": [
       "        imdb_id  adult                     backdrop_path  \\\n",
       "0             0    NaN                               NaN   \n",
       "1     tt0035423    0.0  /tJLV3BAlHOgscVOrA99Wnb2gAef.jpg   \n",
       "2     tt0114447    0.0                               NaN   \n",
       "3     tt0116916    0.0  /rFpHBidSlhjflmnLu7BZilyKeQR.jpg   \n",
       "4     tt0118589    0.0  /9NZAirJahVilTiDNCHLFcdkwkiy.jpg   \n",
       "...         ...    ...                               ...   \n",
       "1291  tt6449044    0.0  /a9pkw8stijESGx1flSGPqcXLkHu.jpg   \n",
       "1292  tt6694126    0.0  /sXjVpTZyDvwzPVZve3AmyCUBeHk.jpg   \n",
       "1293  tt8302928    0.0                               NaN   \n",
       "1294  tt8474326    0.0                               NaN   \n",
       "1295  tt8825252    0.0                               NaN   \n",
       "\n",
       "                                  belongs_to_collection      budget  \\\n",
       "0                                                   NaN         NaN   \n",
       "1                                                   NaN  48000000.0   \n",
       "2                                                   NaN         0.0   \n",
       "3                                                   NaN         0.0   \n",
       "4                                                   NaN  22000000.0   \n",
       "...                                                 ...         ...   \n",
       "1291  {'id': 957260, 'name': 'The Conman Collection'...         0.0   \n",
       "1292                                                NaN         0.0   \n",
       "1293                                                NaN         0.0   \n",
       "1294                                                NaN         0.0   \n",
       "1295                                                NaN         0.0   \n",
       "\n",
       "                                                 genres homepage        id  \\\n",
       "0                                                   NaN      NaN       NaN   \n",
       "1     [{'id': 10749, 'name': 'Romance'}, {'id': 14, ...      NaN   11232.0   \n",
       "2     [{'id': 53, 'name': 'Thriller'}, {'id': 28, 'n...      NaN  151007.0   \n",
       "3     [{'id': 28, 'name': 'Action'}, {'id': 12, 'nam...      NaN   73549.0   \n",
       "4     [{'id': 18, 'name': 'Drama'}, {'id': 10402, 'n...      NaN   10696.0   \n",
       "...                                                 ...      ...       ...   \n",
       "1291                     [{'id': 35, 'name': 'Comedy'}]      NaN  314105.0   \n",
       "1292  [{'id': 35, 'name': 'Comedy'}, {'id': 18, 'nam...      NaN  819174.0   \n",
       "1293  [{'id': 16, 'name': 'Animation'}, {'id': 12, '...      NaN  866533.0   \n",
       "1294                                                 []      NaN  292027.0   \n",
       "1295                    [{'id': 14, 'name': 'Fantasy'}]      NaN  989195.0   \n",
       "\n",
       "     original_language                        original_title  ...     revenue  \\\n",
       "0                  NaN                                   NaN  ...         NaN   \n",
       "1                   en                        Kate & Leopold  ...  76019048.0   \n",
       "2                   en                      The Silent Force  ...         0.0   \n",
       "3                   en                         The Dark Mist  ...         0.0   \n",
       "4                   en                               Glitter  ...   5271666.0   \n",
       "...                ...                                   ...  ...         ...   \n",
       "1291                cn                                賭俠2002  ...         0.0   \n",
       "1292                fa                          عروس خوش‌قدم  ...         0.0   \n",
       "1293                el          Movie Toons: Treasure Island  ...         0.0   \n",
       "1294                en           Skin Eating Jungle Vampires  ...         0.0   \n",
       "1295                en  Circle of Fire: The Dark Lord Kylnor  ...         0.0   \n",
       "\n",
       "      runtime                                   spoken_languages    status  \\\n",
       "0         NaN                                                NaN       NaN   \n",
       "1       118.0  [{'english_name': 'French', 'iso_639_1': 'fr',...  Released   \n",
       "2        90.0  [{'english_name': 'English', 'iso_639_1': 'en'...  Released   \n",
       "3       101.0  [{'english_name': 'English', 'iso_639_1': 'en'...  Released   \n",
       "4       104.0  [{'english_name': 'English', 'iso_639_1': 'en'...  Released   \n",
       "...       ...                                                ...       ...   \n",
       "1291     97.0  [{'english_name': 'Cantonese', 'iso_639_1': 'c...  Released   \n",
       "1292    101.0  [{'english_name': 'Persian', 'iso_639_1': 'fa'...  Released   \n",
       "1293      0.0                                                 []  Released   \n",
       "1294      0.0                                                 []  Released   \n",
       "1295     45.0                                                 []  Released   \n",
       "\n",
       "                                                tagline  \\\n",
       "0                                                   NaN   \n",
       "1     If they lived in the same century, they'd be p...   \n",
       "2     They left him for dead... They should have fin...   \n",
       "3                                                   NaN   \n",
       "4      In music she found her dream, her love, herself.   \n",
       "...                                                 ...   \n",
       "1291                                                NaN   \n",
       "1292                                                NaN   \n",
       "1293                                                NaN   \n",
       "1294                                                NaN   \n",
       "1295                                                NaN   \n",
       "\n",
       "                                     title  video  vote_average vote_count  \\\n",
       "0                                      NaN    NaN           NaN        NaN   \n",
       "1                           Kate & Leopold    0.0         6.326     1245.0   \n",
       "2                         The Silent Force    0.0         5.000        3.0   \n",
       "3                            The Dark Mist    0.0         3.500        2.0   \n",
       "4                                  Glitter    0.0         4.400      132.0   \n",
       "...                                    ...    ...           ...        ...   \n",
       "1291                       The Conman 2002    0.0         4.300        3.0   \n",
       "1292                       The Lucky Bride    0.0         8.000        1.0   \n",
       "1293          Movie Toons: Treasure Island    0.0         0.000        0.0   \n",
       "1294           Skin Eating Jungle Vampires    0.0         0.000        0.0   \n",
       "1295  Circle of Fire: The Dark Lord Kylnor    0.0         0.000        0.0   \n",
       "\n",
       "     certification  \n",
       "0              NaN  \n",
       "1            PG-13  \n",
       "2              NaN  \n",
       "3               PG  \n",
       "4            PG-13  \n",
       "...            ...  \n",
       "1291           NaN  \n",
       "1292           NaN  \n",
       "1293           NaN  \n",
       "1294           NaN  \n",
       "1295           NaN  \n",
       "\n",
       "[2656 rows x 26 columns]"
      ]
     },
     "execution_count": 11,
     "metadata": {},
     "output_type": "execute_result"
    }
   ],
   "source": [
    "# Use read_csv in a list comprehension and combine with concat to load all files\n",
    "df = pd.concat([pd.read_csv(f) for f in tmdb_files] )\n",
    "df\n"
   ]
  },
  {
   "cell_type": "markdown",
   "id": "c1f4cf19-ada4-4750-8e96-0a0b8d1f3619",
   "metadata": {},
   "source": [
    "# EDA"
   ]
  },
  {
   "cell_type": "code",
   "execution_count": null,
   "id": "7a85c285-45fa-4bf3-acde-056a53aec088",
   "metadata": {},
   "outputs": [],
   "source": [
    "# Load the data from your .csv.gz file into a new DataFrame.\n",
    "#df = pd.read_csv(csv_fname)\n",
    "#df.info()\n",
    "#df.head()"
   ]
  },
  {
   "cell_type": "markdown",
   "id": "3e40cd62-9ed2-4be2-8c26-0c206e2f4af3",
   "metadata": {},
   "source": [
    "## How many movies had at least some valid financial information (values > 0 for budget OR revenue)?"
   ]
  },
  {
   "cell_type": "code",
   "execution_count": 12,
   "id": "11a88a16-0c15-4fa3-be23-516012a714d7",
   "metadata": {},
   "outputs": [
    {
     "data": {
      "text/plain": [
       "617"
      ]
     },
     "execution_count": 12,
     "metadata": {},
     "output_type": "execute_result"
    }
   ],
   "source": [
    "filter_budget = df['budget'] >0\n",
    "filter_budget.sum()"
   ]
  },
  {
   "cell_type": "code",
   "execution_count": 13,
   "id": "46a485fe-3c34-4060-b2bc-4e25010afc88",
   "metadata": {},
   "outputs": [
    {
     "data": {
      "text/plain": [
       "524"
      ]
     },
     "execution_count": 13,
     "metadata": {},
     "output_type": "execute_result"
    }
   ],
   "source": [
    "filter_revenue = df['revenue'] >0\n",
    "filter_revenue.sum()"
   ]
  },
  {
   "cell_type": "code",
   "execution_count": 14,
   "id": "ec23cb0a-f5c5-469b-add5-93716cd7a2f9",
   "metadata": {},
   "outputs": [
    {
     "data": {
      "text/plain": [
       "412"
      ]
     },
     "execution_count": 14,
     "metadata": {},
     "output_type": "execute_result"
    }
   ],
   "source": [
    "filter_financial = filter_revenue & filter_budget\n",
    "filter_financial.sum()"
   ]
  },
  {
   "cell_type": "code",
   "execution_count": 15,
   "id": "0a8197b9-478d-4712-a9d2-3e9bf743e4b2",
   "metadata": {},
   "outputs": [
    {
     "data": {
      "text/html": [
       "<div>\n",
       "<style scoped>\n",
       "    .dataframe tbody tr th:only-of-type {\n",
       "        vertical-align: middle;\n",
       "    }\n",
       "\n",
       "    .dataframe tbody tr th {\n",
       "        vertical-align: top;\n",
       "    }\n",
       "\n",
       "    .dataframe thead th {\n",
       "        text-align: right;\n",
       "    }\n",
       "</style>\n",
       "<table border=\"1\" class=\"dataframe\">\n",
       "  <thead>\n",
       "    <tr style=\"text-align: right;\">\n",
       "      <th></th>\n",
       "      <th>imdb_id</th>\n",
       "      <th>adult</th>\n",
       "      <th>backdrop_path</th>\n",
       "      <th>belongs_to_collection</th>\n",
       "      <th>budget</th>\n",
       "      <th>genres</th>\n",
       "      <th>homepage</th>\n",
       "      <th>id</th>\n",
       "      <th>original_language</th>\n",
       "      <th>original_title</th>\n",
       "      <th>...</th>\n",
       "      <th>revenue</th>\n",
       "      <th>runtime</th>\n",
       "      <th>spoken_languages</th>\n",
       "      <th>status</th>\n",
       "      <th>tagline</th>\n",
       "      <th>title</th>\n",
       "      <th>video</th>\n",
       "      <th>vote_average</th>\n",
       "      <th>vote_count</th>\n",
       "      <th>certification</th>\n",
       "    </tr>\n",
       "  </thead>\n",
       "  <tbody>\n",
       "    <tr>\n",
       "      <th>1</th>\n",
       "      <td>tt0035423</td>\n",
       "      <td>0.0</td>\n",
       "      <td>/tJLV3BAlHOgscVOrA99Wnb2gAef.jpg</td>\n",
       "      <td>NaN</td>\n",
       "      <td>48000000.0</td>\n",
       "      <td>[{'id': 10749, 'name': 'Romance'}, {'id': 14, ...</td>\n",
       "      <td>NaN</td>\n",
       "      <td>11232.0</td>\n",
       "      <td>en</td>\n",
       "      <td>Kate &amp; Leopold</td>\n",
       "      <td>...</td>\n",
       "      <td>76019048.0</td>\n",
       "      <td>118.0</td>\n",
       "      <td>[{'english_name': 'French', 'iso_639_1': 'fr',...</td>\n",
       "      <td>Released</td>\n",
       "      <td>If they lived in the same century, they'd be p...</td>\n",
       "      <td>Kate &amp; Leopold</td>\n",
       "      <td>0.0</td>\n",
       "      <td>6.326</td>\n",
       "      <td>1245.0</td>\n",
       "      <td>PG-13</td>\n",
       "    </tr>\n",
       "    <tr>\n",
       "      <th>4</th>\n",
       "      <td>tt0118589</td>\n",
       "      <td>0.0</td>\n",
       "      <td>/9NZAirJahVilTiDNCHLFcdkwkiy.jpg</td>\n",
       "      <td>NaN</td>\n",
       "      <td>22000000.0</td>\n",
       "      <td>[{'id': 18, 'name': 'Drama'}, {'id': 10402, 'n...</td>\n",
       "      <td>NaN</td>\n",
       "      <td>10696.0</td>\n",
       "      <td>en</td>\n",
       "      <td>Glitter</td>\n",
       "      <td>...</td>\n",
       "      <td>5271666.0</td>\n",
       "      <td>104.0</td>\n",
       "      <td>[{'english_name': 'English', 'iso_639_1': 'en'...</td>\n",
       "      <td>Released</td>\n",
       "      <td>In music she found her dream, her love, herself.</td>\n",
       "      <td>Glitter</td>\n",
       "      <td>0.0</td>\n",
       "      <td>4.400</td>\n",
       "      <td>132.0</td>\n",
       "      <td>PG-13</td>\n",
       "    </tr>\n",
       "    <tr>\n",
       "      <th>9</th>\n",
       "      <td>tt0120681</td>\n",
       "      <td>0.0</td>\n",
       "      <td>/xo2S7gRwCvWdVqM0Swv37yA2rzw.jpg</td>\n",
       "      <td>NaN</td>\n",
       "      <td>35000000.0</td>\n",
       "      <td>[{'id': 27, 'name': 'Horror'}, {'id': 9648, 'n...</td>\n",
       "      <td>NaN</td>\n",
       "      <td>768.0</td>\n",
       "      <td>en</td>\n",
       "      <td>From Hell</td>\n",
       "      <td>...</td>\n",
       "      <td>74558115.0</td>\n",
       "      <td>122.0</td>\n",
       "      <td>[{'english_name': 'English', 'iso_639_1': 'en'...</td>\n",
       "      <td>Released</td>\n",
       "      <td>Only the legend will survive.</td>\n",
       "      <td>From Hell</td>\n",
       "      <td>0.0</td>\n",
       "      <td>6.685</td>\n",
       "      <td>2611.0</td>\n",
       "      <td>R</td>\n",
       "    </tr>\n",
       "    <tr>\n",
       "      <th>10</th>\n",
       "      <td>tt0120737</td>\n",
       "      <td>0.0</td>\n",
       "      <td>/x2RS3uTcsJJ9IfjNPcgDmukoEcQ.jpg</td>\n",
       "      <td>{'id': 119, 'name': 'The Lord of the Rings Col...</td>\n",
       "      <td>93000000.0</td>\n",
       "      <td>[{'id': 12, 'name': 'Adventure'}, {'id': 14, '...</td>\n",
       "      <td>http://www.lordoftherings.net/</td>\n",
       "      <td>120.0</td>\n",
       "      <td>en</td>\n",
       "      <td>The Lord of the Rings: The Fellowship of the Ring</td>\n",
       "      <td>...</td>\n",
       "      <td>871368364.0</td>\n",
       "      <td>179.0</td>\n",
       "      <td>[{'english_name': 'English', 'iso_639_1': 'en'...</td>\n",
       "      <td>Released</td>\n",
       "      <td>One ring to rule them all</td>\n",
       "      <td>The Lord of the Rings: The Fellowship of the Ring</td>\n",
       "      <td>0.0</td>\n",
       "      <td>8.406</td>\n",
       "      <td>23644.0</td>\n",
       "      <td>PG-13</td>\n",
       "    </tr>\n",
       "    <tr>\n",
       "      <th>12</th>\n",
       "      <td>tt0120824</td>\n",
       "      <td>0.0</td>\n",
       "      <td>/gnyGSoVKOIz1BR34lIBuuTq0Znl.jpg</td>\n",
       "      <td>NaN</td>\n",
       "      <td>38000000.0</td>\n",
       "      <td>[{'id': 18, 'name': 'Drama'}, {'id': 10749, 'n...</td>\n",
       "      <td>http://www.miramax.com/movie/the-shipping-news</td>\n",
       "      <td>6440.0</td>\n",
       "      <td>en</td>\n",
       "      <td>The Shipping News</td>\n",
       "      <td>...</td>\n",
       "      <td>24690441.0</td>\n",
       "      <td>111.0</td>\n",
       "      <td>[{'english_name': 'English', 'iso_639_1': 'en'...</td>\n",
       "      <td>Released</td>\n",
       "      <td>You'll never guess what you'll find inside...</td>\n",
       "      <td>The Shipping News</td>\n",
       "      <td>0.0</td>\n",
       "      <td>6.321</td>\n",
       "      <td>344.0</td>\n",
       "      <td>R</td>\n",
       "    </tr>\n",
       "    <tr>\n",
       "      <th>...</th>\n",
       "      <td>...</td>\n",
       "      <td>...</td>\n",
       "      <td>...</td>\n",
       "      <td>...</td>\n",
       "      <td>...</td>\n",
       "      <td>...</td>\n",
       "      <td>...</td>\n",
       "      <td>...</td>\n",
       "      <td>...</td>\n",
       "      <td>...</td>\n",
       "      <td>...</td>\n",
       "      <td>...</td>\n",
       "      <td>...</td>\n",
       "      <td>...</td>\n",
       "      <td>...</td>\n",
       "      <td>...</td>\n",
       "      <td>...</td>\n",
       "      <td>...</td>\n",
       "      <td>...</td>\n",
       "      <td>...</td>\n",
       "      <td>...</td>\n",
       "    </tr>\n",
       "    <tr>\n",
       "      <th>1130</th>\n",
       "      <td>tt0364385</td>\n",
       "      <td>0.0</td>\n",
       "      <td>/3ZDkl8rsoLe6g4FRV9alNH5sZOt.jpg</td>\n",
       "      <td>{'id': 1972, 'name': 'Ju-on Collection', 'post...</td>\n",
       "      <td>3500000.0</td>\n",
       "      <td>[{'id': 27, 'name': 'Horror'}]</td>\n",
       "      <td>NaN</td>\n",
       "      <td>11838.0</td>\n",
       "      <td>ja</td>\n",
       "      <td>呪怨</td>\n",
       "      <td>...</td>\n",
       "      <td>3657876.0</td>\n",
       "      <td>92.0</td>\n",
       "      <td>[{'english_name': 'Japanese', 'iso_639_1': 'ja...</td>\n",
       "      <td>Released</td>\n",
       "      <td>When a grudge from the dead passes to the livi...</td>\n",
       "      <td>Ju-on: The Grudge</td>\n",
       "      <td>0.0</td>\n",
       "      <td>6.700</td>\n",
       "      <td>714.0</td>\n",
       "      <td>R</td>\n",
       "    </tr>\n",
       "    <tr>\n",
       "      <th>1138</th>\n",
       "      <td>tt0365960</td>\n",
       "      <td>0.0</td>\n",
       "      <td>/ahXtNFVHtFxvjphZN8QlHRVsu9W.jpg</td>\n",
       "      <td>NaN</td>\n",
       "      <td>20000.0</td>\n",
       "      <td>[{'id': 80, 'name': 'Crime'}, {'id': 18, 'name...</td>\n",
       "      <td>NaN</td>\n",
       "      <td>27090.0</td>\n",
       "      <td>en</td>\n",
       "      <td>Zero Day</td>\n",
       "      <td>...</td>\n",
       "      <td>8466.0</td>\n",
       "      <td>92.0</td>\n",
       "      <td>[{'english_name': 'German', 'iso_639_1': 'de',...</td>\n",
       "      <td>Released</td>\n",
       "      <td>In high school, you're told you can do anythin...</td>\n",
       "      <td>Zero Day</td>\n",
       "      <td>0.0</td>\n",
       "      <td>7.400</td>\n",
       "      <td>79.0</td>\n",
       "      <td>NR</td>\n",
       "    </tr>\n",
       "    <tr>\n",
       "      <th>1225</th>\n",
       "      <td>tt0757920</td>\n",
       "      <td>0.0</td>\n",
       "      <td>/sOkmFOVcDmH2P4GU9Mvyc4ZBC3D.jpg</td>\n",
       "      <td>NaN</td>\n",
       "      <td>10000.0</td>\n",
       "      <td>[{'id': 18, 'name': 'Drama'}, {'id': 10749, 'n...</td>\n",
       "      <td>NaN</td>\n",
       "      <td>44078.0</td>\n",
       "      <td>fa</td>\n",
       "      <td>Dokhtar-e shirini-foroosh</td>\n",
       "      <td>...</td>\n",
       "      <td>10000.0</td>\n",
       "      <td>105.0</td>\n",
       "      <td>[{'english_name': 'Persian', 'iso_639_1': 'fa'...</td>\n",
       "      <td>Released</td>\n",
       "      <td>NaN</td>\n",
       "      <td>The Pastry Girl</td>\n",
       "      <td>0.0</td>\n",
       "      <td>1.000</td>\n",
       "      <td>1.0</td>\n",
       "      <td>NaN</td>\n",
       "    </tr>\n",
       "    <tr>\n",
       "      <th>1241</th>\n",
       "      <td>tt1039983</td>\n",
       "      <td>0.0</td>\n",
       "      <td>/7B5IQdNNyNsSwBaW9zzCT9XmAcJ.jpg</td>\n",
       "      <td>NaN</td>\n",
       "      <td>500000.0</td>\n",
       "      <td>[{'id': 28, 'name': 'Action'}, {'id': 80, 'nam...</td>\n",
       "      <td>NaN</td>\n",
       "      <td>69419.0</td>\n",
       "      <td>ta</td>\n",
       "      <td>ரெட்</td>\n",
       "      <td>...</td>\n",
       "      <td>500000.0</td>\n",
       "      <td>157.0</td>\n",
       "      <td>[{'english_name': 'Tamil', 'iso_639_1': 'ta', ...</td>\n",
       "      <td>Released</td>\n",
       "      <td>NaN</td>\n",
       "      <td>Red</td>\n",
       "      <td>0.0</td>\n",
       "      <td>5.100</td>\n",
       "      <td>7.0</td>\n",
       "      <td>NaN</td>\n",
       "    </tr>\n",
       "    <tr>\n",
       "      <th>1262</th>\n",
       "      <td>tt1621767</td>\n",
       "      <td>0.0</td>\n",
       "      <td>NaN</td>\n",
       "      <td>NaN</td>\n",
       "      <td>400000.0</td>\n",
       "      <td>[{'id': 10749, 'name': 'Romance'}]</td>\n",
       "      <td>NaN</td>\n",
       "      <td>99116.0</td>\n",
       "      <td>ta</td>\n",
       "      <td>ஏப்ரல் மாதத்தில்</td>\n",
       "      <td>...</td>\n",
       "      <td>2000000.0</td>\n",
       "      <td>153.0</td>\n",
       "      <td>[{'english_name': 'Tamil', 'iso_639_1': 'ta', ...</td>\n",
       "      <td>Released</td>\n",
       "      <td>NaN</td>\n",
       "      <td>April Maadhathil</td>\n",
       "      <td>0.0</td>\n",
       "      <td>4.600</td>\n",
       "      <td>4.0</td>\n",
       "      <td>NaN</td>\n",
       "    </tr>\n",
       "  </tbody>\n",
       "</table>\n",
       "<p>412 rows × 26 columns</p>\n",
       "</div>"
      ],
      "text/plain": [
       "        imdb_id  adult                     backdrop_path  \\\n",
       "1     tt0035423    0.0  /tJLV3BAlHOgscVOrA99Wnb2gAef.jpg   \n",
       "4     tt0118589    0.0  /9NZAirJahVilTiDNCHLFcdkwkiy.jpg   \n",
       "9     tt0120681    0.0  /xo2S7gRwCvWdVqM0Swv37yA2rzw.jpg   \n",
       "10    tt0120737    0.0  /x2RS3uTcsJJ9IfjNPcgDmukoEcQ.jpg   \n",
       "12    tt0120824    0.0  /gnyGSoVKOIz1BR34lIBuuTq0Znl.jpg   \n",
       "...         ...    ...                               ...   \n",
       "1130  tt0364385    0.0  /3ZDkl8rsoLe6g4FRV9alNH5sZOt.jpg   \n",
       "1138  tt0365960    0.0  /ahXtNFVHtFxvjphZN8QlHRVsu9W.jpg   \n",
       "1225  tt0757920    0.0  /sOkmFOVcDmH2P4GU9Mvyc4ZBC3D.jpg   \n",
       "1241  tt1039983    0.0  /7B5IQdNNyNsSwBaW9zzCT9XmAcJ.jpg   \n",
       "1262  tt1621767    0.0                               NaN   \n",
       "\n",
       "                                  belongs_to_collection      budget  \\\n",
       "1                                                   NaN  48000000.0   \n",
       "4                                                   NaN  22000000.0   \n",
       "9                                                   NaN  35000000.0   \n",
       "10    {'id': 119, 'name': 'The Lord of the Rings Col...  93000000.0   \n",
       "12                                                  NaN  38000000.0   \n",
       "...                                                 ...         ...   \n",
       "1130  {'id': 1972, 'name': 'Ju-on Collection', 'post...   3500000.0   \n",
       "1138                                                NaN     20000.0   \n",
       "1225                                                NaN     10000.0   \n",
       "1241                                                NaN    500000.0   \n",
       "1262                                                NaN    400000.0   \n",
       "\n",
       "                                                 genres  \\\n",
       "1     [{'id': 10749, 'name': 'Romance'}, {'id': 14, ...   \n",
       "4     [{'id': 18, 'name': 'Drama'}, {'id': 10402, 'n...   \n",
       "9     [{'id': 27, 'name': 'Horror'}, {'id': 9648, 'n...   \n",
       "10    [{'id': 12, 'name': 'Adventure'}, {'id': 14, '...   \n",
       "12    [{'id': 18, 'name': 'Drama'}, {'id': 10749, 'n...   \n",
       "...                                                 ...   \n",
       "1130                     [{'id': 27, 'name': 'Horror'}]   \n",
       "1138  [{'id': 80, 'name': 'Crime'}, {'id': 18, 'name...   \n",
       "1225  [{'id': 18, 'name': 'Drama'}, {'id': 10749, 'n...   \n",
       "1241  [{'id': 28, 'name': 'Action'}, {'id': 80, 'nam...   \n",
       "1262                 [{'id': 10749, 'name': 'Romance'}]   \n",
       "\n",
       "                                            homepage       id  \\\n",
       "1                                                NaN  11232.0   \n",
       "4                                                NaN  10696.0   \n",
       "9                                                NaN    768.0   \n",
       "10                    http://www.lordoftherings.net/    120.0   \n",
       "12    http://www.miramax.com/movie/the-shipping-news   6440.0   \n",
       "...                                              ...      ...   \n",
       "1130                                             NaN  11838.0   \n",
       "1138                                             NaN  27090.0   \n",
       "1225                                             NaN  44078.0   \n",
       "1241                                             NaN  69419.0   \n",
       "1262                                             NaN  99116.0   \n",
       "\n",
       "     original_language                                     original_title  \\\n",
       "1                   en                                     Kate & Leopold   \n",
       "4                   en                                            Glitter   \n",
       "9                   en                                          From Hell   \n",
       "10                  en  The Lord of the Rings: The Fellowship of the Ring   \n",
       "12                  en                                  The Shipping News   \n",
       "...                ...                                                ...   \n",
       "1130                ja                                                 呪怨   \n",
       "1138                en                                           Zero Day   \n",
       "1225                fa                          Dokhtar-e shirini-foroosh   \n",
       "1241                ta                                               ரெட்   \n",
       "1262                ta                                   ஏப்ரல் மாதத்தில்   \n",
       "\n",
       "      ...      revenue  runtime  \\\n",
       "1     ...   76019048.0    118.0   \n",
       "4     ...    5271666.0    104.0   \n",
       "9     ...   74558115.0    122.0   \n",
       "10    ...  871368364.0    179.0   \n",
       "12    ...   24690441.0    111.0   \n",
       "...   ...          ...      ...   \n",
       "1130  ...    3657876.0     92.0   \n",
       "1138  ...       8466.0     92.0   \n",
       "1225  ...      10000.0    105.0   \n",
       "1241  ...     500000.0    157.0   \n",
       "1262  ...    2000000.0    153.0   \n",
       "\n",
       "                                       spoken_languages    status  \\\n",
       "1     [{'english_name': 'French', 'iso_639_1': 'fr',...  Released   \n",
       "4     [{'english_name': 'English', 'iso_639_1': 'en'...  Released   \n",
       "9     [{'english_name': 'English', 'iso_639_1': 'en'...  Released   \n",
       "10    [{'english_name': 'English', 'iso_639_1': 'en'...  Released   \n",
       "12    [{'english_name': 'English', 'iso_639_1': 'en'...  Released   \n",
       "...                                                 ...       ...   \n",
       "1130  [{'english_name': 'Japanese', 'iso_639_1': 'ja...  Released   \n",
       "1138  [{'english_name': 'German', 'iso_639_1': 'de',...  Released   \n",
       "1225  [{'english_name': 'Persian', 'iso_639_1': 'fa'...  Released   \n",
       "1241  [{'english_name': 'Tamil', 'iso_639_1': 'ta', ...  Released   \n",
       "1262  [{'english_name': 'Tamil', 'iso_639_1': 'ta', ...  Released   \n",
       "\n",
       "                                                tagline  \\\n",
       "1     If they lived in the same century, they'd be p...   \n",
       "4      In music she found her dream, her love, herself.   \n",
       "9                         Only the legend will survive.   \n",
       "10                            One ring to rule them all   \n",
       "12        You'll never guess what you'll find inside...   \n",
       "...                                                 ...   \n",
       "1130  When a grudge from the dead passes to the livi...   \n",
       "1138  In high school, you're told you can do anythin...   \n",
       "1225                                                NaN   \n",
       "1241                                                NaN   \n",
       "1262                                                NaN   \n",
       "\n",
       "                                                  title  video  vote_average  \\\n",
       "1                                        Kate & Leopold    0.0         6.326   \n",
       "4                                               Glitter    0.0         4.400   \n",
       "9                                             From Hell    0.0         6.685   \n",
       "10    The Lord of the Rings: The Fellowship of the Ring    0.0         8.406   \n",
       "12                                    The Shipping News    0.0         6.321   \n",
       "...                                                 ...    ...           ...   \n",
       "1130                                  Ju-on: The Grudge    0.0         6.700   \n",
       "1138                                           Zero Day    0.0         7.400   \n",
       "1225                                    The Pastry Girl    0.0         1.000   \n",
       "1241                                                Red    0.0         5.100   \n",
       "1262                                   April Maadhathil    0.0         4.600   \n",
       "\n",
       "     vote_count certification  \n",
       "1        1245.0         PG-13  \n",
       "4         132.0         PG-13  \n",
       "9        2611.0             R  \n",
       "10      23644.0         PG-13  \n",
       "12        344.0             R  \n",
       "...         ...           ...  \n",
       "1130      714.0             R  \n",
       "1138       79.0            NR  \n",
       "1225        1.0           NaN  \n",
       "1241        7.0           NaN  \n",
       "1262        4.0           NaN  \n",
       "\n",
       "[412 rows x 26 columns]"
      ]
     },
     "execution_count": 15,
     "metadata": {},
     "output_type": "execute_result"
    }
   ],
   "source": [
    "# Remove any movies with 0's for budget AND revenue from the remaining visualizations.\n",
    "df = df[filter_financial]\n",
    "df"
   ]
  },
  {
   "cell_type": "code",
   "execution_count": 16,
   "id": "b97d6852-7927-41c8-b9ab-035e316e9c43",
   "metadata": {},
   "outputs": [
    {
     "name": "stdout",
     "output_type": "stream",
     "text": [
      "There are 412 movies with valid budget/revenue.\n"
     ]
    }
   ],
   "source": [
    "print(f\"There are {len(df)} movies with valid budget/revenue.\")"
   ]
  },
  {
   "cell_type": "markdown",
   "id": "ed96dfa2-57f3-4f3d-9582-be12eee344da",
   "metadata": {},
   "source": [
    "## How many movies are there in each of the certification categories (G/PG/PG-13/R)?"
   ]
  },
  {
   "cell_type": "code",
   "execution_count": 17,
   "id": "937db868-a155-442f-bbe5-2e1a07426ab7",
   "metadata": {},
   "outputs": [
    {
     "data": {
      "text/plain": [
       "R        137\n",
       "PG-13    122\n",
       "NaN      105\n",
       "PG        31\n",
       "G         11\n",
       "NR         6\n",
       "Name: certification, dtype: int64"
      ]
     },
     "execution_count": 17,
     "metadata": {},
     "output_type": "execute_result"
    },
    {
     "data": {
      "image/png": "[encoded data removed]",
      "text/plain": [
       "<Figure size 640x480 with 1 Axes>"
      ]
     },
     "metadata": {},
     "output_type": "display_data"
    }
   ],
   "source": [
    "import seaborn as sns\n",
    "sns.countplot(data=df, x='certification');\n",
    "df['certification'].value_counts(dropna=False)"
   ]
  },
  {
   "cell_type": "markdown",
   "id": "00e89860-da57-4037-bc81-5ee39e60379a",
   "metadata": {},
   "source": [
    "## What is the average revenue per certification category?"
   ]
  },
  {
   "cell_type": "code",
   "execution_count": 18,
   "id": "53f3f412-48dc-437a-b6fe-e0f397477a94",
   "metadata": {},
   "outputs": [
    {
     "data": {
      "text/plain": [
       "certification\n",
       "G       $ 140,116,409\n",
       "NR        $ 4,809,200\n",
       "PG      $ 197,808,684\n",
       "PG-13   $ 109,231,217\n",
       "R        $ 44,102,031\n",
       "Name: revenue, dtype: float64"
      ]
     },
     "metadata": {},
     "output_type": "display_data"
    },
    {
     "data": {
      "image/png": "[encoded data removed]",
      "text/plain": [
       "<Figure size 640x480 with 1 Axes>"
      ]
     },
     "metadata": {},
     "output_type": "display_data"
    }
   ],
   "source": [
    "with pd.option_context('display.float_format',lambda x: f\"$ {x:,.0f}\"):\n",
    "    display(df.groupby('certification')['revenue'].mean())\n",
    "\n",
    "sns.barplot(data=df, x='certification', y='revenue');"
   ]
  },
  {
   "cell_type": "markdown",
   "id": "f353ceb1-64b2-4358-ba27-c4ce6f9335d9",
   "metadata": {},
   "source": [
    "## What is the average budget per certification category?"
   ]
  },
  {
   "cell_type": "code",
   "execution_count": 19,
   "id": "a515a44e-02a3-474b-99be-f26c6ff74a6e",
   "metadata": {},
   "outputs": [
    {
     "data": {
      "text/plain": [
       "certification\n",
       "G       $ 47,818,182\n",
       "NR       $ 3,803,333\n",
       "PG      $ 54,325,717\n",
       "PG-13   $ 44,384,248\n",
       "R       $ 26,776,278\n",
       "Name: budget, dtype: float64"
      ]
     },
     "metadata": {},
     "output_type": "display_data"
    },
    {
     "data": {
      "image/png": "[encoded data removed]",
      "text/plain": [
       "<Figure size 640x480 with 1 Axes>"
      ]
     },
     "metadata": {},
     "output_type": "display_data"
    }
   ],
   "source": [
    "with pd.option_context('display.float_format',lambda x: f\"$ {x:,.0f}\"):\n",
    "    display(df.groupby('certification')['budget'].mean())\n",
    "\n",
    "sns.barplot(data=df, x='certification', y='budget');"
   ]
  },
  {
   "cell_type": "code",
   "execution_count": 20,
   "id": "8dc8a9c6-09ae-4784-9e33-65bbf6d3ce00",
   "metadata": {},
   "outputs": [
    {
     "name": "stdout",
     "output_type": "stream",
     "text": [
      "<class 'pandas.core.frame.DataFrame'>\n",
      "Int64Index: 412 entries, 1 to 1262\n",
      "Data columns (total 26 columns):\n",
      " #   Column                 Non-Null Count  Dtype  \n",
      "---  ------                 --------------  -----  \n",
      " 0   imdb_id                412 non-null    object \n",
      " 1   adult                  412 non-null    float64\n",
      " 2   backdrop_path          402 non-null    object \n",
      " 3   belongs_to_collection  95 non-null     object \n",
      " 4   budget                 412 non-null    float64\n",
      " 5   genres                 412 non-null    object \n",
      " 6   homepage               81 non-null     object \n",
      " 7   id                     412 non-null    float64\n",
      " 8   original_language      412 non-null    object \n",
      " 9   original_title         412 non-null    object \n",
      " 10  overview               412 non-null    object \n",
      " 11  popularity             412 non-null    float64\n",
      " 12  poster_path            411 non-null    object \n",
      " 13  production_companies   412 non-null    object \n",
      " 14  production_countries   412 non-null    object \n",
      " 15  release_date           412 non-null    object \n",
      " 16  revenue                412 non-null    float64\n",
      " 17  runtime                412 non-null    float64\n",
      " 18  spoken_languages       412 non-null    object \n",
      " 19  status                 412 non-null    object \n",
      " 20  tagline                363 non-null    object \n",
      " 21  title                  412 non-null    object \n",
      " 22  video                  412 non-null    float64\n",
      " 23  vote_average           412 non-null    float64\n",
      " 24  vote_count             412 non-null    float64\n",
      " 25  certification          307 non-null    object \n",
      "dtypes: float64(9), object(17)\n",
      "memory usage: 86.9+ KB\n"
     ]
    }
   ],
   "source": [
    "df.info()"
   ]
  }
 ],
 "metadata": {
  "kernelspec": {
   "display_name": "Python (dojo-env)",
   "language": "python",
   "name": "dojo-env"
  },
  "language_info": {
   "codemirror_mode": {
    "name": "ipython",
    "version": 3
   },
   "file_extension": ".py",
   "mimetype": "text/x-python",
   "name": "python",
   "nbconvert_exporter": "python",
   "pygments_lexer": "ipython3",
   "version": "3.10.10"
  },
  "widgets": {
   "application/vnd.jupyter.widget-state+json": {
    "state": {
     "02ce771add794da4936c0d067637a698": {
      "model_module": "@jupyter-widgets/base",
      "model_module_version": "2.0.0",
      "model_name": "LayoutModel",
      "state": {}
     },
     "0440d5d6a6fa40c9b583d5da66fc6769": {
      "model_module": "@jupyter-widgets/controls",
      "model_module_version": "2.0.0",
      "model_name": "HTMLStyleModel",
      "state": {
       "description_width": "",
       "font_size": null,
       "text_color": null
      }
     },
     "07c72a0040f34954b0a584e584517527": {
      "model_module": "@jupyter-widgets/base",
      "model_module_version": "2.0.0",
      "model_name": "LayoutModel",
      "state": {}
     },
     "0959e6d59659482995bc44cd8ede56bd": {
      "model_module": "@jupyter-widgets/controls",
      "model_module_version": "2.0.0",
      "model_name": "HTMLModel",
      "state": {
       "layout": "IPY_MODEL_294434cc1c2549a3936c28fa8e92c427",
       "style": "IPY_MODEL_0440d5d6a6fa40c9b583d5da66fc6769",
       "value": "Movies from 2002: 100%"
      }
     },
     "09ce641ee06148be833e6b7bb5ccb31b": {
      "model_module": "@jupyter-widgets/controls",
      "model_module_version": "2.0.0",
      "model_name": "ProgressStyleModel",
      "state": {
       "description_width": ""
      }
     },
     "102f92a0c6c24bf79b6f582ef063458a": {
      "model_module": "@jupyter-widgets/controls",
      "model_module_version": "2.0.0",
      "model_name": "ProgressStyleModel",
      "state": {
       "description_width": ""
      }
     },
     "1b17b149a8b44c8c93f3ee43db036b5e": {
      "model_module": "@jupyter-widgets/controls",
      "model_module_version": "2.0.0",
      "model_name": "ProgressStyleModel",
      "state": {
       "description_width": ""
      }
     },
     "1e07a83573604f2cb70254ebe9809f48": {
      "model_module": "@jupyter-widgets/controls",
      "model_module_version": "2.0.0",
      "model_name": "HTMLStyleModel",
      "state": {
       "description_width": "",
       "font_size": null,
       "text_color": null
      }
     },
     "2667ca35b370495dac848e6f6a38864e": {
      "model_module": "@jupyter-widgets/controls",
      "model_module_version": "2.0.0",
      "model_name": "FloatProgressModel",
      "state": {
       "bar_style": "success",
       "layout": "IPY_MODEL_d8684b1dd4244794bae0ea7ecb71bc53",
       "max": 217,
       "style": "IPY_MODEL_1b17b149a8b44c8c93f3ee43db036b5e",
       "value": 217
      }
     },
     "294434cc1c2549a3936c28fa8e92c427": {
      "model_module": "@jupyter-widgets/base",
      "model_module_version": "2.0.0",
      "model_name": "LayoutModel",
      "state": {}
     },
     "29edff56042e4a8296f34fe54a50a24d": {
      "model_module": "@jupyter-widgets/controls",
      "model_module_version": "2.0.0",
      "model_name": "HBoxModel",
      "state": {
       "children": [
        "IPY_MODEL_408941ec182d4f89890049780ddbf7f4",
        "IPY_MODEL_2667ca35b370495dac848e6f6a38864e",
        "IPY_MODEL_8736ca1123784a6d9a0472aa785ad40c"
       ],
       "layout": "IPY_MODEL_ca6080490ed6466ab00f1bea23419d67"
      }
     },
     "3bfc9d1d2e7045949ffeed6c308472b4": {
      "model_module": "@jupyter-widgets/controls",
      "model_module_version": "2.0.0",
      "model_name": "HBoxModel",
      "state": {
       "children": [
        "IPY_MODEL_c55133fd49444e839ee6ba50cfed5afc",
        "IPY_MODEL_911553fd58024c4b872d7cf5799aeabc",
        "IPY_MODEL_d6138e233b8a4bdbbbc55a0b03f47f33"
       ],
       "layout": "IPY_MODEL_02ce771add794da4936c0d067637a698"
      }
     },
     "408941ec182d4f89890049780ddbf7f4": {
      "model_module": "@jupyter-widgets/controls",
      "model_module_version": "2.0.0",
      "model_name": "HTMLModel",
      "state": {
       "layout": "IPY_MODEL_e7100384b82b4260aaf80bc464c22668",
       "style": "IPY_MODEL_4d04f0307b664e57b6d0820b0d74d36f",
       "value": "Movies from 2001: 100%"
      }
     },
     "4d04f0307b664e57b6d0820b0d74d36f": {
      "model_module": "@jupyter-widgets/controls",
      "model_module_version": "2.0.0",
      "model_name": "HTMLStyleModel",
      "state": {
       "description_width": "",
       "font_size": null,
       "text_color": null
      }
     },
     "55cc5cce3e23479195ea4a1d0d6f05b1": {
      "model_module": "@jupyter-widgets/base",
      "model_module_version": "2.0.0",
      "model_name": "LayoutModel",
      "state": {}
     },
     "57679f45b4ba4a6791d3447b7969e16c": {
      "model_module": "@jupyter-widgets/base",
      "model_module_version": "2.0.0",
      "model_name": "LayoutModel",
      "state": {}
     },
     "7490a012b32b433abfdcad817e6fcf72": {
      "model_module": "@jupyter-widgets/base",
      "model_module_version": "2.0.0",
      "model_name": "LayoutModel",
      "state": {}
     },
     "8736ca1123784a6d9a0472aa785ad40c": {
      "model_module": "@jupyter-widgets/controls",
      "model_module_version": "2.0.0",
      "model_name": "HTMLModel",
      "state": {
       "layout": "IPY_MODEL_07c72a0040f34954b0a584e584517527",
       "style": "IPY_MODEL_9879d1ae657f45b5a616494993d7cfe4",
       "value": " 217/217 [00:00&lt;00:00, 21944.88it/s]"
      }
     },
     "90cd700344984aa7bc597e5a45053114": {
      "model_module": "@jupyter-widgets/controls",
      "model_module_version": "2.0.0",
      "model_name": "HTMLStyleModel",
      "state": {
       "description_width": "",
       "font_size": null,
       "text_color": null
      }
     },
     "911553fd58024c4b872d7cf5799aeabc": {
      "model_module": "@jupyter-widgets/controls",
      "model_module_version": "2.0.0",
      "model_name": "FloatProgressModel",
      "state": {
       "bar_style": "success",
       "layout": "IPY_MODEL_57679f45b4ba4a6791d3447b7969e16c",
       "max": 2,
       "style": "IPY_MODEL_09ce641ee06148be833e6b7bb5ccb31b",
       "value": 2
      }
     },
     "9879d1ae657f45b5a616494993d7cfe4": {
      "model_module": "@jupyter-widgets/controls",
      "model_module_version": "2.0.0",
      "model_name": "HTMLStyleModel",
      "state": {
       "description_width": "",
       "font_size": null,
       "text_color": null
      }
     },
     "a09eef6230a94d3c9171e5ff783862d9": {
      "model_module": "@jupyter-widgets/controls",
      "model_module_version": "2.0.0",
      "model_name": "HBoxModel",
      "state": {
       "children": [
        "IPY_MODEL_0959e6d59659482995bc44cd8ede56bd",
        "IPY_MODEL_e5b1809908f5412b9a7628a212663bbe",
        "IPY_MODEL_abe292a7a0334a2494fdebfcb503e2b8"
       ],
       "layout": "IPY_MODEL_daf2051e11ab4a33a9ef51e68eb57b49"
      }
     },
     "abe292a7a0334a2494fdebfcb503e2b8": {
      "model_module": "@jupyter-widgets/controls",
      "model_module_version": "2.0.0",
      "model_name": "HTMLModel",
      "state": {
       "layout": "IPY_MODEL_55cc5cce3e23479195ea4a1d0d6f05b1",
       "style": "IPY_MODEL_f78e39a673a5447684f900bc916ad903",
       "value": " 277/277 [00:00&lt;00:00, 27377.58it/s]"
      }
     },
     "b1a25221a55741ac906e9f54a7403e18": {
      "model_module": "@jupyter-widgets/base",
      "model_module_version": "2.0.0",
      "model_name": "LayoutModel",
      "state": {}
     },
     "c55133fd49444e839ee6ba50cfed5afc": {
      "model_module": "@jupyter-widgets/controls",
      "model_module_version": "2.0.0",
      "model_name": "HTMLModel",
      "state": {
       "layout": "IPY_MODEL_7490a012b32b433abfdcad817e6fcf72",
       "style": "IPY_MODEL_90cd700344984aa7bc597e5a45053114",
       "value": "YEARS: 100%"
      }
     },
     "ca6080490ed6466ab00f1bea23419d67": {
      "model_module": "@jupyter-widgets/base",
      "model_module_version": "2.0.0",
      "model_name": "LayoutModel",
      "state": {}
     },
     "d6138e233b8a4bdbbbc55a0b03f47f33": {
      "model_module": "@jupyter-widgets/controls",
      "model_module_version": "2.0.0",
      "model_name": "HTMLModel",
      "state": {
       "layout": "IPY_MODEL_df4a4c4ffba74789988be73459a0d4b0",
       "style": "IPY_MODEL_1e07a83573604f2cb70254ebe9809f48",
       "value": " 2/2 [00:00&lt;00:00,  4.18it/s]"
      }
     },
     "d8684b1dd4244794bae0ea7ecb71bc53": {
      "model_module": "@jupyter-widgets/base",
      "model_module_version": "2.0.0",
      "model_name": "LayoutModel",
      "state": {}
     },
     "daf2051e11ab4a33a9ef51e68eb57b49": {
      "model_module": "@jupyter-widgets/base",
      "model_module_version": "2.0.0",
      "model_name": "LayoutModel",
      "state": {}
     },
     "df4a4c4ffba74789988be73459a0d4b0": {
      "model_module": "@jupyter-widgets/base",
      "model_module_version": "2.0.0",
      "model_name": "LayoutModel",
      "state": {}
     },
     "e5b1809908f5412b9a7628a212663bbe": {
      "model_module": "@jupyter-widgets/controls",
      "model_module_version": "2.0.0",
      "model_name": "FloatProgressModel",
      "state": {
       "bar_style": "success",
       "layout": "IPY_MODEL_b1a25221a55741ac906e9f54a7403e18",
       "max": 277,
       "style": "IPY_MODEL_102f92a0c6c24bf79b6f582ef063458a",
       "value": 277
      }
     },
     "e7100384b82b4260aaf80bc464c22668": {
      "model_module": "@jupyter-widgets/base",
      "model_module_version": "2.0.0",
      "model_name": "LayoutModel",
      "state": {}
     },
     "f78e39a673a5447684f900bc916ad903": {
      "model_module": "@jupyter-widgets/controls",
      "model_module_version": "2.0.0",
      "model_name": "HTMLStyleModel",
      "state": {
       "description_width": "",
       "font_size": null,
       "text_color": null
      }
     }
    },
    "version_major": 2,
    "version_minor": 0
   }
  }
 },
 "nbformat": 4,
 "nbformat_minor": 5
}
